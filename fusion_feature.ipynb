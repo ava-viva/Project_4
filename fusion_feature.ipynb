{
  "cells": [
    {
      "cell_type": "code",
      "execution_count": 50,
      "id": "718e76bd",
      "metadata": {
        "id": "718e76bd"
      },
      "outputs": [],
      "source": [
        "#importing libraries\n",
        "import pandas as pd\n",
        "import numpy as np\n",
        "from sklearn.model_selection import train_test_split\n",
        "from sklearn.preprocessing import StandardScaler\n",
        "from sklearn.metrics import classification_report\n",
        "from tensorflow.keras.regularizers import l2\n",
        "import tensorflow as tf\n",
        "import seaborn as sns\n",
        "import matplotlib.pyplot as plt"
      ]
    },
    {
      "cell_type": "code",
      "execution_count": 51,
      "id": "b888e571",
      "metadata": {
        "id": "b888e571"
      },
      "outputs": [],
      "source": [
        "# Read the databases from resources\n",
        "health_factors = pd.read_csv(\"/content/Health_Risk_factors.csv\")\n",
        "agriculture = pd.read_csv(\"/content/agricultural_inputs.csv\")\n",
        "climate = pd.read_csv(\"/content/climate.csv\")\n",
        "freshwater = pd.read_csv(\"/content/freshwater.csv\")\n",
        "health_system = pd.read_csv(\"/content/health_system.csv\")\n"
      ]
    },
    {
      "cell_type": "code",
      "source": [
        "hf = health_factors.rename(columns={\n",
        "    \"Incidence of tuberculosis  per 100,000 people 2018\": \"tuberculosis\",\n",
        "    \"Prevalence of HIV Total % of population ages 15-49 2018\": \"HIV_total\",\n",
        "    \"Prevalence of HIV Women's share of population ages 15+ living with HIV % 2018\": \"HIV_female\",\n",
        "    \"Prevalence of HIV Youth, Male % of population ages 15-24 2018\": \"HIV_youth_male\",\n",
        "    \"Prevalence of HIV Youth, Female % of population ages 15-24 2018\": \"HIV_youth_female\",\n",
        "    \"Prevalence of diabetes  % of population ages 20 to 79 2019\": \"diabetes\",\n",
        "    \"Cause of death Communicable diseases and maternal, prenatal, and nutrition conditions % of population 2016\":\"Diseases_death\",\n",
        "})\n",
        "hs = health_system.rename(columns={\n",
        "    'External health expenditure (% of current health expenditure)   2016': \"ext_health_expend\",\n",
        "    \"Health expenditure Public % of current 2016\": \"public_health_expend\",\n",
        "    \"Health workers Physicians per 1,000 people 2009-18\": \"physicians\",\n",
        "    \"Health workers Nurses and midwives per 1,000 people 2009-18\": \"nurses\",\n",
        "    \"Specialist surgical workforce  per 100,000 population 2008-18\": \"surgeries\"\n",
        "     })\n",
        "fw = freshwater.rename(columns={\n",
        "    'Annual freshwater withdrawals  % for agriculture 2015': \"water_agriculture\",\n",
        "    \"People using at least basic drinking water services Urban % of urban population 2018\": \"water_urban\",\n",
        "    \"People using at least basic drinking water services Rural % of Rural population 2018\": \"water_rural\",})\n",
        "cl = climate.rename(columns={\n",
        "    'Resilience Disaster risk reduction progress score 1, worst to 5,best 2011':\"Disaster_risk\",\n",
        "    'Exposure to impact Urban population living in areas where elevation is below 5 meters % of urban population 2010':\"urban_population\",\n",
        "    'Exposure to impact Population affected by droughts, floods, and extreme temperatures average annual; % of total population 2009':\"climet_affected_population\"\n",
        "})\n",
        "ag = agriculture.rename(columns={\n",
        "    'Fertilizer consumption  kilograms per hectare of arable land 2014-16': \"fertilizer\",\n",
        "    \"Agricultural employment  % of total employment 2000-02\": \"farmers_2000\",\n",
        "    \"Agricultural employment  % of total employment 2014-16\": \"farmers_recent\",\n",
        "    \"Agricultural machinery tractors per 100 sq. km of arable land 2009\": \"agricultur_machinery\"})\n"
      ],
      "metadata": {
        "id": "qoJ6lm-w6S5k"
      },
      "id": "qoJ6lm-w6S5k",
      "execution_count": 52,
      "outputs": []
    },
    {
      "cell_type": "code",
      "source": [
        "merged_df = pd.concat([hf[[ 'Diseases_death', 'tuberculosis']],\n",
        "                      hs[['ext_health_expend', 'public_health_expend', 'physicians', 'nurses', 'surgeries']],\n",
        "                      fw[[ 'water_urban', 'water_rural']],\n",
        "                      cl[[ 'climet_affected_population']],\n",
        "                      ag[['fertilizer', 'farmers_2000', 'farmers_recent']]],\n",
        "                     axis=1)"
      ],
      "metadata": {
        "id": "9ZqfHa7Rwn4f"
      },
      "id": "9ZqfHa7Rwn4f",
      "execution_count": 53,
      "outputs": []
    },
    {
      "cell_type": "code",
      "source": [
        "merged_df.columns"
      ],
      "metadata": {
        "colab": {
          "base_uri": "https://localhost:8080/"
        },
        "id": "aSaDux9qtC1D",
        "outputId": "c678ee54-0a3c-4a4e-e922-e30c44f129ef"
      },
      "id": "aSaDux9qtC1D",
      "execution_count": 54,
      "outputs": [
        {
          "output_type": "execute_result",
          "data": {
            "text/plain": [
              "Index(['Diseases_death', 'tuberculosis', 'ext_health_expend',\n",
              "       'public_health_expend', 'physicians', 'nurses', 'surgeries',\n",
              "       'water_urban', 'water_rural', 'climet_affected_population',\n",
              "       'fertilizer', 'farmers_2000', 'farmers_recent'],\n",
              "      dtype='object')"
            ]
          },
          "metadata": {},
          "execution_count": 54
        }
      ]
    },
    {
      "cell_type": "code",
      "execution_count": 55,
      "id": "e0680b68",
      "metadata": {
        "colab": {
          "base_uri": "https://localhost:8080/",
          "height": 364
        },
        "id": "e0680b68",
        "outputId": "162e5421-64d7-444c-a88a-c96ad47cec28"
      },
      "outputs": [
        {
          "output_type": "execute_result",
          "data": {
            "text/plain": [
              "       Diseases_death  tuberculosis  ext_health_expend  public_health_expend  \\\n",
              "count      183.000000    207.000000         167.000000            186.000000   \n",
              "mean        22.316940    102.893720           9.116766             52.915054   \n",
              "std         20.291504    137.634271          13.868251             21.957736   \n",
              "min          1.000000      0.000000           0.000000              5.100000   \n",
              "25%          6.000000      9.500000           0.200000             36.825000   \n",
              "50%         13.000000     45.000000           1.700000             55.850000   \n",
              "75%         36.000000    144.000000          13.400000             70.600000   \n",
              "max         65.000000    611.000000          69.200000             96.000000   \n",
              "\n",
              "       physicians      nurses   surgeries  water_urban  water_rural  \\\n",
              "count  189.000000  189.000000  175.000000   174.000000   168.000000   \n",
              "mean     1.723280    4.139153   37.937143    94.198851    80.005952   \n",
              "std      1.570366    3.965282   40.877520     7.935433    22.542109   \n",
              "min      0.000000    0.100000    0.000000    64.700000    22.800000   \n",
              "25%      0.300000    1.100000    3.100000    90.775000    61.650000   \n",
              "50%      1.300000    2.800000   23.600000    97.800000    89.950000   \n",
              "75%      2.800000    6.100000   62.150000    99.800000    99.200000   \n",
              "max      8.200000   20.300000  195.600000   100.000000   100.000000   \n",
              "\n",
              "       climet_affected_population  fertilizer  farmers_2000  farmers_recent  \n",
              "count                  168.000000  157.000000    187.000000      187.000000  \n",
              "mean                     1.171429  141.322930     31.260963       25.916043  \n",
              "std                      1.958312  149.705871     25.199064       23.425185  \n",
              "min                      0.000000    0.300000      0.300000        0.100000  \n",
              "25%                      0.000000   22.900000      7.450000        5.000000  \n",
              "50%                      0.250000  112.100000     24.200000       18.600000  \n",
              "75%                      1.300000  196.100000     49.350000       42.000000  \n",
              "max                      9.200000  750.700000     92.200000       91.800000  "
            ],
            "text/html": [
              "\n",
              "\n",
              "  <div id=\"df-6663fb73-9129-495a-b6a1-dc4d8afdd712\">\n",
              "    <div class=\"colab-df-container\">\n",
              "      <div>\n",
              "<style scoped>\n",
              "    .dataframe tbody tr th:only-of-type {\n",
              "        vertical-align: middle;\n",
              "    }\n",
              "\n",
              "    .dataframe tbody tr th {\n",
              "        vertical-align: top;\n",
              "    }\n",
              "\n",
              "    .dataframe thead th {\n",
              "        text-align: right;\n",
              "    }\n",
              "</style>\n",
              "<table border=\"1\" class=\"dataframe\">\n",
              "  <thead>\n",
              "    <tr style=\"text-align: right;\">\n",
              "      <th></th>\n",
              "      <th>Diseases_death</th>\n",
              "      <th>tuberculosis</th>\n",
              "      <th>ext_health_expend</th>\n",
              "      <th>public_health_expend</th>\n",
              "      <th>physicians</th>\n",
              "      <th>nurses</th>\n",
              "      <th>surgeries</th>\n",
              "      <th>water_urban</th>\n",
              "      <th>water_rural</th>\n",
              "      <th>climet_affected_population</th>\n",
              "      <th>fertilizer</th>\n",
              "      <th>farmers_2000</th>\n",
              "      <th>farmers_recent</th>\n",
              "    </tr>\n",
              "  </thead>\n",
              "  <tbody>\n",
              "    <tr>\n",
              "      <th>count</th>\n",
              "      <td>183.000000</td>\n",
              "      <td>207.000000</td>\n",
              "      <td>167.000000</td>\n",
              "      <td>186.000000</td>\n",
              "      <td>189.000000</td>\n",
              "      <td>189.000000</td>\n",
              "      <td>175.000000</td>\n",
              "      <td>174.000000</td>\n",
              "      <td>168.000000</td>\n",
              "      <td>168.000000</td>\n",
              "      <td>157.000000</td>\n",
              "      <td>187.000000</td>\n",
              "      <td>187.000000</td>\n",
              "    </tr>\n",
              "    <tr>\n",
              "      <th>mean</th>\n",
              "      <td>22.316940</td>\n",
              "      <td>102.893720</td>\n",
              "      <td>9.116766</td>\n",
              "      <td>52.915054</td>\n",
              "      <td>1.723280</td>\n",
              "      <td>4.139153</td>\n",
              "      <td>37.937143</td>\n",
              "      <td>94.198851</td>\n",
              "      <td>80.005952</td>\n",
              "      <td>1.171429</td>\n",
              "      <td>141.322930</td>\n",
              "      <td>31.260963</td>\n",
              "      <td>25.916043</td>\n",
              "    </tr>\n",
              "    <tr>\n",
              "      <th>std</th>\n",
              "      <td>20.291504</td>\n",
              "      <td>137.634271</td>\n",
              "      <td>13.868251</td>\n",
              "      <td>21.957736</td>\n",
              "      <td>1.570366</td>\n",
              "      <td>3.965282</td>\n",
              "      <td>40.877520</td>\n",
              "      <td>7.935433</td>\n",
              "      <td>22.542109</td>\n",
              "      <td>1.958312</td>\n",
              "      <td>149.705871</td>\n",
              "      <td>25.199064</td>\n",
              "      <td>23.425185</td>\n",
              "    </tr>\n",
              "    <tr>\n",
              "      <th>min</th>\n",
              "      <td>1.000000</td>\n",
              "      <td>0.000000</td>\n",
              "      <td>0.000000</td>\n",
              "      <td>5.100000</td>\n",
              "      <td>0.000000</td>\n",
              "      <td>0.100000</td>\n",
              "      <td>0.000000</td>\n",
              "      <td>64.700000</td>\n",
              "      <td>22.800000</td>\n",
              "      <td>0.000000</td>\n",
              "      <td>0.300000</td>\n",
              "      <td>0.300000</td>\n",
              "      <td>0.100000</td>\n",
              "    </tr>\n",
              "    <tr>\n",
              "      <th>25%</th>\n",
              "      <td>6.000000</td>\n",
              "      <td>9.500000</td>\n",
              "      <td>0.200000</td>\n",
              "      <td>36.825000</td>\n",
              "      <td>0.300000</td>\n",
              "      <td>1.100000</td>\n",
              "      <td>3.100000</td>\n",
              "      <td>90.775000</td>\n",
              "      <td>61.650000</td>\n",
              "      <td>0.000000</td>\n",
              "      <td>22.900000</td>\n",
              "      <td>7.450000</td>\n",
              "      <td>5.000000</td>\n",
              "    </tr>\n",
              "    <tr>\n",
              "      <th>50%</th>\n",
              "      <td>13.000000</td>\n",
              "      <td>45.000000</td>\n",
              "      <td>1.700000</td>\n",
              "      <td>55.850000</td>\n",
              "      <td>1.300000</td>\n",
              "      <td>2.800000</td>\n",
              "      <td>23.600000</td>\n",
              "      <td>97.800000</td>\n",
              "      <td>89.950000</td>\n",
              "      <td>0.250000</td>\n",
              "      <td>112.100000</td>\n",
              "      <td>24.200000</td>\n",
              "      <td>18.600000</td>\n",
              "    </tr>\n",
              "    <tr>\n",
              "      <th>75%</th>\n",
              "      <td>36.000000</td>\n",
              "      <td>144.000000</td>\n",
              "      <td>13.400000</td>\n",
              "      <td>70.600000</td>\n",
              "      <td>2.800000</td>\n",
              "      <td>6.100000</td>\n",
              "      <td>62.150000</td>\n",
              "      <td>99.800000</td>\n",
              "      <td>99.200000</td>\n",
              "      <td>1.300000</td>\n",
              "      <td>196.100000</td>\n",
              "      <td>49.350000</td>\n",
              "      <td>42.000000</td>\n",
              "    </tr>\n",
              "    <tr>\n",
              "      <th>max</th>\n",
              "      <td>65.000000</td>\n",
              "      <td>611.000000</td>\n",
              "      <td>69.200000</td>\n",
              "      <td>96.000000</td>\n",
              "      <td>8.200000</td>\n",
              "      <td>20.300000</td>\n",
              "      <td>195.600000</td>\n",
              "      <td>100.000000</td>\n",
              "      <td>100.000000</td>\n",
              "      <td>9.200000</td>\n",
              "      <td>750.700000</td>\n",
              "      <td>92.200000</td>\n",
              "      <td>91.800000</td>\n",
              "    </tr>\n",
              "  </tbody>\n",
              "</table>\n",
              "</div>\n",
              "      <button class=\"colab-df-convert\" onclick=\"convertToInteractive('df-6663fb73-9129-495a-b6a1-dc4d8afdd712')\"\n",
              "              title=\"Convert this dataframe to an interactive table.\"\n",
              "              style=\"display:none;\">\n",
              "\n",
              "  <svg xmlns=\"http://www.w3.org/2000/svg\" height=\"24px\"viewBox=\"0 0 24 24\"\n",
              "       width=\"24px\">\n",
              "    <path d=\"M0 0h24v24H0V0z\" fill=\"none\"/>\n",
              "    <path d=\"M18.56 5.44l.94 2.06.94-2.06 2.06-.94-2.06-.94-.94-2.06-.94 2.06-2.06.94zm-11 1L8.5 8.5l.94-2.06 2.06-.94-2.06-.94L8.5 2.5l-.94 2.06-2.06.94zm10 10l.94 2.06.94-2.06 2.06-.94-2.06-.94-.94-2.06-.94 2.06-2.06.94z\"/><path d=\"M17.41 7.96l-1.37-1.37c-.4-.4-.92-.59-1.43-.59-.52 0-1.04.2-1.43.59L10.3 9.45l-7.72 7.72c-.78.78-.78 2.05 0 2.83L4 21.41c.39.39.9.59 1.41.59.51 0 1.02-.2 1.41-.59l7.78-7.78 2.81-2.81c.8-.78.8-2.07 0-2.86zM5.41 20L4 18.59l7.72-7.72 1.47 1.35L5.41 20z\"/>\n",
              "  </svg>\n",
              "      </button>\n",
              "\n",
              "\n",
              "\n",
              "    <div id=\"df-1cbce0d5-ee02-4789-a073-c9605e1f097d\">\n",
              "      <button class=\"colab-df-quickchart\" onclick=\"quickchart('df-1cbce0d5-ee02-4789-a073-c9605e1f097d')\"\n",
              "              title=\"Suggest charts.\"\n",
              "              style=\"display:none;\">\n",
              "\n",
              "<svg xmlns=\"http://www.w3.org/2000/svg\" height=\"24px\"viewBox=\"0 0 24 24\"\n",
              "     width=\"24px\">\n",
              "    <g>\n",
              "        <path d=\"M19 3H5c-1.1 0-2 .9-2 2v14c0 1.1.9 2 2 2h14c1.1 0 2-.9 2-2V5c0-1.1-.9-2-2-2zM9 17H7v-7h2v7zm4 0h-2V7h2v10zm4 0h-2v-4h2v4z\"/>\n",
              "    </g>\n",
              "</svg>\n",
              "      </button>\n",
              "    </div>\n",
              "\n",
              "<style>\n",
              "  .colab-df-quickchart {\n",
              "    background-color: #E8F0FE;\n",
              "    border: none;\n",
              "    border-radius: 50%;\n",
              "    cursor: pointer;\n",
              "    display: none;\n",
              "    fill: #1967D2;\n",
              "    height: 32px;\n",
              "    padding: 0 0 0 0;\n",
              "    width: 32px;\n",
              "  }\n",
              "\n",
              "  .colab-df-quickchart:hover {\n",
              "    background-color: #E2EBFA;\n",
              "    box-shadow: 0px 1px 2px rgba(60, 64, 67, 0.3), 0px 1px 3px 1px rgba(60, 64, 67, 0.15);\n",
              "    fill: #174EA6;\n",
              "  }\n",
              "\n",
              "  [theme=dark] .colab-df-quickchart {\n",
              "    background-color: #3B4455;\n",
              "    fill: #D2E3FC;\n",
              "  }\n",
              "\n",
              "  [theme=dark] .colab-df-quickchart:hover {\n",
              "    background-color: #434B5C;\n",
              "    box-shadow: 0px 1px 3px 1px rgba(0, 0, 0, 0.15);\n",
              "    filter: drop-shadow(0px 1px 2px rgba(0, 0, 0, 0.3));\n",
              "    fill: #FFFFFF;\n",
              "  }\n",
              "</style>\n",
              "\n",
              "    <script>\n",
              "      async function quickchart(key) {\n",
              "        const containerElement = document.querySelector('#' + key);\n",
              "        const charts = await google.colab.kernel.invokeFunction(\n",
              "            'suggestCharts', [key], {});\n",
              "      }\n",
              "    </script>\n",
              "\n",
              "      <script>\n",
              "\n",
              "function displayQuickchartButton(domScope) {\n",
              "  let quickchartButtonEl =\n",
              "    domScope.querySelector('#df-1cbce0d5-ee02-4789-a073-c9605e1f097d button.colab-df-quickchart');\n",
              "  quickchartButtonEl.style.display =\n",
              "    google.colab.kernel.accessAllowed ? 'block' : 'none';\n",
              "}\n",
              "\n",
              "        displayQuickchartButton(document);\n",
              "      </script>\n",
              "      <style>\n",
              "    .colab-df-container {\n",
              "      display:flex;\n",
              "      flex-wrap:wrap;\n",
              "      gap: 12px;\n",
              "    }\n",
              "\n",
              "    .colab-df-convert {\n",
              "      background-color: #E8F0FE;\n",
              "      border: none;\n",
              "      border-radius: 50%;\n",
              "      cursor: pointer;\n",
              "      display: none;\n",
              "      fill: #1967D2;\n",
              "      height: 32px;\n",
              "      padding: 0 0 0 0;\n",
              "      width: 32px;\n",
              "    }\n",
              "\n",
              "    .colab-df-convert:hover {\n",
              "      background-color: #E2EBFA;\n",
              "      box-shadow: 0px 1px 2px rgba(60, 64, 67, 0.3), 0px 1px 3px 1px rgba(60, 64, 67, 0.15);\n",
              "      fill: #174EA6;\n",
              "    }\n",
              "\n",
              "    [theme=dark] .colab-df-convert {\n",
              "      background-color: #3B4455;\n",
              "      fill: #D2E3FC;\n",
              "    }\n",
              "\n",
              "    [theme=dark] .colab-df-convert:hover {\n",
              "      background-color: #434B5C;\n",
              "      box-shadow: 0px 1px 3px 1px rgba(0, 0, 0, 0.15);\n",
              "      filter: drop-shadow(0px 1px 2px rgba(0, 0, 0, 0.3));\n",
              "      fill: #FFFFFF;\n",
              "    }\n",
              "  </style>\n",
              "\n",
              "      <script>\n",
              "        const buttonEl =\n",
              "          document.querySelector('#df-6663fb73-9129-495a-b6a1-dc4d8afdd712 button.colab-df-convert');\n",
              "        buttonEl.style.display =\n",
              "          google.colab.kernel.accessAllowed ? 'block' : 'none';\n",
              "\n",
              "        async function convertToInteractive(key) {\n",
              "          const element = document.querySelector('#df-6663fb73-9129-495a-b6a1-dc4d8afdd712');\n",
              "          const dataTable =\n",
              "            await google.colab.kernel.invokeFunction('convertToInteractive',\n",
              "                                                     [key], {});\n",
              "          if (!dataTable) return;\n",
              "\n",
              "          const docLinkHtml = 'Like what you see? Visit the ' +\n",
              "            '<a target=\"_blank\" href=https://colab.research.google.com/notebooks/data_table.ipynb>data table notebook</a>'\n",
              "            + ' to learn more about interactive tables.';\n",
              "          element.innerHTML = '';\n",
              "          dataTable['output_type'] = 'display_data';\n",
              "          await google.colab.output.renderOutput(dataTable, element);\n",
              "          const docLink = document.createElement('div');\n",
              "          docLink.innerHTML = docLinkHtml;\n",
              "          element.appendChild(docLink);\n",
              "        }\n",
              "      </script>\n",
              "    </div>\n",
              "  </div>\n"
            ]
          },
          "metadata": {},
          "execution_count": 55
        }
      ],
      "source": [
        "merged_df.describe()"
      ]
    },
    {
      "cell_type": "code",
      "execution_count": 56,
      "id": "68b704db",
      "metadata": {
        "id": "68b704db"
      },
      "outputs": [],
      "source": [
        "#df1 = ag.replace('', np.nan)  # Replace empty values with NaN\n",
        "df1 = merged_df.dropna()  # Drop rows with any missing values\n",
        "#merged_df.to_csv(\"merged_df.csv\")"
      ]
    },
    {
      "cell_type": "code",
      "source": [
        "df1[\"tuberculosis\"].describe()"
      ],
      "metadata": {
        "colab": {
          "base_uri": "https://localhost:8080/"
        },
        "id": "Frh1B7nCuOuH",
        "outputId": "abd2fc8a-d187-4056-951b-3e8a8c5610e2"
      },
      "id": "Frh1B7nCuOuH",
      "execution_count": 57,
      "outputs": [
        {
          "output_type": "execute_result",
          "data": {
            "text/plain": [
              "count    104.000000\n",
              "mean     111.105769\n",
              "std      135.983503\n",
              "min        3.000000\n",
              "25%       16.750000\n",
              "50%       57.500000\n",
              "75%      151.000000\n",
              "max      554.000000\n",
              "Name: tuberculosis, dtype: float64"
            ]
          },
          "metadata": {},
          "execution_count": 57
        }
      ]
    },
    {
      "cell_type": "code",
      "source": [
        "# Define the thresholds for classification\n",
        "\n",
        "threshold_tuberculosis = 100\n",
        "# Create a DataFrame to store the classified values\n",
        "df2 = pd.DataFrame()\n",
        "# Classify every columns\n",
        "df2=df1[['Diseases_death', 'ext_health_expend',\n",
        "       'public_health_expend', 'physicians', 'nurses', 'surgeries',\n",
        "       'water_urban', 'water_rural', 'climet_affected_population',\n",
        "       'fertilizer', 'farmers_2000', 'farmers_recent']]\n",
        "df2['tuberculosis'] = [0 if i < threshold_tuberculosis else 1 for i in df1['tuberculosis']]\n",
        "\n",
        "# Extract X and y\n",
        "y = df2['tuberculosis'].values\n",
        "X = df2.drop(columns='tuberculosis').values\n",
        "df2.shape"
      ],
      "metadata": {
        "id": "8Wy7cnofKW-P",
        "colab": {
          "base_uri": "https://localhost:8080/"
        },
        "outputId": "54f07900-7687-4388-b2c8-956adb33b85f"
      },
      "id": "8Wy7cnofKW-P",
      "execution_count": 58,
      "outputs": [
        {
          "output_type": "execute_result",
          "data": {
            "text/plain": [
              "(104, 13)"
            ]
          },
          "metadata": {},
          "execution_count": 58
        }
      ]
    },
    {
      "cell_type": "code",
      "source": [
        "# Split the preprocessed data into a training and testing dataset\n",
        "X_train, X_test, y_train, y_test = train_test_split(X, y,random_state=1,stratify=y,test_size=.2)"
      ],
      "metadata": {
        "id": "u9iJtXr_1RgI"
      },
      "id": "u9iJtXr_1RgI",
      "execution_count": 59,
      "outputs": []
    },
    {
      "cell_type": "code",
      "source": [
        "# Define the model - deep neural net, i.e., the number of input features and hidden nodes for each layer.\n",
        "l_1 = 50\n",
        "l_2 = 50\n",
        "input_features = len(X_train[0])\n",
        "nn = tf.keras.models.Sequential()\n",
        "\n",
        "# First hidden layer\n",
        "nn.add(tf.keras.layers.Dense(units=l_1, input_dim = input_features, activation = \"tanh\", kernel_regularizer=l2(0.01)))\n",
        "\n",
        "# Second hidden layer\n",
        "nn.add(tf.keras.layers.Dense(units=l_2, activation = \"LeakyReLU\", kernel_regularizer=l2(0.01)))\n",
        "\n",
        "# Output layer\n",
        "nn.add(tf.keras.layers.Dense(units=1, activation=\"sigmoid\"))\n",
        "\n",
        "# Check the structure of the model\n",
        "nn.summary()"
      ],
      "metadata": {
        "colab": {
          "base_uri": "https://localhost:8080/"
        },
        "id": "H6A-MirP04IM",
        "outputId": "ba50f931-4fb8-456d-a332-c731d86e5f37"
      },
      "id": "H6A-MirP04IM",
      "execution_count": 60,
      "outputs": [
        {
          "output_type": "stream",
          "name": "stdout",
          "text": [
            "Model: \"sequential_1\"\n",
            "_________________________________________________________________\n",
            " Layer (type)                Output Shape              Param #   \n",
            "=================================================================\n",
            " dense_3 (Dense)             (None, 50)                650       \n",
            "                                                                 \n",
            " dense_4 (Dense)             (None, 50)                2550      \n",
            "                                                                 \n",
            " dense_5 (Dense)             (None, 1)                 51        \n",
            "                                                                 \n",
            "=================================================================\n",
            "Total params: 3,251\n",
            "Trainable params: 3,251\n",
            "Non-trainable params: 0\n",
            "_________________________________________________________________\n"
          ]
        }
      ]
    },
    {
      "cell_type": "code",
      "source": [
        "# Compile the model\n",
        "nn.compile(loss=\"binary_crossentropy\", optimizer=\"adam\", metrics=[\"accuracy\"])"
      ],
      "metadata": {
        "id": "gaEbhdF61-IM"
      },
      "id": "gaEbhdF61-IM",
      "execution_count": 61,
      "outputs": []
    },
    {
      "cell_type": "code",
      "source": [
        "# Train the model\n",
        "nn.fit(X_train, y_train, epochs=70)"
      ],
      "metadata": {
        "id": "jK3JJTyG1-LQ",
        "colab": {
          "base_uri": "https://localhost:8080/"
        },
        "outputId": "2c105e6f-e2d3-43a5-85eb-074521ea2ec9"
      },
      "id": "jK3JJTyG1-LQ",
      "execution_count": 62,
      "outputs": [
        {
          "output_type": "stream",
          "name": "stdout",
          "text": [
            "Epoch 1/70\n",
            "3/3 [==============================] - 1s 4ms/step - loss: 1.3563 - accuracy: 0.6506\n",
            "Epoch 2/70\n",
            "3/3 [==============================] - 0s 3ms/step - loss: 1.2599 - accuracy: 0.6988\n",
            "Epoch 3/70\n",
            "3/3 [==============================] - 0s 3ms/step - loss: 1.1972 - accuracy: 0.7470\n",
            "Epoch 4/70\n",
            "3/3 [==============================] - 0s 3ms/step - loss: 1.1454 - accuracy: 0.7952\n",
            "Epoch 5/70\n",
            "3/3 [==============================] - 0s 3ms/step - loss: 1.1125 - accuracy: 0.7952\n",
            "Epoch 6/70\n",
            "3/3 [==============================] - 0s 3ms/step - loss: 1.0805 - accuracy: 0.7952\n",
            "Epoch 7/70\n",
            "3/3 [==============================] - 0s 4ms/step - loss: 1.0526 - accuracy: 0.8072\n",
            "Epoch 8/70\n",
            "3/3 [==============================] - 0s 3ms/step - loss: 1.0277 - accuracy: 0.8072\n",
            "Epoch 9/70\n",
            "3/3 [==============================] - 0s 3ms/step - loss: 1.0026 - accuracy: 0.8072\n",
            "Epoch 10/70\n",
            "3/3 [==============================] - 0s 3ms/step - loss: 0.9826 - accuracy: 0.8072\n",
            "Epoch 11/70\n",
            "3/3 [==============================] - 0s 3ms/step - loss: 0.9648 - accuracy: 0.8313\n",
            "Epoch 12/70\n",
            "3/3 [==============================] - 0s 3ms/step - loss: 0.9438 - accuracy: 0.8313\n",
            "Epoch 13/70\n",
            "3/3 [==============================] - 0s 3ms/step - loss: 0.9267 - accuracy: 0.8313\n",
            "Epoch 14/70\n",
            "3/3 [==============================] - 0s 5ms/step - loss: 0.9118 - accuracy: 0.8313\n",
            "Epoch 15/70\n",
            "3/3 [==============================] - 0s 5ms/step - loss: 0.8956 - accuracy: 0.8313\n",
            "Epoch 16/70\n",
            "3/3 [==============================] - 0s 3ms/step - loss: 0.8802 - accuracy: 0.8434\n",
            "Epoch 17/70\n",
            "3/3 [==============================] - 0s 3ms/step - loss: 0.8670 - accuracy: 0.8554\n",
            "Epoch 18/70\n",
            "3/3 [==============================] - 0s 4ms/step - loss: 0.8531 - accuracy: 0.8554\n",
            "Epoch 19/70\n",
            "3/3 [==============================] - 0s 3ms/step - loss: 0.8371 - accuracy: 0.8554\n",
            "Epoch 20/70\n",
            "3/3 [==============================] - 0s 3ms/step - loss: 0.8228 - accuracy: 0.8675\n",
            "Epoch 21/70\n",
            "3/3 [==============================] - 0s 3ms/step - loss: 0.8093 - accuracy: 0.8675\n",
            "Epoch 22/70\n",
            "3/3 [==============================] - 0s 4ms/step - loss: 0.7988 - accuracy: 0.8675\n",
            "Epoch 23/70\n",
            "3/3 [==============================] - 0s 3ms/step - loss: 0.7864 - accuracy: 0.8675\n",
            "Epoch 24/70\n",
            "3/3 [==============================] - 0s 3ms/step - loss: 0.7759 - accuracy: 0.8675\n",
            "Epoch 25/70\n",
            "3/3 [==============================] - 0s 3ms/step - loss: 0.7652 - accuracy: 0.8675\n",
            "Epoch 26/70\n",
            "3/3 [==============================] - 0s 3ms/step - loss: 0.7532 - accuracy: 0.8795\n",
            "Epoch 27/70\n",
            "3/3 [==============================] - 0s 5ms/step - loss: 0.7412 - accuracy: 0.8795\n",
            "Epoch 28/70\n",
            "3/3 [==============================] - 0s 3ms/step - loss: 0.7303 - accuracy: 0.8795\n",
            "Epoch 29/70\n",
            "3/3 [==============================] - 0s 4ms/step - loss: 0.7199 - accuracy: 0.8795\n",
            "Epoch 30/70\n",
            "3/3 [==============================] - 0s 5ms/step - loss: 0.7083 - accuracy: 0.8795\n",
            "Epoch 31/70\n",
            "3/3 [==============================] - 0s 5ms/step - loss: 0.6996 - accuracy: 0.9157\n",
            "Epoch 32/70\n",
            "3/3 [==============================] - 0s 4ms/step - loss: 0.6888 - accuracy: 0.9157\n",
            "Epoch 33/70\n",
            "3/3 [==============================] - 0s 3ms/step - loss: 0.6790 - accuracy: 0.9157\n",
            "Epoch 34/70\n",
            "3/3 [==============================] - 0s 3ms/step - loss: 0.6714 - accuracy: 0.8795\n",
            "Epoch 35/70\n",
            "3/3 [==============================] - 0s 3ms/step - loss: 0.6591 - accuracy: 0.9036\n",
            "Epoch 36/70\n",
            "3/3 [==============================] - 0s 3ms/step - loss: 0.6506 - accuracy: 0.9157\n",
            "Epoch 37/70\n",
            "3/3 [==============================] - 0s 3ms/step - loss: 0.6423 - accuracy: 0.9157\n",
            "Epoch 38/70\n",
            "3/3 [==============================] - 0s 4ms/step - loss: 0.6330 - accuracy: 0.9277\n",
            "Epoch 39/70\n",
            "3/3 [==============================] - 0s 3ms/step - loss: 0.6224 - accuracy: 0.9398\n",
            "Epoch 40/70\n",
            "3/3 [==============================] - 0s 4ms/step - loss: 0.6135 - accuracy: 0.9277\n",
            "Epoch 41/70\n",
            "3/3 [==============================] - 0s 4ms/step - loss: 0.6043 - accuracy: 0.9518\n",
            "Epoch 42/70\n",
            "3/3 [==============================] - 0s 3ms/step - loss: 0.5944 - accuracy: 0.9518\n",
            "Epoch 43/70\n",
            "3/3 [==============================] - 0s 4ms/step - loss: 0.5875 - accuracy: 0.9398\n",
            "Epoch 44/70\n",
            "3/3 [==============================] - 0s 4ms/step - loss: 0.5774 - accuracy: 0.9398\n",
            "Epoch 45/70\n",
            "3/3 [==============================] - 0s 3ms/step - loss: 0.5698 - accuracy: 0.9518\n",
            "Epoch 46/70\n",
            "3/3 [==============================] - 0s 4ms/step - loss: 0.5600 - accuracy: 0.9639\n",
            "Epoch 47/70\n",
            "3/3 [==============================] - 0s 4ms/step - loss: 0.5526 - accuracy: 0.9518\n",
            "Epoch 48/70\n",
            "3/3 [==============================] - 0s 3ms/step - loss: 0.5466 - accuracy: 0.9518\n",
            "Epoch 49/70\n",
            "3/3 [==============================] - 0s 3ms/step - loss: 0.5376 - accuracy: 0.9518\n",
            "Epoch 50/70\n",
            "3/3 [==============================] - 0s 3ms/step - loss: 0.5314 - accuracy: 0.9518\n",
            "Epoch 51/70\n",
            "3/3 [==============================] - 0s 3ms/step - loss: 0.5234 - accuracy: 0.9639\n",
            "Epoch 52/70\n",
            "3/3 [==============================] - 0s 4ms/step - loss: 0.5178 - accuracy: 0.9518\n",
            "Epoch 53/70\n",
            "3/3 [==============================] - 0s 3ms/step - loss: 0.5113 - accuracy: 0.9518\n",
            "Epoch 54/70\n",
            "3/3 [==============================] - 0s 3ms/step - loss: 0.5037 - accuracy: 0.9639\n",
            "Epoch 55/70\n",
            "3/3 [==============================] - 0s 4ms/step - loss: 0.4987 - accuracy: 0.9639\n",
            "Epoch 56/70\n",
            "3/3 [==============================] - 0s 3ms/step - loss: 0.4923 - accuracy: 0.9759\n",
            "Epoch 57/70\n",
            "3/3 [==============================] - 0s 4ms/step - loss: 0.4856 - accuracy: 0.9759\n",
            "Epoch 58/70\n",
            "3/3 [==============================] - 0s 4ms/step - loss: 0.4804 - accuracy: 0.9759\n",
            "Epoch 59/70\n",
            "3/3 [==============================] - 0s 4ms/step - loss: 0.4735 - accuracy: 0.9759\n",
            "Epoch 60/70\n",
            "3/3 [==============================] - 0s 3ms/step - loss: 0.4683 - accuracy: 0.9759\n",
            "Epoch 61/70\n",
            "3/3 [==============================] - 0s 3ms/step - loss: 0.4632 - accuracy: 0.9759\n",
            "Epoch 62/70\n",
            "3/3 [==============================] - 0s 3ms/step - loss: 0.4571 - accuracy: 0.9759\n",
            "Epoch 63/70\n",
            "3/3 [==============================] - 0s 3ms/step - loss: 0.4534 - accuracy: 0.9639\n",
            "Epoch 64/70\n",
            "3/3 [==============================] - 0s 3ms/step - loss: 0.4476 - accuracy: 0.9759\n",
            "Epoch 65/70\n",
            "3/3 [==============================] - 0s 3ms/step - loss: 0.4435 - accuracy: 0.9759\n",
            "Epoch 66/70\n",
            "3/3 [==============================] - 0s 5ms/step - loss: 0.4368 - accuracy: 0.9759\n",
            "Epoch 67/70\n",
            "3/3 [==============================] - 0s 3ms/step - loss: 0.4315 - accuracy: 0.9759\n",
            "Epoch 68/70\n",
            "3/3 [==============================] - 0s 5ms/step - loss: 0.4293 - accuracy: 0.9759\n",
            "Epoch 69/70\n",
            "3/3 [==============================] - 0s 3ms/step - loss: 0.4225 - accuracy: 0.9759\n",
            "Epoch 70/70\n",
            "3/3 [==============================] - 0s 4ms/step - loss: 0.4160 - accuracy: 0.9759\n"
          ]
        },
        {
          "output_type": "execute_result",
          "data": {
            "text/plain": [
              "<keras.callbacks.History at 0x7f22eb74fc10>"
            ]
          },
          "metadata": {},
          "execution_count": 62
        }
      ]
    },
    {
      "cell_type": "code",
      "source": [
        "# Evaluate the model using the test data\n",
        "model_loss, model_accuracy = nn.evaluate(X_test,y_test,verbose=2)\n",
        "print(f\"Loss: {model_loss}, Accuracy: {model_accuracy}\")"
      ],
      "metadata": {
        "id": "MbGwGGB21-No",
        "colab": {
          "base_uri": "https://localhost:8080/"
        },
        "outputId": "62da28f4-9772-4d13-b4f8-3f9cc852205e"
      },
      "id": "MbGwGGB21-No",
      "execution_count": 63,
      "outputs": [
        {
          "output_type": "stream",
          "name": "stdout",
          "text": [
            "1/1 - 0s - loss: 0.9602 - accuracy: 0.7143 - 108ms/epoch - 108ms/step\n",
            "Loss: 0.9601607322692871, Accuracy: 0.7142857313156128\n"
          ]
        }
      ]
    },
    {
      "cell_type": "code",
      "source": [
        "# Predict on the test data\n",
        "y_pred = nn.predict(X_test)\n",
        "\n",
        "# The predictions will be in the form of probabilities, so you might want to round them to get class labels (0 or 1)\n",
        "y_pred_class = y_pred.round()\n",
        "# Calculate the accuracy of the predictions\n",
        "correct_predictions = (y_pred_class == y_test.reshape(-1, 1)).sum()\n",
        "total_samples = len(y_test)\n",
        "accuracy = correct_predictions / total_samples\n",
        "print(\"Accuracy:\", accuracy)\n",
        "\n",
        "# Print the classification report\n",
        "print(\"Classification Report:\")\n",
        "print(classification_report(y_test, y_pred_class))"
      ],
      "metadata": {
        "id": "c3NJIuL31-RF",
        "colab": {
          "base_uri": "https://localhost:8080/"
        },
        "outputId": "8eb6c8bf-1473-4570-904f-ff1b205f9dd0"
      },
      "id": "c3NJIuL31-RF",
      "execution_count": 64,
      "outputs": [
        {
          "output_type": "stream",
          "name": "stdout",
          "text": [
            "1/1 [==============================] - 0s 46ms/step\n",
            "Accuracy: 0.7142857142857143\n",
            "Classification Report:\n",
            "              precision    recall  f1-score   support\n",
            "\n",
            "           0       0.75      0.86      0.80        14\n",
            "           1       0.60      0.43      0.50         7\n",
            "\n",
            "    accuracy                           0.71        21\n",
            "   macro avg       0.68      0.64      0.65        21\n",
            "weighted avg       0.70      0.71      0.70        21\n",
            "\n"
          ]
        }
      ]
    },
    {
      "cell_type": "code",
      "source": [],
      "metadata": {
        "id": "qm_hS7w41-UG"
      },
      "id": "qm_hS7w41-UG",
      "execution_count": null,
      "outputs": []
    },
    {
      "cell_type": "code",
      "source": [],
      "metadata": {
        "id": "K878cmYH1-XP"
      },
      "id": "K878cmYH1-XP",
      "execution_count": null,
      "outputs": []
    },
    {
      "cell_type": "code",
      "source": [],
      "metadata": {
        "id": "oEWuAluB1-aX"
      },
      "id": "oEWuAluB1-aX",
      "execution_count": null,
      "outputs": []
    },
    {
      "cell_type": "code",
      "source": [],
      "metadata": {
        "id": "kc1jEVV51-c9"
      },
      "id": "kc1jEVV51-c9",
      "execution_count": null,
      "outputs": []
    },
    {
      "cell_type": "code",
      "source": [],
      "metadata": {
        "id": "7jVE4f3G1-fm"
      },
      "id": "7jVE4f3G1-fm",
      "execution_count": null,
      "outputs": []
    },
    {
      "cell_type": "code",
      "source": [],
      "metadata": {
        "id": "BE0IS4I51-id"
      },
      "id": "BE0IS4I51-id",
      "execution_count": null,
      "outputs": []
    },
    {
      "cell_type": "code",
      "source": [],
      "metadata": {
        "id": "3znETXuJ1-lZ"
      },
      "id": "3znETXuJ1-lZ",
      "execution_count": null,
      "outputs": []
    },
    {
      "cell_type": "code",
      "source": [],
      "metadata": {
        "id": "ik3fD8Jn1-oN"
      },
      "id": "ik3fD8Jn1-oN",
      "execution_count": null,
      "outputs": []
    },
    {
      "cell_type": "code",
      "source": [],
      "metadata": {
        "id": "LzsvMvb51-rP"
      },
      "id": "LzsvMvb51-rP",
      "execution_count": null,
      "outputs": []
    },
    {
      "cell_type": "code",
      "source": [],
      "metadata": {
        "id": "tJ-JoZAU1-uI"
      },
      "id": "tJ-JoZAU1-uI",
      "execution_count": null,
      "outputs": []
    }
  ],
  "metadata": {
    "kernelspec": {
      "display_name": "Python 3 (ipykernel)",
      "language": "python",
      "name": "python3"
    },
    "language_info": {
      "codemirror_mode": {
        "name": "ipython",
        "version": 3
      },
      "file_extension": ".py",
      "mimetype": "text/x-python",
      "name": "python",
      "nbconvert_exporter": "python",
      "pygments_lexer": "ipython3",
      "version": "3.10.9"
    },
    "colab": {
      "provenance": []
    }
  },
  "nbformat": 4,
  "nbformat_minor": 5
}