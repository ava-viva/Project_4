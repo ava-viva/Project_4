{
  "cells": [
    {
      "cell_type": "code",
      "execution_count": 1,
      "id": "718e76bd",
      "metadata": {
        "id": "718e76bd"
      },
      "outputs": [],
      "source": [
        "#importing libraries\n",
        "import pandas as pd\n",
        "import numpy as np\n",
        "from sklearn.model_selection import train_test_split\n",
        "from sklearn.preprocessing import StandardScaler\n",
        "from sklearn.metrics import classification_report\n",
        "from sklearn.metrics import confusion_matrix\n",
        "from tensorflow.keras.regularizers import l2\n",
        "from sklearn.feature_selection import SelectKBest, chi2\n",
        "import tensorflow as tf\n",
        "import seaborn as sns\n",
        "import matplotlib.pyplot as plt\n",
        "%matplotlib inline\n",
        "from skimage import data, io   # Import skimage library (data - Test images and example data.\n",
        "#                          io - Reading, saving, and displaying images.)\n",
        "from skimage.color import rgb2gray\n",
        "import os                                        # This module provides a portable way of using operating system dependent functionality.\n",
        "os.environ['TF_CPP_MIN_LOG_LEVEL'] = '3'\n",
        "import warnings\n",
        "# Suppress warnings\n",
        "warnings.filterwarnings('ignore')\n",
        "from IPython.display import display\n",
        "import cv2 as cv\n",
        "from tensorflow.keras import utils\n",
        "from tensorflow.keras.models import Sequential,load_model\n",
        "from tensorflow.keras.layers import Dense, Dropout, Flatten, Conv2D, MaxPool2D, BatchNormalization\n",
        "from tensorflow.keras.optimizers import Adam\n",
        "import seaborn as sns"
      ]
    },
    {
      "cell_type": "code",
      "source": [
        "pip install diagrams"
      ],
      "metadata": {
        "id": "BE0IS4I51-id",
        "colab": {
          "base_uri": "https://localhost:8080/"
        },
        "outputId": "ba79366e-ca18-48b8-f53e-5be6fcbac160"
      },
      "execution_count": null,
      "outputs": [
        {
          "output_type": "stream",
          "name": "stdout",
          "text": [
            "Requirement already satisfied: diagrams in /usr/local/lib/python3.10/dist-packages (0.23.3)\n",
            "Requirement already satisfied: graphviz<0.21.0,>=0.13.2 in /usr/local/lib/python3.10/dist-packages (from diagrams) (0.20.1)\n",
            "Requirement already satisfied: jinja2<4.0,>=2.10 in /usr/local/lib/python3.10/dist-packages (from diagrams) (3.1.2)\n",
            "Requirement already satisfied: typed-ast<2.0.0,>=1.5.4 in /usr/local/lib/python3.10/dist-packages (from diagrams) (1.5.5)\n",
            "Requirement already satisfied: MarkupSafe>=2.0 in /usr/local/lib/python3.10/dist-packages (from jinja2<4.0,>=2.10->diagrams) (2.1.3)\n"
          ]
        }
      ],
      "id": "BE0IS4I51-id"
    },
    {
      "cell_type": "code",
      "source": [
        "! pip install visualkeras\n",
        "! pip install ann_visualizer\n",
        "! pip install graphviz"
      ],
      "metadata": {
        "id": "tJ-JoZAU1-uI",
        "colab": {
          "base_uri": "https://localhost:8080/"
        },
        "outputId": "f369ae43-80cb-44d5-f9df-dc4caf4be32b"
      },
      "execution_count": null,
      "outputs": [
        {
          "output_type": "stream",
          "name": "stdout",
          "text": [
            "Requirement already satisfied: visualkeras in /usr/local/lib/python3.10/dist-packages (0.0.2)\n",
            "Requirement already satisfied: pillow>=6.2.0 in /usr/local/lib/python3.10/dist-packages (from visualkeras) (9.4.0)\n",
            "Requirement already satisfied: numpy>=1.18.1 in /usr/local/lib/python3.10/dist-packages (from visualkeras) (1.22.4)\n",
            "Requirement already satisfied: aggdraw>=1.3.11 in /usr/local/lib/python3.10/dist-packages (from visualkeras) (1.3.16)\n",
            "Requirement already satisfied: ann_visualizer in /usr/local/lib/python3.10/dist-packages (2.5)\n",
            "Requirement already satisfied: graphviz in /usr/local/lib/python3.10/dist-packages (0.20.1)\n"
          ]
        }
      ],
      "id": "tJ-JoZAU1-uI"
    },
    {
      "cell_type": "code",
      "source": [
        "df = pd.read_csv(\"/content/data_after_processing_all_100_factors.csv\")"
      ],
      "metadata": {
        "id": "aOdAGO6xJR9T"
      },
      "id": "aOdAGO6xJR9T",
      "execution_count": 2,
      "outputs": []
    },
    {
      "cell_type": "code",
      "execution_count": 3,
      "id": "e0680b68",
      "metadata": {
        "colab": {
          "base_uri": "https://localhost:8080/",
          "height": 473
        },
        "id": "e0680b68",
        "outputId": "3c687e1c-a14d-47df-bba3-951b2040d3ac"
      },
      "outputs": [
        {
          "output_type": "execute_result",
          "data": {
            "text/plain": [
              "          Country  \\\n",
              "0     Afghanistan   \n",
              "1         Albania   \n",
              "2         Algeria   \n",
              "3  American Samoa   \n",
              "4         Andorra   \n",
              "\n",
              "   People using safely managed drinking water services % of population 2017  \\\n",
              "0                                             79.075                          \n",
              "1                                             70.000                          \n",
              "2                                             79.075                          \n",
              "3                                             12.600                          \n",
              "4                                             90.600                          \n",
              "\n",
              "   People using safely managed sanitation services % of population 2017  \\\n",
              "0                                          68.342553                      \n",
              "1                                          39.900000                      \n",
              "2                                          17.700000                      \n",
              "3                                          68.342553                      \n",
              "4                                         100.000000                      \n",
              "\n",
              "   Access to electricity % of population 2017  \\\n",
              "0                                   97.700000   \n",
              "1                                  100.000000   \n",
              "2                                  100.000000   \n",
              "3                                   85.433019   \n",
              "4                                  100.000000   \n",
              "\n",
              "   Renewable energy consumption % of total final energy consumption 2015_x  \\\n",
              "0                                               18.4                         \n",
              "1                                               38.6                         \n",
              "2                                                0.1                         \n",
              "3                                                0.9                         \n",
              "4                                               19.7                         \n",
              "\n",
              "   Expenditures for R&D % of GDP 2015  \\\n",
              "0                              0.8568   \n",
              "1                              0.8568   \n",
              "2                              0.5000   \n",
              "3                              0.8568   \n",
              "4                              0.8568   \n",
              "\n",
              "   Urban population living in slums % of urban population 2014  \\\n",
              "0                                           62.70000             \n",
              "1                                           45.73494             \n",
              "2                                           45.73494             \n",
              "3                                           45.73494             \n",
              "4                                           45.73494             \n",
              "\n",
              "   Ambient PM2.5 air pollution mean annual exposure micrograms per cubic meter 2016  \\\n",
              "0                                               56.3                                  \n",
              "1                                               18.2                                  \n",
              "2                                               39.9                                  \n",
              "3                                               12.4                                  \n",
              "4                                               10.3                                  \n",
              "\n",
              "   Adjusted net savings % of GNI 2017  \\\n",
              "0                             2.70000   \n",
              "1                             8.20000   \n",
              "2                            21.20000   \n",
              "3                             6.70068   \n",
              "4                             6.70068   \n",
              "\n",
              "   Carbon dioxide emissions per capita metric tons 2014_x  ...  \\\n",
              "0                                           0.300000       ...   \n",
              "1                                           2.000000       ...   \n",
              "2                                           3.700000       ...   \n",
              "3                                           4.882759       ...   \n",
              "4                                           5.800000       ...   \n",
              "\n",
              "   Health expenditure per capita $ 2016  \\\n",
              "0                             57.200000   \n",
              "1                            271.500000   \n",
              "2                            260.400000   \n",
              "3                            262.872059   \n",
              "4                            262.872059   \n",
              "\n",
              "   Health expenditure per capita current PPP $ 2016  \\\n",
              "0                                        162.800000   \n",
              "1                                        759.700000   \n",
              "2                                        998.200000   \n",
              "3                                        386.331818   \n",
              "4                                        386.331818   \n",
              "\n",
              "   External health expenditure (% of current health expenditure)  2016  \\\n",
              "0                                          17.500000                     \n",
              "1                                           0.700000                     \n",
              "2                                           0.000000                     \n",
              "3                                           9.116766                     \n",
              "4                                           9.116766                     \n",
              "\n",
              "   Health workers Physicians per 1,000 people 2009-18  \\\n",
              "0                                            0.30000    \n",
              "1                                            1.20000    \n",
              "2                                            1.80000    \n",
              "3                                            1.72328    \n",
              "4                                            3.30000    \n",
              "\n",
              "   Health workers Nurses and midwives per 1,000 people 2009-18  \\\n",
              "0                                           0.300000             \n",
              "1                                           3.600000             \n",
              "2                                           2.200000             \n",
              "3                                           4.139153             \n",
              "4                                           4.000000             \n",
              "\n",
              "   Specialist surgical workforce per 100,000 population 2008-18  \\\n",
              "0                                           0.000000              \n",
              "1                                          11.600000              \n",
              "2                                          12.100000              \n",
              "3                                          37.937143              \n",
              "4                                          83.100000              \n",
              "\n",
              "   Completeness of birth registration % 2009-18  \\\n",
              "0                                     42.300000   \n",
              "1                                     98.400000   \n",
              "2                                    100.000000   \n",
              "3                                     84.202454   \n",
              "4                                    100.000000   \n",
              "\n",
              "   Completeness of death registration % 2008-16  \\\n",
              "0                                     89.309346   \n",
              "1                                     53.000000   \n",
              "2                                     89.309346   \n",
              "3                                     89.309346   \n",
              "4                                     80.000000   \n",
              "\n",
              "   Incidence of tuberculosis per 100,000 people 2018  output  \n",
              "0                                              189.0       1  \n",
              "1                                               18.0       0  \n",
              "2                                               69.0       0  \n",
              "3                                                0.0       0  \n",
              "4                                                3.0       0  \n",
              "\n",
              "[5 rows x 101 columns]"
            ],
            "text/html": [
              "\n",
              "\n",
              "  <div id=\"df-0f2e9110-4443-46fe-9e82-5400554aa5d1\">\n",
              "    <div class=\"colab-df-container\">\n",
              "      <div>\n",
              "<style scoped>\n",
              "    .dataframe tbody tr th:only-of-type {\n",
              "        vertical-align: middle;\n",
              "    }\n",
              "\n",
              "    .dataframe tbody tr th {\n",
              "        vertical-align: top;\n",
              "    }\n",
              "\n",
              "    .dataframe thead th {\n",
              "        text-align: right;\n",
              "    }\n",
              "</style>\n",
              "<table border=\"1\" class=\"dataframe\">\n",
              "  <thead>\n",
              "    <tr style=\"text-align: right;\">\n",
              "      <th></th>\n",
              "      <th>Country</th>\n",
              "      <th>People using safely managed drinking water services % of population 2017</th>\n",
              "      <th>People using safely managed sanitation services % of population 2017</th>\n",
              "      <th>Access to electricity % of population 2017</th>\n",
              "      <th>Renewable energy consumption % of total final energy consumption 2015_x</th>\n",
              "      <th>Expenditures for R&amp;D % of GDP 2015</th>\n",
              "      <th>Urban population living in slums % of urban population 2014</th>\n",
              "      <th>Ambient PM2.5 air pollution mean annual exposure micrograms per cubic meter 2016</th>\n",
              "      <th>Adjusted net savings % of GNI 2017</th>\n",
              "      <th>Carbon dioxide emissions per capita metric tons 2014_x</th>\n",
              "      <th>...</th>\n",
              "      <th>Health expenditure per capita $ 2016</th>\n",
              "      <th>Health expenditure per capita current PPP $ 2016</th>\n",
              "      <th>External health expenditure (% of current health expenditure)  2016</th>\n",
              "      <th>Health workers Physicians per 1,000 people 2009-18</th>\n",
              "      <th>Health workers Nurses and midwives per 1,000 people 2009-18</th>\n",
              "      <th>Specialist surgical workforce per 100,000 population 2008-18</th>\n",
              "      <th>Completeness of birth registration % 2009-18</th>\n",
              "      <th>Completeness of death registration % 2008-16</th>\n",
              "      <th>Incidence of tuberculosis per 100,000 people 2018</th>\n",
              "      <th>output</th>\n",
              "    </tr>\n",
              "  </thead>\n",
              "  <tbody>\n",
              "    <tr>\n",
              "      <th>0</th>\n",
              "      <td>Afghanistan</td>\n",
              "      <td>79.075</td>\n",
              "      <td>68.342553</td>\n",
              "      <td>97.700000</td>\n",
              "      <td>18.4</td>\n",
              "      <td>0.8568</td>\n",
              "      <td>62.70000</td>\n",
              "      <td>56.3</td>\n",
              "      <td>2.70000</td>\n",
              "      <td>0.300000</td>\n",
              "      <td>...</td>\n",
              "      <td>57.200000</td>\n",
              "      <td>162.800000</td>\n",
              "      <td>17.500000</td>\n",
              "      <td>0.30000</td>\n",
              "      <td>0.300000</td>\n",
              "      <td>0.000000</td>\n",
              "      <td>42.300000</td>\n",
              "      <td>89.309346</td>\n",
              "      <td>189.0</td>\n",
              "      <td>1</td>\n",
              "    </tr>\n",
              "    <tr>\n",
              "      <th>1</th>\n",
              "      <td>Albania</td>\n",
              "      <td>70.000</td>\n",
              "      <td>39.900000</td>\n",
              "      <td>100.000000</td>\n",
              "      <td>38.6</td>\n",
              "      <td>0.8568</td>\n",
              "      <td>45.73494</td>\n",
              "      <td>18.2</td>\n",
              "      <td>8.20000</td>\n",
              "      <td>2.000000</td>\n",
              "      <td>...</td>\n",
              "      <td>271.500000</td>\n",
              "      <td>759.700000</td>\n",
              "      <td>0.700000</td>\n",
              "      <td>1.20000</td>\n",
              "      <td>3.600000</td>\n",
              "      <td>11.600000</td>\n",
              "      <td>98.400000</td>\n",
              "      <td>53.000000</td>\n",
              "      <td>18.0</td>\n",
              "      <td>0</td>\n",
              "    </tr>\n",
              "    <tr>\n",
              "      <th>2</th>\n",
              "      <td>Algeria</td>\n",
              "      <td>79.075</td>\n",
              "      <td>17.700000</td>\n",
              "      <td>100.000000</td>\n",
              "      <td>0.1</td>\n",
              "      <td>0.5000</td>\n",
              "      <td>45.73494</td>\n",
              "      <td>39.9</td>\n",
              "      <td>21.20000</td>\n",
              "      <td>3.700000</td>\n",
              "      <td>...</td>\n",
              "      <td>260.400000</td>\n",
              "      <td>998.200000</td>\n",
              "      <td>0.000000</td>\n",
              "      <td>1.80000</td>\n",
              "      <td>2.200000</td>\n",
              "      <td>12.100000</td>\n",
              "      <td>100.000000</td>\n",
              "      <td>89.309346</td>\n",
              "      <td>69.0</td>\n",
              "      <td>0</td>\n",
              "    </tr>\n",
              "    <tr>\n",
              "      <th>3</th>\n",
              "      <td>American Samoa</td>\n",
              "      <td>12.600</td>\n",
              "      <td>68.342553</td>\n",
              "      <td>85.433019</td>\n",
              "      <td>0.9</td>\n",
              "      <td>0.8568</td>\n",
              "      <td>45.73494</td>\n",
              "      <td>12.4</td>\n",
              "      <td>6.70068</td>\n",
              "      <td>4.882759</td>\n",
              "      <td>...</td>\n",
              "      <td>262.872059</td>\n",
              "      <td>386.331818</td>\n",
              "      <td>9.116766</td>\n",
              "      <td>1.72328</td>\n",
              "      <td>4.139153</td>\n",
              "      <td>37.937143</td>\n",
              "      <td>84.202454</td>\n",
              "      <td>89.309346</td>\n",
              "      <td>0.0</td>\n",
              "      <td>0</td>\n",
              "    </tr>\n",
              "    <tr>\n",
              "      <th>4</th>\n",
              "      <td>Andorra</td>\n",
              "      <td>90.600</td>\n",
              "      <td>100.000000</td>\n",
              "      <td>100.000000</td>\n",
              "      <td>19.7</td>\n",
              "      <td>0.8568</td>\n",
              "      <td>45.73494</td>\n",
              "      <td>10.3</td>\n",
              "      <td>6.70068</td>\n",
              "      <td>5.800000</td>\n",
              "      <td>...</td>\n",
              "      <td>262.872059</td>\n",
              "      <td>386.331818</td>\n",
              "      <td>9.116766</td>\n",
              "      <td>3.30000</td>\n",
              "      <td>4.000000</td>\n",
              "      <td>83.100000</td>\n",
              "      <td>100.000000</td>\n",
              "      <td>80.000000</td>\n",
              "      <td>3.0</td>\n",
              "      <td>0</td>\n",
              "    </tr>\n",
              "  </tbody>\n",
              "</table>\n",
              "<p>5 rows × 101 columns</p>\n",
              "</div>\n",
              "      <button class=\"colab-df-convert\" onclick=\"convertToInteractive('df-0f2e9110-4443-46fe-9e82-5400554aa5d1')\"\n",
              "              title=\"Convert this dataframe to an interactive table.\"\n",
              "              style=\"display:none;\">\n",
              "\n",
              "  <svg xmlns=\"http://www.w3.org/2000/svg\" height=\"24px\"viewBox=\"0 0 24 24\"\n",
              "       width=\"24px\">\n",
              "    <path d=\"M0 0h24v24H0V0z\" fill=\"none\"/>\n",
              "    <path d=\"M18.56 5.44l.94 2.06.94-2.06 2.06-.94-2.06-.94-.94-2.06-.94 2.06-2.06.94zm-11 1L8.5 8.5l.94-2.06 2.06-.94-2.06-.94L8.5 2.5l-.94 2.06-2.06.94zm10 10l.94 2.06.94-2.06 2.06-.94-2.06-.94-.94-2.06-.94 2.06-2.06.94z\"/><path d=\"M17.41 7.96l-1.37-1.37c-.4-.4-.92-.59-1.43-.59-.52 0-1.04.2-1.43.59L10.3 9.45l-7.72 7.72c-.78.78-.78 2.05 0 2.83L4 21.41c.39.39.9.59 1.41.59.51 0 1.02-.2 1.41-.59l7.78-7.78 2.81-2.81c.8-.78.8-2.07 0-2.86zM5.41 20L4 18.59l7.72-7.72 1.47 1.35L5.41 20z\"/>\n",
              "  </svg>\n",
              "      </button>\n",
              "\n",
              "\n",
              "\n",
              "    <div id=\"df-c165c22f-243f-4805-ab4a-22e4493c8e6a\">\n",
              "      <button class=\"colab-df-quickchart\" onclick=\"quickchart('df-c165c22f-243f-4805-ab4a-22e4493c8e6a')\"\n",
              "              title=\"Suggest charts.\"\n",
              "              style=\"display:none;\">\n",
              "\n",
              "<svg xmlns=\"http://www.w3.org/2000/svg\" height=\"24px\"viewBox=\"0 0 24 24\"\n",
              "     width=\"24px\">\n",
              "    <g>\n",
              "        <path d=\"M19 3H5c-1.1 0-2 .9-2 2v14c0 1.1.9 2 2 2h14c1.1 0 2-.9 2-2V5c0-1.1-.9-2-2-2zM9 17H7v-7h2v7zm4 0h-2V7h2v10zm4 0h-2v-4h2v4z\"/>\n",
              "    </g>\n",
              "</svg>\n",
              "      </button>\n",
              "    </div>\n",
              "\n",
              "<style>\n",
              "  .colab-df-quickchart {\n",
              "    background-color: #E8F0FE;\n",
              "    border: none;\n",
              "    border-radius: 50%;\n",
              "    cursor: pointer;\n",
              "    display: none;\n",
              "    fill: #1967D2;\n",
              "    height: 32px;\n",
              "    padding: 0 0 0 0;\n",
              "    width: 32px;\n",
              "  }\n",
              "\n",
              "  .colab-df-quickchart:hover {\n",
              "    background-color: #E2EBFA;\n",
              "    box-shadow: 0px 1px 2px rgba(60, 64, 67, 0.3), 0px 1px 3px 1px rgba(60, 64, 67, 0.15);\n",
              "    fill: #174EA6;\n",
              "  }\n",
              "\n",
              "  [theme=dark] .colab-df-quickchart {\n",
              "    background-color: #3B4455;\n",
              "    fill: #D2E3FC;\n",
              "  }\n",
              "\n",
              "  [theme=dark] .colab-df-quickchart:hover {\n",
              "    background-color: #434B5C;\n",
              "    box-shadow: 0px 1px 3px 1px rgba(0, 0, 0, 0.15);\n",
              "    filter: drop-shadow(0px 1px 2px rgba(0, 0, 0, 0.3));\n",
              "    fill: #FFFFFF;\n",
              "  }\n",
              "</style>\n",
              "\n",
              "    <script>\n",
              "      async function quickchart(key) {\n",
              "        const containerElement = document.querySelector('#' + key);\n",
              "        const charts = await google.colab.kernel.invokeFunction(\n",
              "            'suggestCharts', [key], {});\n",
              "      }\n",
              "    </script>\n",
              "\n",
              "      <script>\n",
              "\n",
              "function displayQuickchartButton(domScope) {\n",
              "  let quickchartButtonEl =\n",
              "    domScope.querySelector('#df-c165c22f-243f-4805-ab4a-22e4493c8e6a button.colab-df-quickchart');\n",
              "  quickchartButtonEl.style.display =\n",
              "    google.colab.kernel.accessAllowed ? 'block' : 'none';\n",
              "}\n",
              "\n",
              "        displayQuickchartButton(document);\n",
              "      </script>\n",
              "      <style>\n",
              "    .colab-df-container {\n",
              "      display:flex;\n",
              "      flex-wrap:wrap;\n",
              "      gap: 12px;\n",
              "    }\n",
              "\n",
              "    .colab-df-convert {\n",
              "      background-color: #E8F0FE;\n",
              "      border: none;\n",
              "      border-radius: 50%;\n",
              "      cursor: pointer;\n",
              "      display: none;\n",
              "      fill: #1967D2;\n",
              "      height: 32px;\n",
              "      padding: 0 0 0 0;\n",
              "      width: 32px;\n",
              "    }\n",
              "\n",
              "    .colab-df-convert:hover {\n",
              "      background-color: #E2EBFA;\n",
              "      box-shadow: 0px 1px 2px rgba(60, 64, 67, 0.3), 0px 1px 3px 1px rgba(60, 64, 67, 0.15);\n",
              "      fill: #174EA6;\n",
              "    }\n",
              "\n",
              "    [theme=dark] .colab-df-convert {\n",
              "      background-color: #3B4455;\n",
              "      fill: #D2E3FC;\n",
              "    }\n",
              "\n",
              "    [theme=dark] .colab-df-convert:hover {\n",
              "      background-color: #434B5C;\n",
              "      box-shadow: 0px 1px 3px 1px rgba(0, 0, 0, 0.15);\n",
              "      filter: drop-shadow(0px 1px 2px rgba(0, 0, 0, 0.3));\n",
              "      fill: #FFFFFF;\n",
              "    }\n",
              "  </style>\n",
              "\n",
              "      <script>\n",
              "        const buttonEl =\n",
              "          document.querySelector('#df-0f2e9110-4443-46fe-9e82-5400554aa5d1 button.colab-df-convert');\n",
              "        buttonEl.style.display =\n",
              "          google.colab.kernel.accessAllowed ? 'block' : 'none';\n",
              "\n",
              "        async function convertToInteractive(key) {\n",
              "          const element = document.querySelector('#df-0f2e9110-4443-46fe-9e82-5400554aa5d1');\n",
              "          const dataTable =\n",
              "            await google.colab.kernel.invokeFunction('convertToInteractive',\n",
              "                                                     [key], {});\n",
              "          if (!dataTable) return;\n",
              "\n",
              "          const docLinkHtml = 'Like what you see? Visit the ' +\n",
              "            '<a target=\"_blank\" href=https://colab.research.google.com/notebooks/data_table.ipynb>data table notebook</a>'\n",
              "            + ' to learn more about interactive tables.';\n",
              "          element.innerHTML = '';\n",
              "          dataTable['output_type'] = 'display_data';\n",
              "          await google.colab.output.renderOutput(dataTable, element);\n",
              "          const docLink = document.createElement('div');\n",
              "          docLink.innerHTML = docLinkHtml;\n",
              "          element.appendChild(docLink);\n",
              "        }\n",
              "      </script>\n",
              "    </div>\n",
              "  </div>\n"
            ]
          },
          "metadata": {},
          "execution_count": 3
        }
      ],
      "source": [
        "df.head()\n"
      ]
    },
    {
      "cell_type": "code",
      "source": [
        "print('------ Dataset ------')\n",
        "print(f'Number of rows: {df.shape[0]}')\n",
        "print(f'Number of columns: {df.shape[1]}')"
      ],
      "metadata": {
        "colab": {
          "base_uri": "https://localhost:8080/"
        },
        "id": "o9Wvrng0TF-g",
        "outputId": "e3cbaaaf-aa6c-4324-9e80-49e0b06517b4"
      },
      "id": "o9Wvrng0TF-g",
      "execution_count": 33,
      "outputs": [
        {
          "output_type": "stream",
          "name": "stdout",
          "text": [
            "------ Dataset ------\n",
            "Number of rows: 214\n",
            "Number of columns: 100\n"
          ]
        }
      ]
    },
    {
      "cell_type": "code",
      "source": [
        "df.set_index(\"Country\", inplace = True)"
      ],
      "metadata": {
        "id": "sP7TP1jCKHuA"
      },
      "id": "sP7TP1jCKHuA",
      "execution_count": 4,
      "outputs": []
    },
    {
      "cell_type": "code",
      "source": [
        "# defining x and y and chose target as out put instead of Tuberculosis per 100,000\n",
        "X= df.drop(columns=['Incidence of tuberculosis per 100,000 people 2018','output']).values\n",
        "y= df['output'].values"
      ],
      "metadata": {
        "id": "bUM9Oo0eKHkt"
      },
      "id": "bUM9Oo0eKHkt",
      "execution_count": 5,
      "outputs": []
    },
    {
      "cell_type": "code",
      "source": [
        "# split the data\n",
        "X1_train1, X1_test, y_train, y_test = train_test_split(X, y, test_size=0.25, random_state=0)"
      ],
      "metadata": {
        "id": "vyHs0MZcKbzE"
      },
      "id": "vyHs0MZcKbzE",
      "execution_count": 6,
      "outputs": []
    },
    {
      "cell_type": "code",
      "source": [
        "from sklearn.preprocessing import MinMaxScaler\n",
        "from sklearn.feature_selection import SelectKBest, f_regression\n",
        "\n",
        "# Create a MinMaxScaler object\n",
        "scaler = MinMaxScaler()\n",
        "\n",
        "# Fit and transform the scaler on X1_train1\n",
        "X1_train1 = scaler.fit_transform(X1_train1)"
      ],
      "metadata": {
        "id": "nKg9z3GVNHqW"
      },
      "id": "nKg9z3GVNHqW",
      "execution_count": 7,
      "outputs": []
    },
    {
      "cell_type": "code",
      "source": [
        "X1_train1[0]"
      ],
      "metadata": {
        "colab": {
          "base_uri": "https://localhost:8080/"
        },
        "outputId": "87b8a334-7f25-4ee3-acc1-1599cba62949",
        "id": "bi4x6W-jKo7g"
      },
      "execution_count": 8,
      "outputs": [
        {
          "output_type": "execute_result",
          "data": {
            "text/plain": [
              "array([1.        , 0.87940235, 1.        , 0.32150313, 0.27906977,\n",
              "       0.43527678, 0.00119332, 0.84505988, 0.17539863, 0.30653266,\n",
              "       0.00948767, 0.90678825, 0.15217391, 0.14942529, 0.71428571,\n",
              "       0.26449021, 0.39007092, 0.39267548, 0.0029985 , 0.005     ,\n",
              "       0.10142349, 0.03716814, 0.15789474, 0.06315789, 1.        ,\n",
              "       1.        , 1.        , 1.        , 1.        , 1.        ,\n",
              "       0.29622063, 0.32150313, 0.715     , 0.801     , 0.54117647,\n",
              "       0.47560976, 0.12871287, 0.48604637, 0.15592126, 0.13082617,\n",
              "       0.50880361, 0.18793034, 0.09249184, 0.06877729, 0.21298487,\n",
              "       0.23245423, 0.01648352, 0.0747331 , 0.        , 0.0045045 ,\n",
              "       0.02074689, 0.01465201, 0.06395349, 0.66666667, 0.90066225,\n",
              "       0.83767535, 0.08888889, 0.23228346, 0.33703601, 0.42725161,\n",
              "       0.2962963 , 0.40540541, 0.25      , 0.17539863, 0.1875    ,\n",
              "       0.14285714, 0.36333333, 0.00803089, 0.00169617, 0.63265306,\n",
              "       0.23958333, 0.14285714, 0.05063291, 1.        , 1.        ,\n",
              "       0.39419348, 0.1068475 , 0.20856102, 0.11490318, 0.0420082 ,\n",
              "       0.94008264, 0.23307274, 0.24243725, 0.04035088, 0.95770393,\n",
              "       0.53026599, 0.34395659, 0.48701299, 0.80968097, 0.16687268,\n",
              "       0.25370258, 0.36810061, 0.        , 0.36585366, 0.53960396,\n",
              "       0.2198364 , 1.        , 1.        ])"
            ]
          },
          "metadata": {},
          "execution_count": 8
        }
      ],
      "id": "bi4x6W-jKo7g"
    },
    {
      "cell_type": "code",
      "source": [
        "# Define the model - deep neural net, i.e., the number of input features and hidden nodes for each layer.\n",
        "l_1 = 50\n",
        "l_2 = 50\n",
        "input_features = len(X1_train1[0])\n",
        "nn1 = tf.keras.models.Sequential()\n",
        "\n",
        "# First hidden layer\n",
        "nn1.add(tf.keras.layers.Dense(units=l_1, input_dim = input_features, activation = \"tanh\"))\n",
        "\n",
        "# Second hidden layer\n",
        "nn1.add(tf.keras.layers.Dense(units=l_2, activation = \"LeakyReLU\"))\n",
        "\n",
        "# Output layer\n",
        "nn1.add(tf.keras.layers.Dense(units=1, activation=\"sigmoid\"))\n",
        "\n",
        "# Check the structure of the model\n",
        "nn1.summary()"
      ],
      "metadata": {
        "colab": {
          "base_uri": "https://localhost:8080/"
        },
        "id": "liqh-6FVKtfU",
        "outputId": "5ee08a99-b254-48c8-8319-eb267fe1751e"
      },
      "id": "liqh-6FVKtfU",
      "execution_count": 9,
      "outputs": [
        {
          "output_type": "stream",
          "name": "stdout",
          "text": [
            "Model: \"sequential\"\n",
            "_________________________________________________________________\n",
            " Layer (type)                Output Shape              Param #   \n",
            "=================================================================\n",
            " dense (Dense)               (None, 50)                4950      \n",
            "                                                                 \n",
            " dense_1 (Dense)             (None, 50)                2550      \n",
            "                                                                 \n",
            " dense_2 (Dense)             (None, 1)                 51        \n",
            "                                                                 \n",
            "=================================================================\n",
            "Total params: 7,551\n",
            "Trainable params: 7,551\n",
            "Non-trainable params: 0\n",
            "_________________________________________________________________\n"
          ]
        }
      ]
    },
    {
      "cell_type": "code",
      "source": [
        "# Compile the model\n",
        "nn1.compile(loss=\"binary_crossentropy\", optimizer=\"adam\", metrics=[\"accuracy\"])"
      ],
      "metadata": {
        "id": "ed_CcWBgLKu3"
      },
      "id": "ed_CcWBgLKu3",
      "execution_count": 10,
      "outputs": []
    },
    {
      "cell_type": "code",
      "source": [
        "# Train the model\n",
        "nn1.fit(X1_train1, y_train, epochs=50)"
      ],
      "metadata": {
        "colab": {
          "base_uri": "https://localhost:8080/"
        },
        "id": "q8ckqynRLZPx",
        "outputId": "1e6b1011-da75-4201-e48e-818e7a2811ce"
      },
      "id": "q8ckqynRLZPx",
      "execution_count": 11,
      "outputs": [
        {
          "output_type": "stream",
          "name": "stdout",
          "text": [
            "Epoch 1/50\n",
            "5/5 [==============================] - 2s 15ms/step - loss: 0.6388 - accuracy: 0.6187\n",
            "Epoch 2/50\n",
            "5/5 [==============================] - 0s 6ms/step - loss: 0.5526 - accuracy: 0.6750\n",
            "Epoch 3/50\n",
            "5/5 [==============================] - 0s 7ms/step - loss: 0.5089 - accuracy: 0.7125\n",
            "Epoch 4/50\n",
            "5/5 [==============================] - 0s 7ms/step - loss: 0.4713 - accuracy: 0.7875\n",
            "Epoch 5/50\n",
            "5/5 [==============================] - 0s 5ms/step - loss: 0.4504 - accuracy: 0.8188\n",
            "Epoch 6/50\n",
            "5/5 [==============================] - 0s 5ms/step - loss: 0.4329 - accuracy: 0.8000\n",
            "Epoch 7/50\n",
            "5/5 [==============================] - 0s 6ms/step - loss: 0.4218 - accuracy: 0.8062\n",
            "Epoch 8/50\n",
            "5/5 [==============================] - 0s 12ms/step - loss: 0.4136 - accuracy: 0.8062\n",
            "Epoch 9/50\n",
            "5/5 [==============================] - 0s 8ms/step - loss: 0.4071 - accuracy: 0.8188\n",
            "Epoch 10/50\n",
            "5/5 [==============================] - 0s 5ms/step - loss: 0.4035 - accuracy: 0.8188\n",
            "Epoch 11/50\n",
            "5/5 [==============================] - 0s 7ms/step - loss: 0.3992 - accuracy: 0.8125\n",
            "Epoch 12/50\n",
            "5/5 [==============================] - 0s 7ms/step - loss: 0.3928 - accuracy: 0.8125\n",
            "Epoch 13/50\n",
            "5/5 [==============================] - 0s 6ms/step - loss: 0.3862 - accuracy: 0.8250\n",
            "Epoch 14/50\n",
            "5/5 [==============================] - 0s 5ms/step - loss: 0.3807 - accuracy: 0.8375\n",
            "Epoch 15/50\n",
            "5/5 [==============================] - 0s 6ms/step - loss: 0.3751 - accuracy: 0.8375\n",
            "Epoch 16/50\n",
            "5/5 [==============================] - 0s 8ms/step - loss: 0.3720 - accuracy: 0.8313\n",
            "Epoch 17/50\n",
            "5/5 [==============================] - 0s 16ms/step - loss: 0.3641 - accuracy: 0.8438\n",
            "Epoch 18/50\n",
            "5/5 [==============================] - 0s 6ms/step - loss: 0.3586 - accuracy: 0.8438\n",
            "Epoch 19/50\n",
            "5/5 [==============================] - 0s 7ms/step - loss: 0.3548 - accuracy: 0.8500\n",
            "Epoch 20/50\n",
            "5/5 [==============================] - 0s 6ms/step - loss: 0.3493 - accuracy: 0.8500\n",
            "Epoch 21/50\n",
            "5/5 [==============================] - 0s 7ms/step - loss: 0.3432 - accuracy: 0.8500\n",
            "Epoch 22/50\n",
            "5/5 [==============================] - 0s 6ms/step - loss: 0.3399 - accuracy: 0.8562\n",
            "Epoch 23/50\n",
            "5/5 [==============================] - 0s 12ms/step - loss: 0.3349 - accuracy: 0.8625\n",
            "Epoch 24/50\n",
            "5/5 [==============================] - 0s 16ms/step - loss: 0.3277 - accuracy: 0.8625\n",
            "Epoch 25/50\n",
            "5/5 [==============================] - 0s 7ms/step - loss: 0.3231 - accuracy: 0.8625\n",
            "Epoch 26/50\n",
            "5/5 [==============================] - 0s 10ms/step - loss: 0.3226 - accuracy: 0.8813\n",
            "Epoch 27/50\n",
            "5/5 [==============================] - 0s 8ms/step - loss: 0.3230 - accuracy: 0.8625\n",
            "Epoch 28/50\n",
            "5/5 [==============================] - 0s 10ms/step - loss: 0.3123 - accuracy: 0.8813\n",
            "Epoch 29/50\n",
            "5/5 [==============================] - 0s 8ms/step - loss: 0.3135 - accuracy: 0.8938\n",
            "Epoch 30/50\n",
            "5/5 [==============================] - 0s 16ms/step - loss: 0.2995 - accuracy: 0.8875\n",
            "Epoch 31/50\n",
            "5/5 [==============================] - 0s 4ms/step - loss: 0.2955 - accuracy: 0.8938\n",
            "Epoch 32/50\n",
            "5/5 [==============================] - 0s 9ms/step - loss: 0.2898 - accuracy: 0.9062\n",
            "Epoch 33/50\n",
            "5/5 [==============================] - 0s 5ms/step - loss: 0.2917 - accuracy: 0.9125\n",
            "Epoch 34/50\n",
            "5/5 [==============================] - 0s 8ms/step - loss: 0.2888 - accuracy: 0.9125\n",
            "Epoch 35/50\n",
            "5/5 [==============================] - 0s 7ms/step - loss: 0.2794 - accuracy: 0.9000\n",
            "Epoch 36/50\n",
            "5/5 [==============================] - 0s 5ms/step - loss: 0.2794 - accuracy: 0.9125\n",
            "Epoch 37/50\n",
            "5/5 [==============================] - 0s 6ms/step - loss: 0.2731 - accuracy: 0.9062\n",
            "Epoch 38/50\n",
            "5/5 [==============================] - 0s 12ms/step - loss: 0.2713 - accuracy: 0.9187\n",
            "Epoch 39/50\n",
            "5/5 [==============================] - 0s 5ms/step - loss: 0.2800 - accuracy: 0.9187\n",
            "Epoch 40/50\n",
            "5/5 [==============================] - 0s 9ms/step - loss: 0.2698 - accuracy: 0.9312\n",
            "Epoch 41/50\n",
            "5/5 [==============================] - 0s 21ms/step - loss: 0.2673 - accuracy: 0.9125\n",
            "Epoch 42/50\n",
            "5/5 [==============================] - 0s 7ms/step - loss: 0.2626 - accuracy: 0.9250\n",
            "Epoch 43/50\n",
            "5/5 [==============================] - 0s 5ms/step - loss: 0.2654 - accuracy: 0.9125\n",
            "Epoch 44/50\n",
            "5/5 [==============================] - 0s 10ms/step - loss: 0.2510 - accuracy: 0.9250\n",
            "Epoch 45/50\n",
            "5/5 [==============================] - 0s 6ms/step - loss: 0.2632 - accuracy: 0.9125\n",
            "Epoch 46/50\n",
            "5/5 [==============================] - 0s 8ms/step - loss: 0.2562 - accuracy: 0.8938\n",
            "Epoch 47/50\n",
            "5/5 [==============================] - 0s 5ms/step - loss: 0.2443 - accuracy: 0.9187\n",
            "Epoch 48/50\n",
            "5/5 [==============================] - 0s 5ms/step - loss: 0.2455 - accuracy: 0.9250\n",
            "Epoch 49/50\n",
            "5/5 [==============================] - 0s 9ms/step - loss: 0.2353 - accuracy: 0.9312\n",
            "Epoch 50/50\n",
            "5/5 [==============================] - 0s 10ms/step - loss: 0.2345 - accuracy: 0.9312\n"
          ]
        },
        {
          "output_type": "execute_result",
          "data": {
            "text/plain": [
              "<keras.callbacks.History at 0x7f0266e77c10>"
            ]
          },
          "metadata": {},
          "execution_count": 11
        }
      ]
    },
    {
      "cell_type": "code",
      "source": [
        "# Evaluate the model using the test data\n",
        "model_loss, model_accuracy = nn1.evaluate(X1_test,y_test,verbose=2)\n",
        "print(f\"Loss: {model_loss}, Accuracy: {model_accuracy}\")"
      ],
      "metadata": {
        "colab": {
          "base_uri": "https://localhost:8080/"
        },
        "outputId": "3541b833-35ca-4125-9a3d-3d2fd27fbe7a",
        "id": "CaMY0unoLx7a"
      },
      "execution_count": 12,
      "outputs": [
        {
          "output_type": "stream",
          "name": "stdout",
          "text": [
            "2/2 - 0s - loss: 0.6033 - accuracy: 0.7778 - 385ms/epoch - 192ms/step\n",
            "Loss: 0.603334903717041, Accuracy: 0.7777777910232544\n"
          ]
        }
      ],
      "id": "CaMY0unoLx7a"
    },
    {
      "cell_type": "code",
      "source": [
        "y_pred = nn1.predict(X1_test)\n",
        "\n",
        "# The predictions will be in the form of probabilities, so you might want to round them to get class labels (0 or 1)\n",
        "y_pred_class = y_pred.round()\n",
        "# Calculate the accuracy of the predictions\n",
        "correct_predictions = (y_pred_class == y_test.reshape(-1, 1)).sum()\n",
        "total_samples = len(y_test)\n",
        "accuracy = correct_predictions / total_samples\n",
        "print(\"Accuracy:\", accuracy)\n",
        "\n",
        "# Print the classification report\n",
        "print(\"Classification Report:\")\n",
        "print(classification_report(y_test, y_pred_class))"
      ],
      "metadata": {
        "colab": {
          "base_uri": "https://localhost:8080/"
        },
        "outputId": "22d13ed8-92f0-48c4-d3fa-145a54ca2702",
        "id": "pIQtA9nXLx7a"
      },
      "execution_count": 13,
      "outputs": [
        {
          "output_type": "stream",
          "name": "stdout",
          "text": [
            "2/2 [==============================] - 0s 8ms/step\n",
            "Accuracy: 0.7777777777777778\n",
            "Classification Report:\n",
            "              precision    recall  f1-score   support\n",
            "\n",
            "           0       0.90      0.74      0.81        35\n",
            "           1       0.64      0.84      0.73        19\n",
            "\n",
            "    accuracy                           0.78        54\n",
            "   macro avg       0.77      0.79      0.77        54\n",
            "weighted avg       0.81      0.78      0.78        54\n",
            "\n"
          ]
        }
      ],
      "id": "pIQtA9nXLx7a"
    },
    {
      "cell_type": "code",
      "source": [
        "from tensorflow.keras.models import save_model\n",
        "\n",
        "model_filename = \"trained_model.h5\"\n",
        "model_path = \"D:/BC class/project 4/\" + model_filename\n",
        "save_model(nn1, model_path)"
      ],
      "metadata": {
        "id": "7VUKquXSNi-u"
      },
      "execution_count": 14,
      "outputs": [],
      "id": "7VUKquXSNi-u"
    },
    {
      "cell_type": "code",
      "source": [
        "nn1.save('nn1.h5')"
      ],
      "metadata": {
        "id": "QDse8GtgNi-v"
      },
      "execution_count": 15,
      "outputs": [],
      "id": "QDse8GtgNi-v"
    },
    {
      "cell_type": "code",
      "source": [
        "from ann_visualizer.visualize import ann_viz\n",
        "ann_viz(nn1, view=True, filename='first NN visulization', title='NN — Model 1 — Simple Architecture')"
      ],
      "metadata": {
        "id": "1wNS9Oi6Lx7b"
      },
      "execution_count": 16,
      "outputs": [],
      "id": "1wNS9Oi6Lx7b"
    },
    {
      "cell_type": "code",
      "source": [
        "import visualkeras"
      ],
      "metadata": {
        "id": "LupTupB1hziM"
      },
      "id": "LupTupB1hziM",
      "execution_count": 34,
      "outputs": []
    },
    {
      "cell_type": "code",
      "source": [
        "from PIL import ImageFont\n",
        "visualkeras.layered_view(nn1, legend=True)"
      ],
      "metadata": {
        "colab": {
          "base_uri": "https://localhost:8080/",
          "height": 80
        },
        "id": "isoNoYb6hwHS",
        "outputId": "71c4acc5-e19f-4cdf-9f58-03c308030297"
      },
      "id": "isoNoYb6hwHS",
      "execution_count": 35,
      "outputs": [
        {
          "output_type": "execute_result",
          "data": {
            "text/plain": [
              "<PIL.Image.Image image mode=RGBA size=107x63>"
            ],
            "image/png": "[encoded data removed]"
          },
          "metadata": {},
          "execution_count": 35
        }
      ]
    },
    {
      "cell_type": "code",
      "source": [
        "tf.keras.utils.plot_model(\n",
        "nn1,\n",
        "to_file=\"model1.png\",\n",
        "show_shapes=True,\n",
        "show_dtype=False,\n",
        "show_layer_names=True,\n",
        "rankdir=\"TB\",\n",
        "expand_nested=True,\n",
        "dpi=96,\n",
        "layer_range=None,\n",
        "show_layer_activations=True,\n",
        ")"
      ],
      "metadata": {
        "colab": {
          "base_uri": "https://localhost:8080/",
          "height": 422
        },
        "id": "zsZHjZ-MiXig",
        "outputId": "687d2f77-7ddc-4e26-96eb-e839257629c7"
      },
      "id": "zsZHjZ-MiXig",
      "execution_count": 38,
      "outputs": [
        {
          "output_type": "execute_result",
          "data": {
            "image/png": "[encoded data removed]",
            "text/plain": [
              "<IPython.core.display.Image object>"
            ]
          },
          "metadata": {},
          "execution_count": 38
        }
      ]
    },
    {
      "cell_type": "markdown",
      "source": [
        "# **Choosing the 20 best features and train the nn model using them**"
      ],
      "metadata": {
        "id": "LFXa4R_WL0A_"
      },
      "id": "LFXa4R_WL0A_"
    },
    {
      "cell_type": "code",
      "source": [
        "k_best = 20  # Select the top 20 features\n",
        "selector = SelectKBest(score_func=chi2, k=k_best)\n",
        "X1_train = selector.fit_transform(X1_train1, y_train)\n",
        "X1_test = selector.transform(X1_test)\n",
        "#  here the out put should be discrete so the out put should be cahanged to y = output"
      ],
      "metadata": {
        "id": "rHdsxVwUt5rH"
      },
      "id": "rHdsxVwUt5rH",
      "execution_count": 17,
      "outputs": []
    },
    {
      "cell_type": "code",
      "source": [
        "selected_features_mask = selector.get_support()\n",
        "\n",
        "# Get the column names of the selected features\n",
        "selected_feature_names = df.drop(columns=['Incidence of tuberculosis per 100,000 people 2018', 'output']).columns[selected_features_mask]\n",
        "\n",
        "# Get the p-values of each feature\n",
        "p_values = selector.pvalues_[selected_features_mask]\n",
        "\n",
        "# Create a DataFrame to store the results\n",
        "result_df = pd.DataFrame({\n",
        "    'Feature': selected_feature_names,\n",
        "    'P-Value': p_values\n",
        "})\n",
        "\n",
        "# Sort the DataFrame based on the p-values in ascending order\n",
        "result_df = result_df.sort_values(by='P-Value')\n",
        "\n",
        "# Reset the index of the DataFrame\n",
        "result_df = result_df.reset_index(drop=True)\n",
        "\n",
        "# Print the result DataFrame\n",
        "print(result_df)"
      ],
      "metadata": {
        "colab": {
          "base_uri": "https://localhost:8080/"
        },
        "id": "7TrOISDX-8Or",
        "outputId": "71d32298-c71d-48d9-ff3b-ced32f6a7e7a"
      },
      "id": "7TrOISDX-8Or",
      "execution_count": 18,
      "outputs": [
        {
          "output_type": "stream",
          "name": "stdout",
          "text": [
            "                                              Feature   P-Value\n",
            "0   Access to clean fuels and technologies for coo...  0.000067\n",
            "1   Access to clean fuels and technologies for coo...  0.000335\n",
            "2   Renewable energy consumption % of total final ...  0.000869\n",
            "3   External health expenditure (% of current heal...  0.001090\n",
            "4   Agricultural employment % of total employment ...  0.001978\n",
            "5   Agricultural employment % of total employment ...  0.002763\n",
            "6    Access to electricity % of rural population 2016  0.003479\n",
            "7   Renewable energy consumption % of total final ...  0.003566\n",
            "8   Renewable energy consumption % of total final ...  0.003566\n",
            "9          Access to electricity % of population 2000  0.009338\n",
            "10  Internet use Individuals using the Internet % ...  0.010970\n",
            "11  Health workers Physicians per 1,000 people 200...  0.016905\n",
            "12  Specialist surgical workforce per 100,000 popu...  0.022272\n",
            "13         Access to electricity % of population 2016  0.024547\n",
            "14  Health workers Nurses and midwives per 1,000 p...  0.026631\n",
            "15         Access to electricity % of population 2017  0.031514\n",
            "16  People using at least basic drinking water ser...  0.034006\n",
            "17  Exposure to impact Population affected by drou...  0.034050\n",
            "18  Carbon dioxide emissions per capita metric ton...  0.035587\n",
            "19                   Rural population % of total 2000  0.038654\n"
          ]
        }
      ]
    },
    {
      "cell_type": "code",
      "source": [
        "X = df[[ 'Access to clean fuels and technologies for cooking % of population 2000',\n",
        "       'Access to clean fuels and technologies for cooking % of population 2016',\n",
        "        'Renewable energy consumption % of total final energy consumption 2015_x',\n",
        "         'External health expenditure (% of current health expenditure)  2016',\n",
        "         'Agricultural employment % of total employment 2000-02',\n",
        "       'Agricultural employment % of total employment 2014-16',\n",
        "         'Access to electricity % of rural population 2016'\n",
        "         ]].values\n",
        "X_train, X_test, y_train, y_test = train_test_split(X, y,random_state=1,stratify=y,test_size=.2)\n"
      ],
      "metadata": {
        "id": "t3c6ykSThYtq"
      },
      "id": "t3c6ykSThYtq",
      "execution_count": 19,
      "outputs": []
    },
    {
      "cell_type": "code",
      "source": [
        "X_train[0]"
      ],
      "metadata": {
        "colab": {
          "base_uri": "https://localhost:8080/"
        },
        "id": "y86osS0JJPm6",
        "outputId": "eb98cb09-3fab-4c25-f0b6-0fa2478c0a23"
      },
      "id": "y86osS0JJPm6",
      "execution_count": 20,
      "outputs": [
        {
          "output_type": "execute_result",
          "data": {
            "text/plain": [
              "array([100. , 100. ,   0.7,   0. ,   0.8,   0.5, 100. ])"
            ]
          },
          "metadata": {},
          "execution_count": 20
        }
      ]
    },
    {
      "cell_type": "code",
      "source": [
        "# Define the model - deep neural net, i.e., the number of input features and hidden nodes for each layer.\n",
        "l_1 = 50\n",
        "l_2 = 50\n",
        "input_features = len(X_train[0])\n",
        "nn = tf.keras.models.Sequential()\n",
        "\n",
        "# First hidden layer\n",
        "nn.add(tf.keras.layers.Dense(units=l_1, input_dim = input_features, activation = \"tanh\"))\n",
        "\n",
        "# Second hidden layer\n",
        "nn.add(tf.keras.layers.Dense(units=l_2, activation = \"LeakyReLU\"))\n",
        "\n",
        "# Output layer\n",
        "nn.add(tf.keras.layers.Dense(units=1, activation=\"sigmoid\"))\n",
        "\n",
        "# Check the structure of the model\n",
        "nn.summary()"
      ],
      "metadata": {
        "colab": {
          "base_uri": "https://localhost:8080/"
        },
        "id": "H6A-MirP04IM",
        "outputId": "24a8a6b8-3407-413e-e8c5-c1d74f847e36"
      },
      "id": "H6A-MirP04IM",
      "execution_count": 21,
      "outputs": [
        {
          "output_type": "stream",
          "name": "stdout",
          "text": [
            "Model: \"sequential_1\"\n",
            "_________________________________________________________________\n",
            " Layer (type)                Output Shape              Param #   \n",
            "=================================================================\n",
            " dense_3 (Dense)             (None, 50)                400       \n",
            "                                                                 \n",
            " dense_4 (Dense)             (None, 50)                2550      \n",
            "                                                                 \n",
            " dense_5 (Dense)             (None, 1)                 51        \n",
            "                                                                 \n",
            "=================================================================\n",
            "Total params: 3,001\n",
            "Trainable params: 3,001\n",
            "Non-trainable params: 0\n",
            "_________________________________________________________________\n"
          ]
        }
      ]
    },
    {
      "cell_type": "code",
      "source": [
        "# Compile the model\n",
        "nn.compile(loss=\"binary_crossentropy\", optimizer=\"adam\", metrics=[\"accuracy\"])"
      ],
      "metadata": {
        "id": "gaEbhdF61-IM"
      },
      "id": "gaEbhdF61-IM",
      "execution_count": 22,
      "outputs": []
    },
    {
      "cell_type": "code",
      "source": [
        "# Train the model\n",
        "nn.fit(X_train, y_train, epochs=50)"
      ],
      "metadata": {
        "id": "jK3JJTyG1-LQ",
        "colab": {
          "base_uri": "https://localhost:8080/"
        },
        "outputId": "e41f8792-9fb1-41d8-cae9-fc9ebfb7bf3f"
      },
      "id": "jK3JJTyG1-LQ",
      "execution_count": 23,
      "outputs": [
        {
          "output_type": "stream",
          "name": "stdout",
          "text": [
            "Epoch 1/50\n",
            "6/6 [==============================] - 2s 8ms/step - loss: 0.6298 - accuracy: 0.6140\n",
            "Epoch 2/50\n",
            "6/6 [==============================] - 0s 7ms/step - loss: 0.4439 - accuracy: 0.7778\n",
            "Epoch 3/50\n",
            "6/6 [==============================] - 0s 6ms/step - loss: 0.4222 - accuracy: 0.8012\n",
            "Epoch 4/50\n",
            "6/6 [==============================] - 0s 16ms/step - loss: 0.3938 - accuracy: 0.8246\n",
            "Epoch 5/50\n",
            "6/6 [==============================] - 0s 5ms/step - loss: 0.3700 - accuracy: 0.8246\n",
            "Epoch 6/50\n",
            "6/6 [==============================] - 0s 13ms/step - loss: 0.3696 - accuracy: 0.8304\n",
            "Epoch 7/50\n",
            "6/6 [==============================] - 0s 9ms/step - loss: 0.3667 - accuracy: 0.8363\n",
            "Epoch 8/50\n",
            "6/6 [==============================] - 0s 14ms/step - loss: 0.3573 - accuracy: 0.8421\n",
            "Epoch 9/50\n",
            "6/6 [==============================] - 0s 5ms/step - loss: 0.3518 - accuracy: 0.8480\n",
            "Epoch 10/50\n",
            "6/6 [==============================] - 0s 10ms/step - loss: 0.3438 - accuracy: 0.8480\n",
            "Epoch 11/50\n",
            "6/6 [==============================] - 0s 14ms/step - loss: 0.3355 - accuracy: 0.8480\n",
            "Epoch 12/50\n",
            "6/6 [==============================] - 0s 9ms/step - loss: 0.3281 - accuracy: 0.8480\n",
            "Epoch 13/50\n",
            "6/6 [==============================] - 0s 16ms/step - loss: 0.3253 - accuracy: 0.8480\n",
            "Epoch 14/50\n",
            "6/6 [==============================] - 0s 8ms/step - loss: 0.3198 - accuracy: 0.8480\n",
            "Epoch 15/50\n",
            "6/6 [==============================] - 0s 8ms/step - loss: 0.3162 - accuracy: 0.8538\n",
            "Epoch 16/50\n",
            "6/6 [==============================] - 0s 6ms/step - loss: 0.3099 - accuracy: 0.8480\n",
            "Epoch 17/50\n",
            "6/6 [==============================] - 0s 4ms/step - loss: 0.3067 - accuracy: 0.8480\n",
            "Epoch 18/50\n",
            "6/6 [==============================] - 0s 5ms/step - loss: 0.3017 - accuracy: 0.8421\n",
            "Epoch 19/50\n",
            "6/6 [==============================] - 0s 6ms/step - loss: 0.2975 - accuracy: 0.8538\n",
            "Epoch 20/50\n",
            "6/6 [==============================] - 0s 6ms/step - loss: 0.2955 - accuracy: 0.8655\n",
            "Epoch 21/50\n",
            "6/6 [==============================] - 0s 8ms/step - loss: 0.2898 - accuracy: 0.8713\n",
            "Epoch 22/50\n",
            "6/6 [==============================] - 0s 6ms/step - loss: 0.2850 - accuracy: 0.8596\n",
            "Epoch 23/50\n",
            "6/6 [==============================] - 0s 6ms/step - loss: 0.2859 - accuracy: 0.8596\n",
            "Epoch 24/50\n",
            "6/6 [==============================] - 0s 10ms/step - loss: 0.2787 - accuracy: 0.8713\n",
            "Epoch 25/50\n",
            "6/6 [==============================] - 0s 7ms/step - loss: 0.2715 - accuracy: 0.8655\n",
            "Epoch 26/50\n",
            "6/6 [==============================] - 0s 5ms/step - loss: 0.2690 - accuracy: 0.8655\n",
            "Epoch 27/50\n",
            "6/6 [==============================] - 0s 14ms/step - loss: 0.2702 - accuracy: 0.8772\n",
            "Epoch 28/50\n",
            "6/6 [==============================] - 0s 5ms/step - loss: 0.2633 - accuracy: 0.8830\n",
            "Epoch 29/50\n",
            "6/6 [==============================] - 0s 6ms/step - loss: 0.2551 - accuracy: 0.8830\n",
            "Epoch 30/50\n",
            "6/6 [==============================] - 0s 4ms/step - loss: 0.2520 - accuracy: 0.8830\n",
            "Epoch 31/50\n",
            "6/6 [==============================] - 0s 7ms/step - loss: 0.2460 - accuracy: 0.8889\n",
            "Epoch 32/50\n",
            "6/6 [==============================] - 0s 9ms/step - loss: 0.2441 - accuracy: 0.8889\n",
            "Epoch 33/50\n",
            "6/6 [==============================] - 0s 8ms/step - loss: 0.2449 - accuracy: 0.8830\n",
            "Epoch 34/50\n",
            "6/6 [==============================] - 0s 6ms/step - loss: 0.2367 - accuracy: 0.9006\n",
            "Epoch 35/50\n",
            "6/6 [==============================] - 0s 8ms/step - loss: 0.2310 - accuracy: 0.9006\n",
            "Epoch 36/50\n",
            "6/6 [==============================] - 0s 6ms/step - loss: 0.2258 - accuracy: 0.8947\n",
            "Epoch 37/50\n",
            "6/6 [==============================] - 0s 5ms/step - loss: 0.2216 - accuracy: 0.8947\n",
            "Epoch 38/50\n",
            "6/6 [==============================] - 0s 11ms/step - loss: 0.2183 - accuracy: 0.9064\n",
            "Epoch 39/50\n",
            "6/6 [==============================] - 0s 10ms/step - loss: 0.2145 - accuracy: 0.8889\n",
            "Epoch 40/50\n",
            "6/6 [==============================] - 0s 6ms/step - loss: 0.2122 - accuracy: 0.8947\n",
            "Epoch 41/50\n",
            "6/6 [==============================] - 0s 8ms/step - loss: 0.2093 - accuracy: 0.8947\n",
            "Epoch 42/50\n",
            "6/6 [==============================] - 0s 5ms/step - loss: 0.2062 - accuracy: 0.9123\n",
            "Epoch 43/50\n",
            "6/6 [==============================] - 0s 7ms/step - loss: 0.2036 - accuracy: 0.9240\n",
            "Epoch 44/50\n",
            "6/6 [==============================] - 0s 15ms/step - loss: 0.1990 - accuracy: 0.9240\n",
            "Epoch 45/50\n",
            "6/6 [==============================] - 0s 9ms/step - loss: 0.1965 - accuracy: 0.9181\n",
            "Epoch 46/50\n",
            "6/6 [==============================] - 0s 17ms/step - loss: 0.1934 - accuracy: 0.9123\n",
            "Epoch 47/50\n",
            "6/6 [==============================] - 0s 11ms/step - loss: 0.1890 - accuracy: 0.9240\n",
            "Epoch 48/50\n",
            "6/6 [==============================] - 0s 7ms/step - loss: 0.1881 - accuracy: 0.9181\n",
            "Epoch 49/50\n",
            "6/6 [==============================] - 0s 7ms/step - loss: 0.1873 - accuracy: 0.9181\n",
            "Epoch 50/50\n",
            "6/6 [==============================] - 0s 6ms/step - loss: 0.1847 - accuracy: 0.9181\n"
          ]
        },
        {
          "output_type": "execute_result",
          "data": {
            "text/plain": [
              "<keras.callbacks.History at 0x7f0266408490>"
            ]
          },
          "metadata": {},
          "execution_count": 23
        }
      ]
    },
    {
      "cell_type": "code",
      "source": [
        "# Evaluate the model using the test data\n",
        "model_loss, model_accuracy = nn.evaluate(X_test,y_test,verbose=2)\n",
        "print(f\"Loss: {model_loss}, Accuracy: {model_accuracy}\")"
      ],
      "metadata": {
        "id": "MbGwGGB21-No",
        "colab": {
          "base_uri": "https://localhost:8080/"
        },
        "outputId": "d8eb36e7-32eb-4a61-ef43-f9f10f024688"
      },
      "id": "MbGwGGB21-No",
      "execution_count": 24,
      "outputs": [
        {
          "output_type": "stream",
          "name": "stdout",
          "text": [
            "2/2 - 0s - loss: 0.4388 - accuracy: 0.8140 - 425ms/epoch - 212ms/step\n",
            "Loss: 0.43884047865867615, Accuracy: 0.8139534592628479\n"
          ]
        }
      ]
    },
    {
      "cell_type": "code",
      "source": [
        "y_pred = nn.predict(X_test)\n",
        "\n",
        "# The predictions will be in the form of probabilities, so you might want to round them to get class labels (0 or 1)\n",
        "y_pred_class = y_pred.round()\n",
        "# Calculate the accuracy of the predictions\n",
        "correct_predictions = (y_pred_class == y_test.reshape(-1, 1)).sum()\n",
        "total_samples = len(y_test)\n",
        "accuracy = correct_predictions / total_samples\n",
        "print(\"Accuracy:\", accuracy)\n",
        "\n",
        "# Print the classification report\n",
        "print(\"Classification Report:\")\n",
        "print(classification_report(y_test, y_pred_class))"
      ],
      "metadata": {
        "colab": {
          "base_uri": "https://localhost:8080/"
        },
        "id": "PyeqowTgqiAG",
        "outputId": "eb83c613-c8f2-4dc9-81fd-7ff6b094a44f"
      },
      "id": "PyeqowTgqiAG",
      "execution_count": 25,
      "outputs": [
        {
          "output_type": "stream",
          "name": "stdout",
          "text": [
            "2/2 [==============================] - 0s 15ms/step\n",
            "Accuracy: 0.813953488372093\n",
            "Classification Report:\n",
            "              precision    recall  f1-score   support\n",
            "\n",
            "           0       0.86      0.86      0.86        29\n",
            "           1       0.71      0.71      0.71        14\n",
            "\n",
            "    accuracy                           0.81        43\n",
            "   macro avg       0.79      0.79      0.79        43\n",
            "weighted avg       0.81      0.81      0.81        43\n",
            "\n"
          ]
        }
      ]
    },
    {
      "cell_type": "code",
      "source": [
        "import pandas as pd\n",
        "from IPython.display import display\n",
        "\n",
        "# Assuming df2 is your original DataFrame\n",
        "X_df = pd.DataFrame(X, columns=['Access to clean fuels and technologies for cooking % of population 2000',\n",
        "       'Access to clean fuels and technologies for cooking % of population 2016',\n",
        "        'Renewable energy consumption % of total final energy consumption 2015_x',\n",
        "         'External health expenditure (% of current health expenditure)  2016',\n",
        "         'Agricultural employment % of total employment 2000-02',\n",
        "       'Agricultural employment % of total employment 2014-16',\n",
        "         'Access to electricity % of rural population 2016'])\n",
        "\n",
        "# Get the summary statistics using describe()\n",
        "summary_stats = X_df.describe()\n",
        "\n",
        "# Display the table\n",
        "display(summary_stats)"
      ],
      "metadata": {
        "id": "K878cmYH1-XP",
        "colab": {
          "base_uri": "https://localhost:8080/",
          "height": 396
        },
        "outputId": "0f2c57f5-ab05-4d6a-e56b-2038563a2089"
      },
      "id": "K878cmYH1-XP",
      "execution_count": 26,
      "outputs": [
        {
          "output_type": "display_data",
          "data": {
            "text/plain": [
              "       Access to clean fuels and technologies for cooking % of population 2000  \\\n",
              "count                                         214.000000                         \n",
              "mean                                           55.689894                         \n",
              "std                                            36.504512                         \n",
              "min                                             0.100000                         \n",
              "25%                                            18.450000                         \n",
              "50%                                            55.689894                         \n",
              "75%                                            93.275000                         \n",
              "max                                           100.000000                         \n",
              "\n",
              "       Access to clean fuels and technologies for cooking % of population 2016  \\\n",
              "count                                         214.000000                         \n",
              "mean                                           64.848404                         \n",
              "std                                            35.321166                         \n",
              "min                                             0.600000                         \n",
              "25%                                            36.600000                         \n",
              "50%                                            70.250000                         \n",
              "75%                                            97.175000                         \n",
              "max                                           100.000000                         \n",
              "\n",
              "       Renewable energy consumption % of total final energy consumption 2015_x  \\\n",
              "count                                         214.000000                         \n",
              "mean                                           29.480476                         \n",
              "std                                            28.023998                         \n",
              "min                                             0.000000                         \n",
              "25%                                             5.725000                         \n",
              "50%                                            21.050000                         \n",
              "75%                                            46.200000                         \n",
              "max                                            95.800000                         \n",
              "\n",
              "       External health expenditure (% of current health expenditure)  2016  \\\n",
              "count                                         214.000000                     \n",
              "mean                                            9.116766                     \n",
              "std                                            12.242946                     \n",
              "min                                             0.000000                     \n",
              "25%                                             0.400000                     \n",
              "50%                                             5.550000                     \n",
              "75%                                             9.116766                     \n",
              "max                                            69.200000                     \n",
              "\n",
              "       Agricultural employment % of total employment 2000-02  \\\n",
              "count                                         214.000000       \n",
              "mean                                           31.260963       \n",
              "std                                            23.547840       \n",
              "min                                             0.300000       \n",
              "25%                                             9.775000       \n",
              "50%                                            31.260963       \n",
              "75%                                            45.975000       \n",
              "max                                            92.200000       \n",
              "\n",
              "       Agricultural employment % of total employment 2014-16  \\\n",
              "count                                         214.000000       \n",
              "mean                                           25.916043       \n",
              "std                                            21.890199       \n",
              "min                                             0.100000       \n",
              "25%                                             6.825000       \n",
              "50%                                            25.916043       \n",
              "75%                                            37.800000       \n",
              "max                                            91.800000       \n",
              "\n",
              "       Access to electricity % of rural population 2016  \n",
              "count                                        214.000000  \n",
              "mean                                          78.584434  \n",
              "std                                           33.460256  \n",
              "min                                            0.000000  \n",
              "25%                                           66.150000  \n",
              "50%                                          100.000000  \n",
              "75%                                          100.000000  \n",
              "max                                          100.000000  "
            ],
            "text/html": [
              "\n",
              "\n",
              "  <div id=\"df-93e7deb5-2711-4223-a96d-4dd70c600e76\">\n",
              "    <div class=\"colab-df-container\">\n",
              "      <div>\n",
              "<style scoped>\n",
              "    .dataframe tbody tr th:only-of-type {\n",
              "        vertical-align: middle;\n",
              "    }\n",
              "\n",
              "    .dataframe tbody tr th {\n",
              "        vertical-align: top;\n",
              "    }\n",
              "\n",
              "    .dataframe thead th {\n",
              "        text-align: right;\n",
              "    }\n",
              "</style>\n",
              "<table border=\"1\" class=\"dataframe\">\n",
              "  <thead>\n",
              "    <tr style=\"text-align: right;\">\n",
              "      <th></th>\n",
              "      <th>Access to clean fuels and technologies for cooking % of population 2000</th>\n",
              "      <th>Access to clean fuels and technologies for cooking % of population 2016</th>\n",
              "      <th>Renewable energy consumption % of total final energy consumption 2015_x</th>\n",
              "      <th>External health expenditure (% of current health expenditure)  2016</th>\n",
              "      <th>Agricultural employment % of total employment 2000-02</th>\n",
              "      <th>Agricultural employment % of total employment 2014-16</th>\n",
              "      <th>Access to electricity % of rural population 2016</th>\n",
              "    </tr>\n",
              "  </thead>\n",
              "  <tbody>\n",
              "    <tr>\n",
              "      <th>count</th>\n",
              "      <td>214.000000</td>\n",
              "      <td>214.000000</td>\n",
              "      <td>214.000000</td>\n",
              "      <td>214.000000</td>\n",
              "      <td>214.000000</td>\n",
              "      <td>214.000000</td>\n",
              "      <td>214.000000</td>\n",
              "    </tr>\n",
              "    <tr>\n",
              "      <th>mean</th>\n",
              "      <td>55.689894</td>\n",
              "      <td>64.848404</td>\n",
              "      <td>29.480476</td>\n",
              "      <td>9.116766</td>\n",
              "      <td>31.260963</td>\n",
              "      <td>25.916043</td>\n",
              "      <td>78.584434</td>\n",
              "    </tr>\n",
              "    <tr>\n",
              "      <th>std</th>\n",
              "      <td>36.504512</td>\n",
              "      <td>35.321166</td>\n",
              "      <td>28.023998</td>\n",
              "      <td>12.242946</td>\n",
              "      <td>23.547840</td>\n",
              "      <td>21.890199</td>\n",
              "      <td>33.460256</td>\n",
              "    </tr>\n",
              "    <tr>\n",
              "      <th>min</th>\n",
              "      <td>0.100000</td>\n",
              "      <td>0.600000</td>\n",
              "      <td>0.000000</td>\n",
              "      <td>0.000000</td>\n",
              "      <td>0.300000</td>\n",
              "      <td>0.100000</td>\n",
              "      <td>0.000000</td>\n",
              "    </tr>\n",
              "    <tr>\n",
              "      <th>25%</th>\n",
              "      <td>18.450000</td>\n",
              "      <td>36.600000</td>\n",
              "      <td>5.725000</td>\n",
              "      <td>0.400000</td>\n",
              "      <td>9.775000</td>\n",
              "      <td>6.825000</td>\n",
              "      <td>66.150000</td>\n",
              "    </tr>\n",
              "    <tr>\n",
              "      <th>50%</th>\n",
              "      <td>55.689894</td>\n",
              "      <td>70.250000</td>\n",
              "      <td>21.050000</td>\n",
              "      <td>5.550000</td>\n",
              "      <td>31.260963</td>\n",
              "      <td>25.916043</td>\n",
              "      <td>100.000000</td>\n",
              "    </tr>\n",
              "    <tr>\n",
              "      <th>75%</th>\n",
              "      <td>93.275000</td>\n",
              "      <td>97.175000</td>\n",
              "      <td>46.200000</td>\n",
              "      <td>9.116766</td>\n",
              "      <td>45.975000</td>\n",
              "      <td>37.800000</td>\n",
              "      <td>100.000000</td>\n",
              "    </tr>\n",
              "    <tr>\n",
              "      <th>max</th>\n",
              "      <td>100.000000</td>\n",
              "      <td>100.000000</td>\n",
              "      <td>95.800000</td>\n",
              "      <td>69.200000</td>\n",
              "      <td>92.200000</td>\n",
              "      <td>91.800000</td>\n",
              "      <td>100.000000</td>\n",
              "    </tr>\n",
              "  </tbody>\n",
              "</table>\n",
              "</div>\n",
              "      <button class=\"colab-df-convert\" onclick=\"convertToInteractive('df-93e7deb5-2711-4223-a96d-4dd70c600e76')\"\n",
              "              title=\"Convert this dataframe to an interactive table.\"\n",
              "              style=\"display:none;\">\n",
              "\n",
              "  <svg xmlns=\"http://www.w3.org/2000/svg\" height=\"24px\"viewBox=\"0 0 24 24\"\n",
              "       width=\"24px\">\n",
              "    <path d=\"M0 0h24v24H0V0z\" fill=\"none\"/>\n",
              "    <path d=\"M18.56 5.44l.94 2.06.94-2.06 2.06-.94-2.06-.94-.94-2.06-.94 2.06-2.06.94zm-11 1L8.5 8.5l.94-2.06 2.06-.94-2.06-.94L8.5 2.5l-.94 2.06-2.06.94zm10 10l.94 2.06.94-2.06 2.06-.94-2.06-.94-.94-2.06-.94 2.06-2.06.94z\"/><path d=\"M17.41 7.96l-1.37-1.37c-.4-.4-.92-.59-1.43-.59-.52 0-1.04.2-1.43.59L10.3 9.45l-7.72 7.72c-.78.78-.78 2.05 0 2.83L4 21.41c.39.39.9.59 1.41.59.51 0 1.02-.2 1.41-.59l7.78-7.78 2.81-2.81c.8-.78.8-2.07 0-2.86zM5.41 20L4 18.59l7.72-7.72 1.47 1.35L5.41 20z\"/>\n",
              "  </svg>\n",
              "      </button>\n",
              "\n",
              "\n",
              "\n",
              "    <div id=\"df-1b321624-9060-48c3-8f21-09f8c66c152e\">\n",
              "      <button class=\"colab-df-quickchart\" onclick=\"quickchart('df-1b321624-9060-48c3-8f21-09f8c66c152e')\"\n",
              "              title=\"Suggest charts.\"\n",
              "              style=\"display:none;\">\n",
              "\n",
              "<svg xmlns=\"http://www.w3.org/2000/svg\" height=\"24px\"viewBox=\"0 0 24 24\"\n",
              "     width=\"24px\">\n",
              "    <g>\n",
              "        <path d=\"M19 3H5c-1.1 0-2 .9-2 2v14c0 1.1.9 2 2 2h14c1.1 0 2-.9 2-2V5c0-1.1-.9-2-2-2zM9 17H7v-7h2v7zm4 0h-2V7h2v10zm4 0h-2v-4h2v4z\"/>\n",
              "    </g>\n",
              "</svg>\n",
              "      </button>\n",
              "    </div>\n",
              "\n",
              "<style>\n",
              "  .colab-df-quickchart {\n",
              "    background-color: #E8F0FE;\n",
              "    border: none;\n",
              "    border-radius: 50%;\n",
              "    cursor: pointer;\n",
              "    display: none;\n",
              "    fill: #1967D2;\n",
              "    height: 32px;\n",
              "    padding: 0 0 0 0;\n",
              "    width: 32px;\n",
              "  }\n",
              "\n",
              "  .colab-df-quickchart:hover {\n",
              "    background-color: #E2EBFA;\n",
              "    box-shadow: 0px 1px 2px rgba(60, 64, 67, 0.3), 0px 1px 3px 1px rgba(60, 64, 67, 0.15);\n",
              "    fill: #174EA6;\n",
              "  }\n",
              "\n",
              "  [theme=dark] .colab-df-quickchart {\n",
              "    background-color: #3B4455;\n",
              "    fill: #D2E3FC;\n",
              "  }\n",
              "\n",
              "  [theme=dark] .colab-df-quickchart:hover {\n",
              "    background-color: #434B5C;\n",
              "    box-shadow: 0px 1px 3px 1px rgba(0, 0, 0, 0.15);\n",
              "    filter: drop-shadow(0px 1px 2px rgba(0, 0, 0, 0.3));\n",
              "    fill: #FFFFFF;\n",
              "  }\n",
              "</style>\n",
              "\n",
              "    <script>\n",
              "      async function quickchart(key) {\n",
              "        const containerElement = document.querySelector('#' + key);\n",
              "        const charts = await google.colab.kernel.invokeFunction(\n",
              "            'suggestCharts', [key], {});\n",
              "      }\n",
              "    </script>\n",
              "\n",
              "      <script>\n",
              "\n",
              "function displayQuickchartButton(domScope) {\n",
              "  let quickchartButtonEl =\n",
              "    domScope.querySelector('#df-1b321624-9060-48c3-8f21-09f8c66c152e button.colab-df-quickchart');\n",
              "  quickchartButtonEl.style.display =\n",
              "    google.colab.kernel.accessAllowed ? 'block' : 'none';\n",
              "}\n",
              "\n",
              "        displayQuickchartButton(document);\n",
              "      </script>\n",
              "      <style>\n",
              "    .colab-df-container {\n",
              "      display:flex;\n",
              "      flex-wrap:wrap;\n",
              "      gap: 12px;\n",
              "    }\n",
              "\n",
              "    .colab-df-convert {\n",
              "      background-color: #E8F0FE;\n",
              "      border: none;\n",
              "      border-radius: 50%;\n",
              "      cursor: pointer;\n",
              "      display: none;\n",
              "      fill: #1967D2;\n",
              "      height: 32px;\n",
              "      padding: 0 0 0 0;\n",
              "      width: 32px;\n",
              "    }\n",
              "\n",
              "    .colab-df-convert:hover {\n",
              "      background-color: #E2EBFA;\n",
              "      box-shadow: 0px 1px 2px rgba(60, 64, 67, 0.3), 0px 1px 3px 1px rgba(60, 64, 67, 0.15);\n",
              "      fill: #174EA6;\n",
              "    }\n",
              "\n",
              "    [theme=dark] .colab-df-convert {\n",
              "      background-color: #3B4455;\n",
              "      fill: #D2E3FC;\n",
              "    }\n",
              "\n",
              "    [theme=dark] .colab-df-convert:hover {\n",
              "      background-color: #434B5C;\n",
              "      box-shadow: 0px 1px 3px 1px rgba(0, 0, 0, 0.15);\n",
              "      filter: drop-shadow(0px 1px 2px rgba(0, 0, 0, 0.3));\n",
              "      fill: #FFFFFF;\n",
              "    }\n",
              "  </style>\n",
              "\n",
              "      <script>\n",
              "        const buttonEl =\n",
              "          document.querySelector('#df-93e7deb5-2711-4223-a96d-4dd70c600e76 button.colab-df-convert');\n",
              "        buttonEl.style.display =\n",
              "          google.colab.kernel.accessAllowed ? 'block' : 'none';\n",
              "\n",
              "        async function convertToInteractive(key) {\n",
              "          const element = document.querySelector('#df-93e7deb5-2711-4223-a96d-4dd70c600e76');\n",
              "          const dataTable =\n",
              "            await google.colab.kernel.invokeFunction('convertToInteractive',\n",
              "                                                     [key], {});\n",
              "          if (!dataTable) return;\n",
              "\n",
              "          const docLinkHtml = 'Like what you see? Visit the ' +\n",
              "            '<a target=\"_blank\" href=https://colab.research.google.com/notebooks/data_table.ipynb>data table notebook</a>'\n",
              "            + ' to learn more about interactive tables.';\n",
              "          element.innerHTML = '';\n",
              "          dataTable['output_type'] = 'display_data';\n",
              "          await google.colab.output.renderOutput(dataTable, element);\n",
              "          const docLink = document.createElement('div');\n",
              "          docLink.innerHTML = docLinkHtml;\n",
              "          element.appendChild(docLink);\n",
              "        }\n",
              "      </script>\n",
              "    </div>\n",
              "  </div>\n"
            ]
          },
          "metadata": {}
        }
      ]
    },
    {
      "cell_type": "code",
      "source": [
        "from tensorflow.keras.models import save_model\n",
        "\n",
        "model_filename = \"trained_model.h5\"\n",
        "model_path = \"D:/BC class/project 4/\" + model_filename\n",
        "save_model(nn, model_path)"
      ],
      "metadata": {
        "id": "oEWuAluB1-aX"
      },
      "id": "oEWuAluB1-aX",
      "execution_count": 27,
      "outputs": []
    },
    {
      "cell_type": "code",
      "source": [
        "nn.save('nn.h5')"
      ],
      "metadata": {
        "id": "kc1jEVV51-c9"
      },
      "id": "kc1jEVV51-c9",
      "execution_count": 28,
      "outputs": []
    },
    {
      "cell_type": "code",
      "source": [
        "model = tf.keras.models.load_model('/content/nn.h5')\n",
        "\n",
        "# Save model architecture to a Python (.py) file in Colab\n",
        "model_architecture_code = model.to_json()\n",
        "with open('/content/model_architecture.py', 'w') as f:\n",
        "    f.write('model_architecture_code = \\'\\'\\'')\n",
        "    f.write(model_architecture_code)\n",
        "    f.write('\\'\\'\\'')\n",
        "\n",
        "# Save model weights to a file\n",
        "model.save_weights('/content/model_weights.h5')"
      ],
      "metadata": {
        "id": "7jVE4f3G1-fm"
      },
      "id": "7jVE4f3G1-fm",
      "execution_count": 29,
      "outputs": []
    },
    {
      "cell_type": "code",
      "source": [
        "from ann_visualizer.visualize import ann_viz\n",
        "ann_viz(model, view=True, filename='NN with 20 features', title='Model 2 — Simple Architecture')"
      ],
      "metadata": {
        "id": "6-5lAsD4HosR"
      },
      "id": "6-5lAsD4HosR",
      "execution_count": 40,
      "outputs": []
    },
    {
      "cell_type": "code",
      "source": [
        "tf.keras.utils.plot_model(\n",
        "nn,\n",
        "to_file=\"model2.png\",\n",
        "show_shapes=True,\n",
        "show_dtype=False,\n",
        "show_layer_names=True,\n",
        "rankdir=\"TB\",\n",
        "expand_nested=True,\n",
        "dpi=96,\n",
        "layer_range=None,\n",
        "show_layer_activations=True,\n",
        ")"
      ],
      "metadata": {
        "id": "xbQqCd26H-rT",
        "colab": {
          "base_uri": "https://localhost:8080/",
          "height": 422
        },
        "outputId": "d4e52659-3eb3-425d-b58b-c423d3a6fb82"
      },
      "id": "xbQqCd26H-rT",
      "execution_count": 41,
      "outputs": [
        {
          "output_type": "execute_result",
          "data": {
            "image/png": "[encoded data removed]",
            "text/plain": [
              "<IPython.core.display.Image object>"
            ]
          },
          "metadata": {},
          "execution_count": 41
        }
      ]
    }
  ],
  "metadata": {
    "kernelspec": {
      "display_name": "Python 3 (ipykernel)",
      "language": "python",
      "name": "python3"
    },
    "language_info": {
      "codemirror_mode": {
        "name": "ipython",
        "version": 3
      },
      "file_extension": ".py",
      "mimetype": "text/x-python",
      "name": "python",
      "nbconvert_exporter": "python",
      "pygments_lexer": "ipython3",
      "version": "3.10.9"
    },
    "colab": {
      "provenance": []
    }
  },
  "nbformat": 4,
  "nbformat_minor": 5
}