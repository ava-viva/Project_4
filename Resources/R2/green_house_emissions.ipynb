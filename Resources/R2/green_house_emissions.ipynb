{
  "cells": [
    {
      "cell_type": "code",
      "execution_count": 8,
      "id": "718e76bd",
      "metadata": {
        "id": "718e76bd"
      },
      "outputs": [],
      "source": [
        "#importing libraries\n",
        "import pandas as pd\n",
        "import numpy as np\n",
        "from sklearn.model_selection import train_test_split\n",
        "from sklearn.preprocessing import StandardScaler\n",
        "from sklearn.metrics import classification_report\n",
        "import tensorflow as tf\n",
        "import seaborn as sns\n",
        "import matplotlib.pyplot as plt"
      ]
    },
    {
      "cell_type": "code",
      "execution_count": 9,
      "id": "b888e571",
      "metadata": {
        "id": "b888e571"
      },
      "outputs": [],
      "source": [
        "# Read the databases from resources\n",
        "health_factors = pd.read_csv(\"/content/Health_Risk_factors.csv\")\n",
        "agriculture = pd.read_csv(\"/content/greenhouse_gas_emissions.csv\")\n"
      ]
    },
    {
      "cell_type": "code",
      "source": [
        "merged_df = pd.concat([agriculture, health_factors['Incidence of tuberculosis  per 100,000 people 2018']], axis=1)"
      ],
      "metadata": {
        "id": "9ZqfHa7Rwn4f"
      },
      "id": "9ZqfHa7Rwn4f",
      "execution_count": 10,
      "outputs": []
    },
    {
      "cell_type": "code",
      "source": [
        "merged_df.columns"
      ],
      "metadata": {
        "colab": {
          "base_uri": "https://localhost:8080/"
        },
        "id": "aSaDux9qtC1D",
        "outputId": "afbbc9f8-779f-40f0-a34d-3b7f97eff7db"
      },
      "id": "aSaDux9qtC1D",
      "execution_count": 11,
      "outputs": [
        {
          "output_type": "execute_result",
          "data": {
            "text/plain": [
              "Index(['Country',\n",
              "       'Total greenhouse gas emissions  thousand metric tons of carbon dioxide equivalent 2012',\n",
              "       'Total greenhouse gas emissions  % change 1990-2012',\n",
              "       'Methane emissions  thousand metric tons of carbon dioxide equivalent 2012',\n",
              "       'Methane emissions  % change 1990-2012',\n",
              "       'Methane emissions From energy processes % of total 2008',\n",
              "       'Methane emissions Agricultural % of total 2008',\n",
              "       'Nitrous oxide emissions  thousand metric tons of carbon dioxide equivalent 2012',\n",
              "       'Nitrous oxide emissions  % change 1990-2012',\n",
              "       'Nitrous oxide emissions From energy processes % of total 2008',\n",
              "       'Nitrous oxide emissions Agricultural % of total 2008',\n",
              "       'Other greenhouse gas emissions  thousand metric tons of carbon dioxide equivalent 2012',\n",
              "       'Other greenhouse gas emissions  % change 1990-2012',\n",
              "       'Incidence of tuberculosis  per 100,000 people 2018'],\n",
              "      dtype='object')"
            ]
          },
          "metadata": {},
          "execution_count": 11
        }
      ]
    },
    {
      "cell_type": "code",
      "execution_count": 14,
      "id": "e0680b68",
      "metadata": {
        "colab": {
          "base_uri": "https://localhost:8080/",
          "height": 537
        },
        "id": "e0680b68",
        "outputId": "ae25075c-0fdf-4a79-99e5-05bb5479f939"
      },
      "outputs": [
        {
          "output_type": "execute_result",
          "data": {
            "text/plain": [
              "       Total greenhouse gas emissions  thousand metric tons of carbon dioxide equivalent 2012  \\\n",
              "count                                          18.000000                                        \n",
              "mean                                          381.300000                                        \n",
              "std                                           306.474031                                        \n",
              "min                                             5.200000                                        \n",
              "25%                                           103.250000                                        \n",
              "50%                                           337.650000                                        \n",
              "75%                                           590.150000                                        \n",
              "max                                           959.300000                                        \n",
              "\n",
              "       total_GH_emission  \\\n",
              "count         186.000000   \n",
              "mean           71.663978   \n",
              "std           128.079877   \n",
              "min           -78.000000   \n",
              "25%            -7.525000   \n",
              "50%            42.750000   \n",
              "75%           112.100000   \n",
              "max           828.900000   \n",
              "\n",
              "       Methane emissions  thousand metric tons of carbon dioxide equivalent 2012  \\\n",
              "count                                          45.000000                           \n",
              "mean                                          152.666667                           \n",
              "std                                           211.722911                           \n",
              "min                                             0.000000                           \n",
              "25%                                            29.000000                           \n",
              "50%                                            46.000000                           \n",
              "75%                                           215.000000                           \n",
              "max                                           732.000000                           \n",
              "\n",
              "       Methane emissions  % change 1990-2012  \\\n",
              "count                             200.000000   \n",
              "mean                               37.144500   \n",
              "std                                79.603798   \n",
              "min                              -100.000000   \n",
              "25%                                 2.025000   \n",
              "50%                                24.100000   \n",
              "75%                                60.850000   \n",
              "max                               834.700000   \n",
              "\n",
              "       Methane emissions From energy processes % of total 2008  CH4_emission  \\\n",
              "count                                         201.000000          201.000000   \n",
              "mean                                           25.910945           42.623881   \n",
              "std                                            24.831294           26.055390   \n",
              "min                                             0.000000            0.000000   \n",
              "25%                                             6.800000           21.900000   \n",
              "50%                                            16.700000           42.100000   \n",
              "75%                                            40.100000           64.600000   \n",
              "max                                            97.600000           96.800000   \n",
              "\n",
              "       Nitrous oxide emissions  thousand metric tons of carbon dioxide equivalent 2012  \\\n",
              "count                                          69.000000                                 \n",
              "mean                                          221.652174                                 \n",
              "std                                           266.024370                                 \n",
              "min                                             0.000000                                 \n",
              "25%                                            15.000000                                 \n",
              "50%                                            81.000000                                 \n",
              "75%                                           344.000000                                 \n",
              "max                                           990.000000                                 \n",
              "\n",
              "       Nitrous oxide emissions  % change 1990-2012  N2O_emission  \\\n",
              "count                                   201.000000    202.000000   \n",
              "mean                                     25.647761      8.986139   \n",
              "std                                      81.476506      9.038338   \n",
              "min                                    -100.000000      0.000000   \n",
              "25%                                     -25.400000      3.200000   \n",
              "50%                                      14.800000      6.500000   \n",
              "75%                                      49.900000     12.100000   \n",
              "max                                     648.200000     60.700000   \n",
              "\n",
              "       Nitrous oxide emissions Agricultural % of total 2008  \\\n",
              "count                                         202.000000      \n",
              "mean                                           63.426238      \n",
              "std                                            25.248245      \n",
              "min                                             0.000000      \n",
              "25%                                            51.950000      \n",
              "50%                                            69.300000      \n",
              "75%                                            82.375000      \n",
              "max                                            99.300000      \n",
              "\n",
              "       Other greenhouse gas emissions  thousand metric tons of carbon dioxide equivalent 2012  \\\n",
              "count                                           47.00000                                        \n",
              "mean                                           109.12766                                        \n",
              "std                                            462.17739                                        \n",
              "min                                           -883.00000                                        \n",
              "25%                                            -72.00000                                        \n",
              "50%                                             55.00000                                        \n",
              "75%                                            357.00000                                        \n",
              "max                                            988.00000                                        \n",
              "\n",
              "       other_GH_emission  tuberculosis  \n",
              "count         161.000000    207.000000  \n",
              "mean           80.692547    102.893720  \n",
              "std           258.777001    137.634271  \n",
              "min          -620.000000      0.000000  \n",
              "25%           -86.900000      9.500000  \n",
              "50%            -3.600000     45.000000  \n",
              "75%           168.100000    144.000000  \n",
              "max           983.400000    611.000000  "
            ],
            "text/html": [
              "\n",
              "\n",
              "  <div id=\"df-52a04881-53f3-4b50-bc53-6a999c8ff0d7\">\n",
              "    <div class=\"colab-df-container\">\n",
              "      <div>\n",
              "<style scoped>\n",
              "    .dataframe tbody tr th:only-of-type {\n",
              "        vertical-align: middle;\n",
              "    }\n",
              "\n",
              "    .dataframe tbody tr th {\n",
              "        vertical-align: top;\n",
              "    }\n",
              "\n",
              "    .dataframe thead th {\n",
              "        text-align: right;\n",
              "    }\n",
              "</style>\n",
              "<table border=\"1\" class=\"dataframe\">\n",
              "  <thead>\n",
              "    <tr style=\"text-align: right;\">\n",
              "      <th></th>\n",
              "      <th>Total greenhouse gas emissions  thousand metric tons of carbon dioxide equivalent 2012</th>\n",
              "      <th>total_GH_emission</th>\n",
              "      <th>Methane emissions  thousand metric tons of carbon dioxide equivalent 2012</th>\n",
              "      <th>Methane emissions  % change 1990-2012</th>\n",
              "      <th>Methane emissions From energy processes % of total 2008</th>\n",
              "      <th>CH4_emission</th>\n",
              "      <th>Nitrous oxide emissions  thousand metric tons of carbon dioxide equivalent 2012</th>\n",
              "      <th>Nitrous oxide emissions  % change 1990-2012</th>\n",
              "      <th>N2O_emission</th>\n",
              "      <th>Nitrous oxide emissions Agricultural % of total 2008</th>\n",
              "      <th>Other greenhouse gas emissions  thousand metric tons of carbon dioxide equivalent 2012</th>\n",
              "      <th>other_GH_emission</th>\n",
              "      <th>tuberculosis</th>\n",
              "    </tr>\n",
              "  </thead>\n",
              "  <tbody>\n",
              "    <tr>\n",
              "      <th>count</th>\n",
              "      <td>18.000000</td>\n",
              "      <td>186.000000</td>\n",
              "      <td>45.000000</td>\n",
              "      <td>200.000000</td>\n",
              "      <td>201.000000</td>\n",
              "      <td>201.000000</td>\n",
              "      <td>69.000000</td>\n",
              "      <td>201.000000</td>\n",
              "      <td>202.000000</td>\n",
              "      <td>202.000000</td>\n",
              "      <td>47.00000</td>\n",
              "      <td>161.000000</td>\n",
              "      <td>207.000000</td>\n",
              "    </tr>\n",
              "    <tr>\n",
              "      <th>mean</th>\n",
              "      <td>381.300000</td>\n",
              "      <td>71.663978</td>\n",
              "      <td>152.666667</td>\n",
              "      <td>37.144500</td>\n",
              "      <td>25.910945</td>\n",
              "      <td>42.623881</td>\n",
              "      <td>221.652174</td>\n",
              "      <td>25.647761</td>\n",
              "      <td>8.986139</td>\n",
              "      <td>63.426238</td>\n",
              "      <td>109.12766</td>\n",
              "      <td>80.692547</td>\n",
              "      <td>102.893720</td>\n",
              "    </tr>\n",
              "    <tr>\n",
              "      <th>std</th>\n",
              "      <td>306.474031</td>\n",
              "      <td>128.079877</td>\n",
              "      <td>211.722911</td>\n",
              "      <td>79.603798</td>\n",
              "      <td>24.831294</td>\n",
              "      <td>26.055390</td>\n",
              "      <td>266.024370</td>\n",
              "      <td>81.476506</td>\n",
              "      <td>9.038338</td>\n",
              "      <td>25.248245</td>\n",
              "      <td>462.17739</td>\n",
              "      <td>258.777001</td>\n",
              "      <td>137.634271</td>\n",
              "    </tr>\n",
              "    <tr>\n",
              "      <th>min</th>\n",
              "      <td>5.200000</td>\n",
              "      <td>-78.000000</td>\n",
              "      <td>0.000000</td>\n",
              "      <td>-100.000000</td>\n",
              "      <td>0.000000</td>\n",
              "      <td>0.000000</td>\n",
              "      <td>0.000000</td>\n",
              "      <td>-100.000000</td>\n",
              "      <td>0.000000</td>\n",
              "      <td>0.000000</td>\n",
              "      <td>-883.00000</td>\n",
              "      <td>-620.000000</td>\n",
              "      <td>0.000000</td>\n",
              "    </tr>\n",
              "    <tr>\n",
              "      <th>25%</th>\n",
              "      <td>103.250000</td>\n",
              "      <td>-7.525000</td>\n",
              "      <td>29.000000</td>\n",
              "      <td>2.025000</td>\n",
              "      <td>6.800000</td>\n",
              "      <td>21.900000</td>\n",
              "      <td>15.000000</td>\n",
              "      <td>-25.400000</td>\n",
              "      <td>3.200000</td>\n",
              "      <td>51.950000</td>\n",
              "      <td>-72.00000</td>\n",
              "      <td>-86.900000</td>\n",
              "      <td>9.500000</td>\n",
              "    </tr>\n",
              "    <tr>\n",
              "      <th>50%</th>\n",
              "      <td>337.650000</td>\n",
              "      <td>42.750000</td>\n",
              "      <td>46.000000</td>\n",
              "      <td>24.100000</td>\n",
              "      <td>16.700000</td>\n",
              "      <td>42.100000</td>\n",
              "      <td>81.000000</td>\n",
              "      <td>14.800000</td>\n",
              "      <td>6.500000</td>\n",
              "      <td>69.300000</td>\n",
              "      <td>55.00000</td>\n",
              "      <td>-3.600000</td>\n",
              "      <td>45.000000</td>\n",
              "    </tr>\n",
              "    <tr>\n",
              "      <th>75%</th>\n",
              "      <td>590.150000</td>\n",
              "      <td>112.100000</td>\n",
              "      <td>215.000000</td>\n",
              "      <td>60.850000</td>\n",
              "      <td>40.100000</td>\n",
              "      <td>64.600000</td>\n",
              "      <td>344.000000</td>\n",
              "      <td>49.900000</td>\n",
              "      <td>12.100000</td>\n",
              "      <td>82.375000</td>\n",
              "      <td>357.00000</td>\n",
              "      <td>168.100000</td>\n",
              "      <td>144.000000</td>\n",
              "    </tr>\n",
              "    <tr>\n",
              "      <th>max</th>\n",
              "      <td>959.300000</td>\n",
              "      <td>828.900000</td>\n",
              "      <td>732.000000</td>\n",
              "      <td>834.700000</td>\n",
              "      <td>97.600000</td>\n",
              "      <td>96.800000</td>\n",
              "      <td>990.000000</td>\n",
              "      <td>648.200000</td>\n",
              "      <td>60.700000</td>\n",
              "      <td>99.300000</td>\n",
              "      <td>988.00000</td>\n",
              "      <td>983.400000</td>\n",
              "      <td>611.000000</td>\n",
              "    </tr>\n",
              "  </tbody>\n",
              "</table>\n",
              "</div>\n",
              "      <button class=\"colab-df-convert\" onclick=\"convertToInteractive('df-52a04881-53f3-4b50-bc53-6a999c8ff0d7')\"\n",
              "              title=\"Convert this dataframe to an interactive table.\"\n",
              "              style=\"display:none;\">\n",
              "\n",
              "  <svg xmlns=\"http://www.w3.org/2000/svg\" height=\"24px\"viewBox=\"0 0 24 24\"\n",
              "       width=\"24px\">\n",
              "    <path d=\"M0 0h24v24H0V0z\" fill=\"none\"/>\n",
              "    <path d=\"M18.56 5.44l.94 2.06.94-2.06 2.06-.94-2.06-.94-.94-2.06-.94 2.06-2.06.94zm-11 1L8.5 8.5l.94-2.06 2.06-.94-2.06-.94L8.5 2.5l-.94 2.06-2.06.94zm10 10l.94 2.06.94-2.06 2.06-.94-2.06-.94-.94-2.06-.94 2.06-2.06.94z\"/><path d=\"M17.41 7.96l-1.37-1.37c-.4-.4-.92-.59-1.43-.59-.52 0-1.04.2-1.43.59L10.3 9.45l-7.72 7.72c-.78.78-.78 2.05 0 2.83L4 21.41c.39.39.9.59 1.41.59.51 0 1.02-.2 1.41-.59l7.78-7.78 2.81-2.81c.8-.78.8-2.07 0-2.86zM5.41 20L4 18.59l7.72-7.72 1.47 1.35L5.41 20z\"/>\n",
              "  </svg>\n",
              "      </button>\n",
              "\n",
              "\n",
              "\n",
              "    <div id=\"df-4e65a2b8-db0c-469e-b755-6c21154074c5\">\n",
              "      <button class=\"colab-df-quickchart\" onclick=\"quickchart('df-4e65a2b8-db0c-469e-b755-6c21154074c5')\"\n",
              "              title=\"Suggest charts.\"\n",
              "              style=\"display:none;\">\n",
              "\n",
              "<svg xmlns=\"http://www.w3.org/2000/svg\" height=\"24px\"viewBox=\"0 0 24 24\"\n",
              "     width=\"24px\">\n",
              "    <g>\n",
              "        <path d=\"M19 3H5c-1.1 0-2 .9-2 2v14c0 1.1.9 2 2 2h14c1.1 0 2-.9 2-2V5c0-1.1-.9-2-2-2zM9 17H7v-7h2v7zm4 0h-2V7h2v10zm4 0h-2v-4h2v4z\"/>\n",
              "    </g>\n",
              "</svg>\n",
              "      </button>\n",
              "    </div>\n",
              "\n",
              "<style>\n",
              "  .colab-df-quickchart {\n",
              "    background-color: #E8F0FE;\n",
              "    border: none;\n",
              "    border-radius: 50%;\n",
              "    cursor: pointer;\n",
              "    display: none;\n",
              "    fill: #1967D2;\n",
              "    height: 32px;\n",
              "    padding: 0 0 0 0;\n",
              "    width: 32px;\n",
              "  }\n",
              "\n",
              "  .colab-df-quickchart:hover {\n",
              "    background-color: #E2EBFA;\n",
              "    box-shadow: 0px 1px 2px rgba(60, 64, 67, 0.3), 0px 1px 3px 1px rgba(60, 64, 67, 0.15);\n",
              "    fill: #174EA6;\n",
              "  }\n",
              "\n",
              "  [theme=dark] .colab-df-quickchart {\n",
              "    background-color: #3B4455;\n",
              "    fill: #D2E3FC;\n",
              "  }\n",
              "\n",
              "  [theme=dark] .colab-df-quickchart:hover {\n",
              "    background-color: #434B5C;\n",
              "    box-shadow: 0px 1px 3px 1px rgba(0, 0, 0, 0.15);\n",
              "    filter: drop-shadow(0px 1px 2px rgba(0, 0, 0, 0.3));\n",
              "    fill: #FFFFFF;\n",
              "  }\n",
              "</style>\n",
              "\n",
              "    <script>\n",
              "      async function quickchart(key) {\n",
              "        const containerElement = document.querySelector('#' + key);\n",
              "        const charts = await google.colab.kernel.invokeFunction(\n",
              "            'suggestCharts', [key], {});\n",
              "      }\n",
              "    </script>\n",
              "\n",
              "      <script>\n",
              "\n",
              "function displayQuickchartButton(domScope) {\n",
              "  let quickchartButtonEl =\n",
              "    domScope.querySelector('#df-4e65a2b8-db0c-469e-b755-6c21154074c5 button.colab-df-quickchart');\n",
              "  quickchartButtonEl.style.display =\n",
              "    google.colab.kernel.accessAllowed ? 'block' : 'none';\n",
              "}\n",
              "\n",
              "        displayQuickchartButton(document);\n",
              "      </script>\n",
              "      <style>\n",
              "    .colab-df-container {\n",
              "      display:flex;\n",
              "      flex-wrap:wrap;\n",
              "      gap: 12px;\n",
              "    }\n",
              "\n",
              "    .colab-df-convert {\n",
              "      background-color: #E8F0FE;\n",
              "      border: none;\n",
              "      border-radius: 50%;\n",
              "      cursor: pointer;\n",
              "      display: none;\n",
              "      fill: #1967D2;\n",
              "      height: 32px;\n",
              "      padding: 0 0 0 0;\n",
              "      width: 32px;\n",
              "    }\n",
              "\n",
              "    .colab-df-convert:hover {\n",
              "      background-color: #E2EBFA;\n",
              "      box-shadow: 0px 1px 2px rgba(60, 64, 67, 0.3), 0px 1px 3px 1px rgba(60, 64, 67, 0.15);\n",
              "      fill: #174EA6;\n",
              "    }\n",
              "\n",
              "    [theme=dark] .colab-df-convert {\n",
              "      background-color: #3B4455;\n",
              "      fill: #D2E3FC;\n",
              "    }\n",
              "\n",
              "    [theme=dark] .colab-df-convert:hover {\n",
              "      background-color: #434B5C;\n",
              "      box-shadow: 0px 1px 3px 1px rgba(0, 0, 0, 0.15);\n",
              "      filter: drop-shadow(0px 1px 2px rgba(0, 0, 0, 0.3));\n",
              "      fill: #FFFFFF;\n",
              "    }\n",
              "  </style>\n",
              "\n",
              "      <script>\n",
              "        const buttonEl =\n",
              "          document.querySelector('#df-52a04881-53f3-4b50-bc53-6a999c8ff0d7 button.colab-df-convert');\n",
              "        buttonEl.style.display =\n",
              "          google.colab.kernel.accessAllowed ? 'block' : 'none';\n",
              "\n",
              "        async function convertToInteractive(key) {\n",
              "          const element = document.querySelector('#df-52a04881-53f3-4b50-bc53-6a999c8ff0d7');\n",
              "          const dataTable =\n",
              "            await google.colab.kernel.invokeFunction('convertToInteractive',\n",
              "                                                     [key], {});\n",
              "          if (!dataTable) return;\n",
              "\n",
              "          const docLinkHtml = 'Like what you see? Visit the ' +\n",
              "            '<a target=\"_blank\" href=https://colab.research.google.com/notebooks/data_table.ipynb>data table notebook</a>'\n",
              "            + ' to learn more about interactive tables.';\n",
              "          element.innerHTML = '';\n",
              "          dataTable['output_type'] = 'display_data';\n",
              "          await google.colab.output.renderOutput(dataTable, element);\n",
              "          const docLink = document.createElement('div');\n",
              "          docLink.innerHTML = docLinkHtml;\n",
              "          element.appendChild(docLink);\n",
              "        }\n",
              "      </script>\n",
              "    </div>\n",
              "  </div>\n"
            ]
          },
          "metadata": {},
          "execution_count": 14
        }
      ],
      "source": [
        "# Renaming columns in the health_factors DataFrame to more descriptive names\n",
        "ag = merged_df.rename(columns={\n",
        "    \"Incidence of tuberculosis  per 100,000 people 2018\": \"tuberculosis\",\n",
        "    'Nitrous oxide emissions From energy processes % of total 2008': \"N2O_emission\",\n",
        "    'Other greenhouse gas emissions  % change 1990-2012': \"other_GH_emission\",\n",
        "    'Total greenhouse gas emissions  % change 1990-2012': \"total_GH_emission\",\n",
        "    'Methane emissions Agricultural % of total 2008': \"CH4_emission\"\n",
        "    })\n",
        "ag.columns\n",
        "ag.describe()"
      ]
    },
    {
      "cell_type": "code",
      "execution_count": 16,
      "id": "68b704db",
      "metadata": {
        "id": "68b704db"
      },
      "outputs": [],
      "source": [
        "df=ag[[\"other_GH_emission\",\"N2O_emission\",\"total_GH_emission\",\"tuberculosis\" , \"CH4_emission\"]]\n",
        "#df1 = ag.replace('', np.nan)  # Replace empty values with NaN\n",
        "df1 = df.dropna()  # Drop rows with any missing values"
      ]
    },
    {
      "cell_type": "code",
      "source": [
        "df1[\"tuberculosis\"].describe()"
      ],
      "metadata": {
        "colab": {
          "base_uri": "https://localhost:8080/"
        },
        "id": "Frh1B7nCuOuH",
        "outputId": "2905ee70-17dc-4820-fe3b-cd90a7e459f8"
      },
      "id": "Frh1B7nCuOuH",
      "execution_count": 21,
      "outputs": [
        {
          "output_type": "execute_result",
          "data": {
            "text/plain": [
              "count    149.000000\n",
              "mean      96.489933\n",
              "std      130.819538\n",
              "min        0.000000\n",
              "25%        9.000000\n",
              "50%       44.000000\n",
              "75%      116.000000\n",
              "max      611.000000\n",
              "Name: tuberculosis, dtype: float64"
            ]
          },
          "metadata": {},
          "execution_count": 21
        }
      ]
    },
    {
      "cell_type": "code",
      "source": [
        "# Define the thresholds for classification\n",
        "\n",
        "threshold_tuberculosis = 100\n",
        "# Create a DataFrame to store the classified values\n",
        "df2 = pd.DataFrame()\n",
        "# Classify every columns\n",
        "df2=df1[[\"other_GH_emission\",\"N2O_emission\",\"total_GH_emission\",\"CH4_emission\" ]]\n",
        "df2['tuberculosis'] = [0 if i < threshold_tuberculosis else 1 for i in df1['tuberculosis']]\n",
        "\n",
        "# Extract X and y\n",
        "y = df2['tuberculosis'].values\n",
        "X = df2.drop(columns='tuberculosis').values\n",
        "df2.shape\n"
      ],
      "metadata": {
        "id": "8Wy7cnofKW-P",
        "colab": {
          "base_uri": "https://localhost:8080/"
        },
        "outputId": "218f418c-582e-4b71-8fa4-bea2b539f8f4"
      },
      "id": "8Wy7cnofKW-P",
      "execution_count": 23,
      "outputs": [
        {
          "output_type": "execute_result",
          "data": {
            "text/plain": [
              "(149, 5)"
            ]
          },
          "metadata": {},
          "execution_count": 23
        }
      ]
    },
    {
      "cell_type": "code",
      "source": [
        "# Split the preprocessed data into a training and testing dataset\n",
        "X_train, X_test, y_train, y_test = train_test_split(X, y,random_state=1,stratify=y,test_size=.2)"
      ],
      "metadata": {
        "id": "u9iJtXr_1RgI"
      },
      "id": "u9iJtXr_1RgI",
      "execution_count": 24,
      "outputs": []
    },
    {
      "cell_type": "code",
      "source": [
        "# Define the model - deep neural net, i.e., the number of input features and hidden nodes for each layer.\n",
        "l_1 = 50\n",
        "l_2 = 50\n",
        "input_features = len(X_train[0])\n",
        "nn = tf.keras.models.Sequential()\n",
        "\n",
        "# First hidden layer\n",
        "nn.add(tf.keras.layers.Dense(units=l_1, input_dim = input_features, activation = \"tanh\"))\n",
        "\n",
        "# Second hidden layer\n",
        "nn.add(tf.keras.layers.Dense(units=l_2, activation = \"LeakyReLU\"))\n",
        "\n",
        "# Output layer\n",
        "nn.add(tf.keras.layers.Dense(units=1, activation=\"sigmoid\"))\n",
        "\n",
        "# Check the structure of the model\n",
        "nn.summary()"
      ],
      "metadata": {
        "colab": {
          "base_uri": "https://localhost:8080/"
        },
        "id": "H6A-MirP04IM",
        "outputId": "09dc30af-c0d2-4c5c-b0b4-19783e7c5c8b"
      },
      "id": "H6A-MirP04IM",
      "execution_count": 25,
      "outputs": [
        {
          "output_type": "stream",
          "name": "stdout",
          "text": [
            "Model: \"sequential\"\n",
            "_________________________________________________________________\n",
            " Layer (type)                Output Shape              Param #   \n",
            "=================================================================\n",
            " dense (Dense)               (None, 50)                250       \n",
            "                                                                 \n",
            " dense_1 (Dense)             (None, 50)                2550      \n",
            "                                                                 \n",
            " dense_2 (Dense)             (None, 1)                 51        \n",
            "                                                                 \n",
            "=================================================================\n",
            "Total params: 2,851\n",
            "Trainable params: 2,851\n",
            "Non-trainable params: 0\n",
            "_________________________________________________________________\n"
          ]
        }
      ]
    },
    {
      "cell_type": "code",
      "source": [
        "# Compile the model\n",
        "nn.compile(loss=\"binary_crossentropy\", optimizer=\"adam\", metrics=[\"accuracy\"])"
      ],
      "metadata": {
        "id": "gaEbhdF61-IM"
      },
      "id": "gaEbhdF61-IM",
      "execution_count": 26,
      "outputs": []
    },
    {
      "cell_type": "code",
      "source": [
        "# Train the model\n",
        "nn.fit(X_train, y_train, epochs=50)"
      ],
      "metadata": {
        "id": "jK3JJTyG1-LQ",
        "colab": {
          "base_uri": "https://localhost:8080/"
        },
        "outputId": "0797608a-96c6-4552-abce-59eb4fddbae2"
      },
      "id": "jK3JJTyG1-LQ",
      "execution_count": 27,
      "outputs": [
        {
          "output_type": "stream",
          "name": "stdout",
          "text": [
            "Epoch 1/50\n",
            "4/4 [==============================] - 1s 6ms/step - loss: 0.8811 - accuracy: 0.3866\n",
            "Epoch 2/50\n",
            "4/4 [==============================] - 0s 4ms/step - loss: 0.7406 - accuracy: 0.5126\n",
            "Epoch 3/50\n",
            "4/4 [==============================] - 0s 4ms/step - loss: 0.6743 - accuracy: 0.5882\n",
            "Epoch 4/50\n",
            "4/4 [==============================] - 0s 3ms/step - loss: 0.6349 - accuracy: 0.5966\n",
            "Epoch 5/50\n",
            "4/4 [==============================] - 0s 5ms/step - loss: 0.6054 - accuracy: 0.6471\n",
            "Epoch 6/50\n",
            "4/4 [==============================] - 0s 4ms/step - loss: 0.5905 - accuracy: 0.6723\n",
            "Epoch 7/50\n",
            "4/4 [==============================] - 0s 3ms/step - loss: 0.5773 - accuracy: 0.7059\n",
            "Epoch 8/50\n",
            "4/4 [==============================] - 0s 4ms/step - loss: 0.5705 - accuracy: 0.7143\n",
            "Epoch 9/50\n",
            "4/4 [==============================] - 0s 3ms/step - loss: 0.5623 - accuracy: 0.7227\n",
            "Epoch 10/50\n",
            "4/4 [==============================] - 0s 3ms/step - loss: 0.5551 - accuracy: 0.7227\n",
            "Epoch 11/50\n",
            "4/4 [==============================] - 0s 4ms/step - loss: 0.5464 - accuracy: 0.7227\n",
            "Epoch 12/50\n",
            "4/4 [==============================] - 0s 3ms/step - loss: 0.5385 - accuracy: 0.7227\n",
            "Epoch 13/50\n",
            "4/4 [==============================] - 0s 3ms/step - loss: 0.5326 - accuracy: 0.7227\n",
            "Epoch 14/50\n",
            "4/4 [==============================] - 0s 4ms/step - loss: 0.5273 - accuracy: 0.7227\n",
            "Epoch 15/50\n",
            "4/4 [==============================] - 0s 3ms/step - loss: 0.5215 - accuracy: 0.7227\n",
            "Epoch 16/50\n",
            "4/4 [==============================] - 0s 4ms/step - loss: 0.5191 - accuracy: 0.7227\n",
            "Epoch 17/50\n",
            "4/4 [==============================] - 0s 3ms/step - loss: 0.5134 - accuracy: 0.7227\n",
            "Epoch 18/50\n",
            "4/4 [==============================] - 0s 3ms/step - loss: 0.5109 - accuracy: 0.7059\n",
            "Epoch 19/50\n",
            "4/4 [==============================] - 0s 3ms/step - loss: 0.5044 - accuracy: 0.7227\n",
            "Epoch 20/50\n",
            "4/4 [==============================] - 0s 5ms/step - loss: 0.4993 - accuracy: 0.7227\n",
            "Epoch 21/50\n",
            "4/4 [==============================] - 0s 3ms/step - loss: 0.4944 - accuracy: 0.7395\n",
            "Epoch 22/50\n",
            "4/4 [==============================] - 0s 4ms/step - loss: 0.4896 - accuracy: 0.7395\n",
            "Epoch 23/50\n",
            "4/4 [==============================] - 0s 4ms/step - loss: 0.4856 - accuracy: 0.7479\n",
            "Epoch 24/50\n",
            "4/4 [==============================] - 0s 3ms/step - loss: 0.4812 - accuracy: 0.7479\n",
            "Epoch 25/50\n",
            "4/4 [==============================] - 0s 3ms/step - loss: 0.4770 - accuracy: 0.7563\n",
            "Epoch 26/50\n",
            "4/4 [==============================] - 0s 3ms/step - loss: 0.4737 - accuracy: 0.7563\n",
            "Epoch 27/50\n",
            "4/4 [==============================] - 0s 3ms/step - loss: 0.4688 - accuracy: 0.7563\n",
            "Epoch 28/50\n",
            "4/4 [==============================] - 0s 4ms/step - loss: 0.4637 - accuracy: 0.7563\n",
            "Epoch 29/50\n",
            "4/4 [==============================] - 0s 4ms/step - loss: 0.4590 - accuracy: 0.7563\n",
            "Epoch 30/50\n",
            "4/4 [==============================] - 0s 5ms/step - loss: 0.4545 - accuracy: 0.7647\n",
            "Epoch 31/50\n",
            "4/4 [==============================] - 0s 4ms/step - loss: 0.4522 - accuracy: 0.7731\n",
            "Epoch 32/50\n",
            "4/4 [==============================] - 0s 4ms/step - loss: 0.4474 - accuracy: 0.7731\n",
            "Epoch 33/50\n",
            "4/4 [==============================] - 0s 3ms/step - loss: 0.4428 - accuracy: 0.7731\n",
            "Epoch 34/50\n",
            "4/4 [==============================] - 0s 3ms/step - loss: 0.4402 - accuracy: 0.7731\n",
            "Epoch 35/50\n",
            "4/4 [==============================] - 0s 3ms/step - loss: 0.4350 - accuracy: 0.7647\n",
            "Epoch 36/50\n",
            "4/4 [==============================] - 0s 3ms/step - loss: 0.4304 - accuracy: 0.7899\n",
            "Epoch 37/50\n",
            "4/4 [==============================] - 0s 4ms/step - loss: 0.4283 - accuracy: 0.7899\n",
            "Epoch 38/50\n",
            "4/4 [==============================] - 0s 3ms/step - loss: 0.4258 - accuracy: 0.7983\n",
            "Epoch 39/50\n",
            "4/4 [==============================] - 0s 4ms/step - loss: 0.4212 - accuracy: 0.7899\n",
            "Epoch 40/50\n",
            "4/4 [==============================] - 0s 3ms/step - loss: 0.4186 - accuracy: 0.7815\n",
            "Epoch 41/50\n",
            "4/4 [==============================] - 0s 3ms/step - loss: 0.4152 - accuracy: 0.7899\n",
            "Epoch 42/50\n",
            "4/4 [==============================] - 0s 4ms/step - loss: 0.4108 - accuracy: 0.8067\n",
            "Epoch 43/50\n",
            "4/4 [==============================] - 0s 3ms/step - loss: 0.4090 - accuracy: 0.8235\n",
            "Epoch 44/50\n",
            "4/4 [==============================] - 0s 4ms/step - loss: 0.4058 - accuracy: 0.8151\n",
            "Epoch 45/50\n",
            "4/4 [==============================] - 0s 5ms/step - loss: 0.4012 - accuracy: 0.8487\n",
            "Epoch 46/50\n",
            "4/4 [==============================] - 0s 3ms/step - loss: 0.3976 - accuracy: 0.8487\n",
            "Epoch 47/50\n",
            "4/4 [==============================] - 0s 3ms/step - loss: 0.3925 - accuracy: 0.8571\n",
            "Epoch 48/50\n",
            "4/4 [==============================] - 0s 3ms/step - loss: 0.3894 - accuracy: 0.8571\n",
            "Epoch 49/50\n",
            "4/4 [==============================] - 0s 3ms/step - loss: 0.3854 - accuracy: 0.8571\n",
            "Epoch 50/50\n",
            "4/4 [==============================] - 0s 3ms/step - loss: 0.3829 - accuracy: 0.8487\n"
          ]
        },
        {
          "output_type": "execute_result",
          "data": {
            "text/plain": [
              "<keras.callbacks.History at 0x7d459a012ec0>"
            ]
          },
          "metadata": {},
          "execution_count": 27
        }
      ]
    },
    {
      "cell_type": "code",
      "source": [
        "# Evaluate the model using the test data\n",
        "model_loss, model_accuracy = nn.evaluate(X_test,y_test,verbose=2)\n",
        "print(f\"Loss: {model_loss}, Accuracy: {model_accuracy}\")"
      ],
      "metadata": {
        "id": "MbGwGGB21-No",
        "colab": {
          "base_uri": "https://localhost:8080/"
        },
        "outputId": "7b2a13aa-f2cf-4d19-a667-55811cde4166"
      },
      "id": "MbGwGGB21-No",
      "execution_count": 28,
      "outputs": [
        {
          "output_type": "stream",
          "name": "stdout",
          "text": [
            "1/1 - 0s - loss: 0.6041 - accuracy: 0.7333 - 170ms/epoch - 170ms/step\n",
            "Loss: 0.6041117906570435, Accuracy: 0.7333333492279053\n"
          ]
        }
      ]
    },
    {
      "cell_type": "code",
      "source": [
        "# Predict on the test data\n",
        "y_pred = nn.predict(X_test)\n",
        "\n",
        "# The predictions will be in the form of probabilities, so you might want to round them to get class labels (0 or 1)\n",
        "y_pred_class = y_pred.round()\n",
        "# Calculate the accuracy of the predictions\n",
        "correct_predictions = (y_pred_class == y_test.reshape(-1, 1)).sum()\n",
        "total_samples = len(y_test)\n",
        "accuracy = correct_predictions / total_samples\n",
        "print(\"Accuracy:\", accuracy)\n",
        "\n",
        "# Print the classification report\n",
        "print(\"Classification Report:\")\n",
        "print(classification_report(y_test, y_pred_class))"
      ],
      "metadata": {
        "id": "c3NJIuL31-RF",
        "colab": {
          "base_uri": "https://localhost:8080/"
        },
        "outputId": "9fb078b9-8fc9-431f-b57b-f0bf1ed06242"
      },
      "id": "c3NJIuL31-RF",
      "execution_count": 29,
      "outputs": [
        {
          "output_type": "stream",
          "name": "stdout",
          "text": [
            "1/1 [==============================] - 0s 82ms/step\n",
            "Accuracy: 0.7333333333333333\n",
            "Classification Report:\n",
            "              precision    recall  f1-score   support\n",
            "\n",
            "           0       0.75      0.95      0.84        22\n",
            "           1       0.50      0.12      0.20         8\n",
            "\n",
            "    accuracy                           0.73        30\n",
            "   macro avg       0.62      0.54      0.52        30\n",
            "weighted avg       0.68      0.73      0.67        30\n",
            "\n"
          ]
        }
      ]
    },
    {
      "cell_type": "code",
      "source": [],
      "metadata": {
        "id": "qm_hS7w41-UG"
      },
      "id": "qm_hS7w41-UG",
      "execution_count": null,
      "outputs": []
    },
    {
      "cell_type": "code",
      "source": [],
      "metadata": {
        "id": "K878cmYH1-XP"
      },
      "id": "K878cmYH1-XP",
      "execution_count": null,
      "outputs": []
    },
    {
      "cell_type": "code",
      "source": [],
      "metadata": {
        "id": "oEWuAluB1-aX"
      },
      "id": "oEWuAluB1-aX",
      "execution_count": null,
      "outputs": []
    },
    {
      "cell_type": "code",
      "source": [],
      "metadata": {
        "id": "kc1jEVV51-c9"
      },
      "id": "kc1jEVV51-c9",
      "execution_count": null,
      "outputs": []
    },
    {
      "cell_type": "code",
      "source": [],
      "metadata": {
        "id": "7jVE4f3G1-fm"
      },
      "id": "7jVE4f3G1-fm",
      "execution_count": null,
      "outputs": []
    },
    {
      "cell_type": "code",
      "source": [],
      "metadata": {
        "id": "BE0IS4I51-id"
      },
      "id": "BE0IS4I51-id",
      "execution_count": null,
      "outputs": []
    },
    {
      "cell_type": "code",
      "source": [],
      "metadata": {
        "id": "3znETXuJ1-lZ"
      },
      "id": "3znETXuJ1-lZ",
      "execution_count": null,
      "outputs": []
    },
    {
      "cell_type": "code",
      "source": [],
      "metadata": {
        "id": "ik3fD8Jn1-oN"
      },
      "id": "ik3fD8Jn1-oN",
      "execution_count": null,
      "outputs": []
    },
    {
      "cell_type": "code",
      "source": [],
      "metadata": {
        "id": "LzsvMvb51-rP"
      },
      "id": "LzsvMvb51-rP",
      "execution_count": null,
      "outputs": []
    },
    {
      "cell_type": "code",
      "source": [],
      "metadata": {
        "id": "tJ-JoZAU1-uI"
      },
      "id": "tJ-JoZAU1-uI",
      "execution_count": null,
      "outputs": []
    }
  ],
  "metadata": {
    "kernelspec": {
      "display_name": "Python 3 (ipykernel)",
      "language": "python",
      "name": "python3"
    },
    "language_info": {
      "codemirror_mode": {
        "name": "ipython",
        "version": 3
      },
      "file_extension": ".py",
      "mimetype": "text/x-python",
      "name": "python",
      "nbconvert_exporter": "python",
      "pygments_lexer": "ipython3",
      "version": "3.10.9"
    },
    "colab": {
      "provenance": []
    }
  },
  "nbformat": 4,
  "nbformat_minor": 5
}