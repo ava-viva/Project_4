{
  "cells": [
    {
      "cell_type": "code",
      "execution_count": 1,
      "id": "718e76bd",
      "metadata": {
        "id": "718e76bd"
      },
      "outputs": [],
      "source": [
        "#importing libraries\n",
        "import pandas as pd\n",
        "import numpy as np\n",
        "from sklearn.model_selection import train_test_split\n",
        "from sklearn.preprocessing import StandardScaler\n",
        "from sklearn.metrics import classification_report\n",
        "import tensorflow as tf\n",
        "import seaborn as sns\n",
        "import matplotlib.pyplot as plt"
      ]
    },
    {
      "cell_type": "code",
      "execution_count": 3,
      "id": "b888e571",
      "metadata": {
        "id": "b888e571"
      },
      "outputs": [],
      "source": [
        "# Read the databases from resources\n",
        "health_factors = pd.read_csv(\"/content/Health_Risk_factors.csv\")\n",
        "agriculture = pd.read_csv(\"/content/climate.csv\")\n"
      ]
    },
    {
      "cell_type": "code",
      "source": [
        "merged_df = pd.concat([agriculture, health_factors['Incidence of tuberculosis  per 100,000 people 2018']], axis=1)"
      ],
      "metadata": {
        "id": "9ZqfHa7Rwn4f"
      },
      "id": "9ZqfHa7Rwn4f",
      "execution_count": 4,
      "outputs": []
    },
    {
      "cell_type": "code",
      "source": [
        "merged_df.columns"
      ],
      "metadata": {
        "colab": {
          "base_uri": "https://localhost:8080/"
        },
        "id": "aSaDux9qtC1D",
        "outputId": "abeef5bf-2de2-489b-e047-ffadf238f3a2"
      },
      "id": "aSaDux9qtC1D",
      "execution_count": 5,
      "outputs": [
        {
          "output_type": "execute_result",
          "data": {
            "text/plain": [
              "Index(['Country',\n",
              "       'Exposure to impact Land area where elevation is below 5 meters % of land area 2010',\n",
              "       'Exposure to impact Population living in areas where elevation is below 5 meters % of total population 2010',\n",
              "       'Exposure to impact Population affected by droughts, floods, and extreme temperatures average annual; % of total population 2009',\n",
              "       'Exposure to impact Urban land area where elevation is below 5 meters % of urban land area 2010',\n",
              "       'Exposure to impact Rural population living in areas where elevation is below 5 meters % of rural population 2010',\n",
              "       'Exposure to impact Rural land area where elevation is below 5 meters % of rural land area 2010',\n",
              "       'Exposure to impact Urban population living in areas where elevation is below 5 meters % of urban population 2010',\n",
              "       'Resilience Disaster risk reduction progress score 1, worst to 5,best 2011',\n",
              "       'Incidence of tuberculosis  per 100,000 people 2018'],\n",
              "      dtype='object')"
            ]
          },
          "metadata": {},
          "execution_count": 5
        }
      ]
    },
    {
      "cell_type": "code",
      "execution_count": 9,
      "id": "e0680b68",
      "metadata": {
        "colab": {
          "base_uri": "https://localhost:8080/",
          "height": 572
        },
        "id": "e0680b68",
        "outputId": "dd61dc5e-ccbc-4060-e377-20d833fba0e0"
      },
      "outputs": [
        {
          "output_type": "execute_result",
          "data": {
            "text/plain": [
              "       Exposure to impact Land area where elevation is below 5 meters % of land area 2010  \\\n",
              "count                                         176.000000                                    \n",
              "mean                                            4.993182                                    \n",
              "std                                            10.490941                                    \n",
              "min                                             0.000000                                    \n",
              "25%                                             0.500000                                    \n",
              "50%                                             1.500000                                    \n",
              "75%                                             3.525000                                    \n",
              "max                                            55.900000                                    \n",
              "\n",
              "       Exposure to impact Population living in areas where elevation is below 5 meters % of total population 2010  \\\n",
              "count                                         176.000000                                                            \n",
              "mean                                            7.268750                                                            \n",
              "std                                            10.994497                                                            \n",
              "min                                             0.000000                                                            \n",
              "25%                                             1.200000                                                            \n",
              "50%                                             3.400000                                                            \n",
              "75%                                             7.425000                                                            \n",
              "max                                            58.500000                                                            \n",
              "\n",
              "       climet_affected_population  \\\n",
              "count                  168.000000   \n",
              "mean                     1.171429   \n",
              "std                      1.958312   \n",
              "min                      0.000000   \n",
              "25%                      0.000000   \n",
              "50%                      0.250000   \n",
              "75%                      1.300000   \n",
              "max                      9.200000   \n",
              "\n",
              "       Exposure to impact Urban land area where elevation is below 5 meters % of urban land area 2010  \\\n",
              "count                                         176.000000                                                \n",
              "mean                                            1.018182                                                \n",
              "std                                             3.293510                                                \n",
              "min                                             0.000000                                                \n",
              "25%                                             0.000000                                                \n",
              "50%                                             0.100000                                                \n",
              "75%                                             0.600000                                                \n",
              "max                                            22.600000                                                \n",
              "\n",
              "       Exposure to impact Rural population living in areas where elevation is below 5 meters % of rural population 2010  \\\n",
              "count                                         176.000000                                                                  \n",
              "mean                                            3.460227                                                                  \n",
              "std                                             7.356809                                                                  \n",
              "min                                             0.000000                                                                  \n",
              "25%                                             0.400000                                                                  \n",
              "50%                                             1.000000                                                                  \n",
              "75%                                             2.925000                                                                  \n",
              "max                                            48.200000                                                                  \n",
              "\n",
              "       Exposure to impact Rural land area where elevation is below 5 meters % of rural land area 2010  \\\n",
              "count                                         176.000000                                                \n",
              "mean                                            3.975568                                                \n",
              "std                                             9.245510                                                \n",
              "min                                             0.000000                                                \n",
              "25%                                             0.400000                                                \n",
              "50%                                             1.150000                                                \n",
              "75%                                             2.800000                                                \n",
              "max                                            55.100000                                                \n",
              "\n",
              "       urban_population  Disaster_risk  tuberculosis  \n",
              "count        176.000000      83.000000    207.000000  \n",
              "mean           3.805114       3.298795    102.893720  \n",
              "std            6.698113       0.738570    137.634271  \n",
              "min            0.000000       1.000000      0.000000  \n",
              "25%            0.600000       2.800000      9.500000  \n",
              "50%            1.850000       3.300000     45.000000  \n",
              "75%            3.725000       3.800000    144.000000  \n",
              "max           51.600000       4.800000    611.000000  "
            ],
            "text/html": [
              "\n",
              "\n",
              "  <div id=\"df-045377ff-bd12-48c5-bf8f-537561722993\">\n",
              "    <div class=\"colab-df-container\">\n",
              "      <div>\n",
              "<style scoped>\n",
              "    .dataframe tbody tr th:only-of-type {\n",
              "        vertical-align: middle;\n",
              "    }\n",
              "\n",
              "    .dataframe tbody tr th {\n",
              "        vertical-align: top;\n",
              "    }\n",
              "\n",
              "    .dataframe thead th {\n",
              "        text-align: right;\n",
              "    }\n",
              "</style>\n",
              "<table border=\"1\" class=\"dataframe\">\n",
              "  <thead>\n",
              "    <tr style=\"text-align: right;\">\n",
              "      <th></th>\n",
              "      <th>Exposure to impact Land area where elevation is below 5 meters % of land area 2010</th>\n",
              "      <th>Exposure to impact Population living in areas where elevation is below 5 meters % of total population 2010</th>\n",
              "      <th>climet_affected_population</th>\n",
              "      <th>Exposure to impact Urban land area where elevation is below 5 meters % of urban land area 2010</th>\n",
              "      <th>Exposure to impact Rural population living in areas where elevation is below 5 meters % of rural population 2010</th>\n",
              "      <th>Exposure to impact Rural land area where elevation is below 5 meters % of rural land area 2010</th>\n",
              "      <th>urban_population</th>\n",
              "      <th>Disaster_risk</th>\n",
              "      <th>tuberculosis</th>\n",
              "    </tr>\n",
              "  </thead>\n",
              "  <tbody>\n",
              "    <tr>\n",
              "      <th>count</th>\n",
              "      <td>176.000000</td>\n",
              "      <td>176.000000</td>\n",
              "      <td>168.000000</td>\n",
              "      <td>176.000000</td>\n",
              "      <td>176.000000</td>\n",
              "      <td>176.000000</td>\n",
              "      <td>176.000000</td>\n",
              "      <td>83.000000</td>\n",
              "      <td>207.000000</td>\n",
              "    </tr>\n",
              "    <tr>\n",
              "      <th>mean</th>\n",
              "      <td>4.993182</td>\n",
              "      <td>7.268750</td>\n",
              "      <td>1.171429</td>\n",
              "      <td>1.018182</td>\n",
              "      <td>3.460227</td>\n",
              "      <td>3.975568</td>\n",
              "      <td>3.805114</td>\n",
              "      <td>3.298795</td>\n",
              "      <td>102.893720</td>\n",
              "    </tr>\n",
              "    <tr>\n",
              "      <th>std</th>\n",
              "      <td>10.490941</td>\n",
              "      <td>10.994497</td>\n",
              "      <td>1.958312</td>\n",
              "      <td>3.293510</td>\n",
              "      <td>7.356809</td>\n",
              "      <td>9.245510</td>\n",
              "      <td>6.698113</td>\n",
              "      <td>0.738570</td>\n",
              "      <td>137.634271</td>\n",
              "    </tr>\n",
              "    <tr>\n",
              "      <th>min</th>\n",
              "      <td>0.000000</td>\n",
              "      <td>0.000000</td>\n",
              "      <td>0.000000</td>\n",
              "      <td>0.000000</td>\n",
              "      <td>0.000000</td>\n",
              "      <td>0.000000</td>\n",
              "      <td>0.000000</td>\n",
              "      <td>1.000000</td>\n",
              "      <td>0.000000</td>\n",
              "    </tr>\n",
              "    <tr>\n",
              "      <th>25%</th>\n",
              "      <td>0.500000</td>\n",
              "      <td>1.200000</td>\n",
              "      <td>0.000000</td>\n",
              "      <td>0.000000</td>\n",
              "      <td>0.400000</td>\n",
              "      <td>0.400000</td>\n",
              "      <td>0.600000</td>\n",
              "      <td>2.800000</td>\n",
              "      <td>9.500000</td>\n",
              "    </tr>\n",
              "    <tr>\n",
              "      <th>50%</th>\n",
              "      <td>1.500000</td>\n",
              "      <td>3.400000</td>\n",
              "      <td>0.250000</td>\n",
              "      <td>0.100000</td>\n",
              "      <td>1.000000</td>\n",
              "      <td>1.150000</td>\n",
              "      <td>1.850000</td>\n",
              "      <td>3.300000</td>\n",
              "      <td>45.000000</td>\n",
              "    </tr>\n",
              "    <tr>\n",
              "      <th>75%</th>\n",
              "      <td>3.525000</td>\n",
              "      <td>7.425000</td>\n",
              "      <td>1.300000</td>\n",
              "      <td>0.600000</td>\n",
              "      <td>2.925000</td>\n",
              "      <td>2.800000</td>\n",
              "      <td>3.725000</td>\n",
              "      <td>3.800000</td>\n",
              "      <td>144.000000</td>\n",
              "    </tr>\n",
              "    <tr>\n",
              "      <th>max</th>\n",
              "      <td>55.900000</td>\n",
              "      <td>58.500000</td>\n",
              "      <td>9.200000</td>\n",
              "      <td>22.600000</td>\n",
              "      <td>48.200000</td>\n",
              "      <td>55.100000</td>\n",
              "      <td>51.600000</td>\n",
              "      <td>4.800000</td>\n",
              "      <td>611.000000</td>\n",
              "    </tr>\n",
              "  </tbody>\n",
              "</table>\n",
              "</div>\n",
              "      <button class=\"colab-df-convert\" onclick=\"convertToInteractive('df-045377ff-bd12-48c5-bf8f-537561722993')\"\n",
              "              title=\"Convert this dataframe to an interactive table.\"\n",
              "              style=\"display:none;\">\n",
              "\n",
              "  <svg xmlns=\"http://www.w3.org/2000/svg\" height=\"24px\"viewBox=\"0 0 24 24\"\n",
              "       width=\"24px\">\n",
              "    <path d=\"M0 0h24v24H0V0z\" fill=\"none\"/>\n",
              "    <path d=\"M18.56 5.44l.94 2.06.94-2.06 2.06-.94-2.06-.94-.94-2.06-.94 2.06-2.06.94zm-11 1L8.5 8.5l.94-2.06 2.06-.94-2.06-.94L8.5 2.5l-.94 2.06-2.06.94zm10 10l.94 2.06.94-2.06 2.06-.94-2.06-.94-.94-2.06-.94 2.06-2.06.94z\"/><path d=\"M17.41 7.96l-1.37-1.37c-.4-.4-.92-.59-1.43-.59-.52 0-1.04.2-1.43.59L10.3 9.45l-7.72 7.72c-.78.78-.78 2.05 0 2.83L4 21.41c.39.39.9.59 1.41.59.51 0 1.02-.2 1.41-.59l7.78-7.78 2.81-2.81c.8-.78.8-2.07 0-2.86zM5.41 20L4 18.59l7.72-7.72 1.47 1.35L5.41 20z\"/>\n",
              "  </svg>\n",
              "      </button>\n",
              "\n",
              "\n",
              "\n",
              "    <div id=\"df-556b53f4-e97b-4532-9353-51836c8e2ad0\">\n",
              "      <button class=\"colab-df-quickchart\" onclick=\"quickchart('df-556b53f4-e97b-4532-9353-51836c8e2ad0')\"\n",
              "              title=\"Suggest charts.\"\n",
              "              style=\"display:none;\">\n",
              "\n",
              "<svg xmlns=\"http://www.w3.org/2000/svg\" height=\"24px\"viewBox=\"0 0 24 24\"\n",
              "     width=\"24px\">\n",
              "    <g>\n",
              "        <path d=\"M19 3H5c-1.1 0-2 .9-2 2v14c0 1.1.9 2 2 2h14c1.1 0 2-.9 2-2V5c0-1.1-.9-2-2-2zM9 17H7v-7h2v7zm4 0h-2V7h2v10zm4 0h-2v-4h2v4z\"/>\n",
              "    </g>\n",
              "</svg>\n",
              "      </button>\n",
              "    </div>\n",
              "\n",
              "<style>\n",
              "  .colab-df-quickchart {\n",
              "    background-color: #E8F0FE;\n",
              "    border: none;\n",
              "    border-radius: 50%;\n",
              "    cursor: pointer;\n",
              "    display: none;\n",
              "    fill: #1967D2;\n",
              "    height: 32px;\n",
              "    padding: 0 0 0 0;\n",
              "    width: 32px;\n",
              "  }\n",
              "\n",
              "  .colab-df-quickchart:hover {\n",
              "    background-color: #E2EBFA;\n",
              "    box-shadow: 0px 1px 2px rgba(60, 64, 67, 0.3), 0px 1px 3px 1px rgba(60, 64, 67, 0.15);\n",
              "    fill: #174EA6;\n",
              "  }\n",
              "\n",
              "  [theme=dark] .colab-df-quickchart {\n",
              "    background-color: #3B4455;\n",
              "    fill: #D2E3FC;\n",
              "  }\n",
              "\n",
              "  [theme=dark] .colab-df-quickchart:hover {\n",
              "    background-color: #434B5C;\n",
              "    box-shadow: 0px 1px 3px 1px rgba(0, 0, 0, 0.15);\n",
              "    filter: drop-shadow(0px 1px 2px rgba(0, 0, 0, 0.3));\n",
              "    fill: #FFFFFF;\n",
              "  }\n",
              "</style>\n",
              "\n",
              "    <script>\n",
              "      async function quickchart(key) {\n",
              "        const containerElement = document.querySelector('#' + key);\n",
              "        const charts = await google.colab.kernel.invokeFunction(\n",
              "            'suggestCharts', [key], {});\n",
              "      }\n",
              "    </script>\n",
              "\n",
              "      <script>\n",
              "\n",
              "function displayQuickchartButton(domScope) {\n",
              "  let quickchartButtonEl =\n",
              "    domScope.querySelector('#df-556b53f4-e97b-4532-9353-51836c8e2ad0 button.colab-df-quickchart');\n",
              "  quickchartButtonEl.style.display =\n",
              "    google.colab.kernel.accessAllowed ? 'block' : 'none';\n",
              "}\n",
              "\n",
              "        displayQuickchartButton(document);\n",
              "      </script>\n",
              "      <style>\n",
              "    .colab-df-container {\n",
              "      display:flex;\n",
              "      flex-wrap:wrap;\n",
              "      gap: 12px;\n",
              "    }\n",
              "\n",
              "    .colab-df-convert {\n",
              "      background-color: #E8F0FE;\n",
              "      border: none;\n",
              "      border-radius: 50%;\n",
              "      cursor: pointer;\n",
              "      display: none;\n",
              "      fill: #1967D2;\n",
              "      height: 32px;\n",
              "      padding: 0 0 0 0;\n",
              "      width: 32px;\n",
              "    }\n",
              "\n",
              "    .colab-df-convert:hover {\n",
              "      background-color: #E2EBFA;\n",
              "      box-shadow: 0px 1px 2px rgba(60, 64, 67, 0.3), 0px 1px 3px 1px rgba(60, 64, 67, 0.15);\n",
              "      fill: #174EA6;\n",
              "    }\n",
              "\n",
              "    [theme=dark] .colab-df-convert {\n",
              "      background-color: #3B4455;\n",
              "      fill: #D2E3FC;\n",
              "    }\n",
              "\n",
              "    [theme=dark] .colab-df-convert:hover {\n",
              "      background-color: #434B5C;\n",
              "      box-shadow: 0px 1px 3px 1px rgba(0, 0, 0, 0.15);\n",
              "      filter: drop-shadow(0px 1px 2px rgba(0, 0, 0, 0.3));\n",
              "      fill: #FFFFFF;\n",
              "    }\n",
              "  </style>\n",
              "\n",
              "      <script>\n",
              "        const buttonEl =\n",
              "          document.querySelector('#df-045377ff-bd12-48c5-bf8f-537561722993 button.colab-df-convert');\n",
              "        buttonEl.style.display =\n",
              "          google.colab.kernel.accessAllowed ? 'block' : 'none';\n",
              "\n",
              "        async function convertToInteractive(key) {\n",
              "          const element = document.querySelector('#df-045377ff-bd12-48c5-bf8f-537561722993');\n",
              "          const dataTable =\n",
              "            await google.colab.kernel.invokeFunction('convertToInteractive',\n",
              "                                                     [key], {});\n",
              "          if (!dataTable) return;\n",
              "\n",
              "          const docLinkHtml = 'Like what you see? Visit the ' +\n",
              "            '<a target=\"_blank\" href=https://colab.research.google.com/notebooks/data_table.ipynb>data table notebook</a>'\n",
              "            + ' to learn more about interactive tables.';\n",
              "          element.innerHTML = '';\n",
              "          dataTable['output_type'] = 'display_data';\n",
              "          await google.colab.output.renderOutput(dataTable, element);\n",
              "          const docLink = document.createElement('div');\n",
              "          docLink.innerHTML = docLinkHtml;\n",
              "          element.appendChild(docLink);\n",
              "        }\n",
              "      </script>\n",
              "    </div>\n",
              "  </div>\n"
            ]
          },
          "metadata": {},
          "execution_count": 9
        }
      ],
      "source": [
        "# Renaming columns in the health_factors DataFrame to more descriptive names\n",
        "ag = merged_df.rename(columns={\n",
        "    \"Incidence of tuberculosis  per 100,000 people 2018\": \"tuberculosis\",\n",
        "    'Resilience Disaster risk reduction progress score 1, worst to 5,best 2011':\"Disaster_risk\",\n",
        "    'Exposure to impact Urban population living in areas where elevation is below 5 meters % of urban population 2010':\"urban_population\",\n",
        "    'Exposure to impact Population affected by droughts, floods, and extreme temperatures average annual; % of total population 2009':\"climet_affected_population\"\n",
        "})\n",
        "ag.columns\n",
        "ag.describe()"
      ]
    },
    {
      "cell_type": "code",
      "execution_count": 24,
      "id": "68b704db",
      "metadata": {
        "id": "68b704db"
      },
      "outputs": [],
      "source": [
        "df=ag[[\"tuberculosis\",\"Disaster_risk\", \"urban_population\", \"climet_affected_population\"]]\n",
        "#df1 = ag.replace('', np.nan)  # Replace empty values with NaN\n",
        "df1 = df.dropna()  # Drop rows with any missing values"
      ]
    },
    {
      "cell_type": "code",
      "source": [
        "df1[\"tuberculosis\"].describe()"
      ],
      "metadata": {
        "colab": {
          "base_uri": "https://localhost:8080/"
        },
        "id": "Frh1B7nCuOuH",
        "outputId": "ab7b8e71-e4b0-40de-bb77-4857f0f384e5"
      },
      "id": "Frh1B7nCuOuH",
      "execution_count": 25,
      "outputs": [
        {
          "output_type": "execute_result",
          "data": {
            "text/plain": [
              "count     66.000000\n",
              "mean      94.318182\n",
              "std      110.842530\n",
              "min        3.000000\n",
              "25%       16.500000\n",
              "50%       48.000000\n",
              "75%      137.250000\n",
              "max      551.000000\n",
              "Name: tuberculosis, dtype: float64"
            ]
          },
          "metadata": {},
          "execution_count": 25
        }
      ]
    },
    {
      "cell_type": "code",
      "source": [
        "# Define the thresholds for classification\n",
        "\n",
        "threshold_tuberculosis = 100\n",
        "# Create a DataFrame to store the classified values\n",
        "df2 = pd.DataFrame()\n",
        "# Classify every columns\n",
        "df2=df1[[\"urban_population\",\"Disaster_risk\", \"climet_affected_population\" ]]\n",
        "df2['tuberculosis'] = [0 if i < threshold_tuberculosis else 1 for i in df1['tuberculosis']]\n",
        "\n",
        "# Extract X and y\n",
        "y = df2['tuberculosis'].values\n",
        "X = df2.drop(columns='tuberculosis').values\n",
        "df2.shape"
      ],
      "metadata": {
        "id": "8Wy7cnofKW-P",
        "colab": {
          "base_uri": "https://localhost:8080/"
        },
        "outputId": "354a022d-860a-45be-b0b0-4dd93d6daeb8"
      },
      "id": "8Wy7cnofKW-P",
      "execution_count": 26,
      "outputs": [
        {
          "output_type": "execute_result",
          "data": {
            "text/plain": [
              "(66, 4)"
            ]
          },
          "metadata": {},
          "execution_count": 26
        }
      ]
    },
    {
      "cell_type": "code",
      "source": [
        "# Split the preprocessed data into a training and testing dataset\n",
        "X_train, X_test, y_train, y_test = train_test_split(X, y,random_state=1,stratify=y,test_size=.2)"
      ],
      "metadata": {
        "id": "u9iJtXr_1RgI"
      },
      "id": "u9iJtXr_1RgI",
      "execution_count": 27,
      "outputs": []
    },
    {
      "cell_type": "code",
      "source": [
        "# Define the model - deep neural net, i.e., the number of input features and hidden nodes for each layer.\n",
        "l_1 = 50\n",
        "l_2 = 50\n",
        "input_features = len(X_train[0])\n",
        "nn = tf.keras.models.Sequential()\n",
        "\n",
        "# First hidden layer\n",
        "nn.add(tf.keras.layers.Dense(units=l_1, input_dim = input_features, activation = \"tanh\"))\n",
        "\n",
        "# Second hidden layer\n",
        "nn.add(tf.keras.layers.Dense(units=l_2, activation = \"LeakyReLU\"))\n",
        "\n",
        "# Output layer\n",
        "nn.add(tf.keras.layers.Dense(units=1, activation=\"sigmoid\"))\n",
        "\n",
        "# Check the structure of the model\n",
        "nn.summary()"
      ],
      "metadata": {
        "colab": {
          "base_uri": "https://localhost:8080/"
        },
        "id": "H6A-MirP04IM",
        "outputId": "64a064d9-8789-4123-f7df-9070e3b5f0bf"
      },
      "id": "H6A-MirP04IM",
      "execution_count": 28,
      "outputs": [
        {
          "output_type": "stream",
          "name": "stdout",
          "text": [
            "Model: \"sequential_1\"\n",
            "_________________________________________________________________\n",
            " Layer (type)                Output Shape              Param #   \n",
            "=================================================================\n",
            " dense_3 (Dense)             (None, 50)                200       \n",
            "                                                                 \n",
            " dense_4 (Dense)             (None, 50)                2550      \n",
            "                                                                 \n",
            " dense_5 (Dense)             (None, 1)                 51        \n",
            "                                                                 \n",
            "=================================================================\n",
            "Total params: 2,801\n",
            "Trainable params: 2,801\n",
            "Non-trainable params: 0\n",
            "_________________________________________________________________\n"
          ]
        }
      ]
    },
    {
      "cell_type": "code",
      "source": [
        "# Compile the model\n",
        "nn.compile(loss=\"binary_crossentropy\", optimizer=\"adam\", metrics=[\"accuracy\"])"
      ],
      "metadata": {
        "id": "gaEbhdF61-IM"
      },
      "id": "gaEbhdF61-IM",
      "execution_count": 29,
      "outputs": []
    },
    {
      "cell_type": "code",
      "source": [
        "# Train the model\n",
        "nn.fit(X_train, y_train, epochs=50)"
      ],
      "metadata": {
        "id": "jK3JJTyG1-LQ",
        "colab": {
          "base_uri": "https://localhost:8080/"
        },
        "outputId": "3ded618d-3238-4d35-8963-88c791afbac2"
      },
      "id": "jK3JJTyG1-LQ",
      "execution_count": 30,
      "outputs": [
        {
          "output_type": "stream",
          "name": "stdout",
          "text": [
            "Epoch 1/50\n",
            "2/2 [==============================] - 1s 9ms/step - loss: 0.7954 - accuracy: 0.2308\n",
            "Epoch 2/50\n",
            "2/2 [==============================] - 0s 10ms/step - loss: 0.7331 - accuracy: 0.4808\n",
            "Epoch 3/50\n",
            "2/2 [==============================] - 0s 6ms/step - loss: 0.6930 - accuracy: 0.5962\n",
            "Epoch 4/50\n",
            "2/2 [==============================] - 0s 6ms/step - loss: 0.6535 - accuracy: 0.7115\n",
            "Epoch 5/50\n",
            "2/2 [==============================] - 0s 7ms/step - loss: 0.6343 - accuracy: 0.7115\n",
            "Epoch 6/50\n",
            "2/2 [==============================] - 0s 7ms/step - loss: 0.6283 - accuracy: 0.6731\n",
            "Epoch 7/50\n",
            "2/2 [==============================] - 0s 7ms/step - loss: 0.6169 - accuracy: 0.6731\n",
            "Epoch 8/50\n",
            "2/2 [==============================] - 0s 7ms/step - loss: 0.6083 - accuracy: 0.6731\n",
            "Epoch 9/50\n",
            "2/2 [==============================] - 0s 7ms/step - loss: 0.6009 - accuracy: 0.6731\n",
            "Epoch 10/50\n",
            "2/2 [==============================] - 0s 7ms/step - loss: 0.5942 - accuracy: 0.6731\n",
            "Epoch 11/50\n",
            "2/2 [==============================] - 0s 7ms/step - loss: 0.5868 - accuracy: 0.6731\n",
            "Epoch 12/50\n",
            "2/2 [==============================] - 0s 8ms/step - loss: 0.5816 - accuracy: 0.6923\n",
            "Epoch 13/50\n",
            "2/2 [==============================] - 0s 6ms/step - loss: 0.5786 - accuracy: 0.6731\n",
            "Epoch 14/50\n",
            "2/2 [==============================] - 0s 7ms/step - loss: 0.5716 - accuracy: 0.6731\n",
            "Epoch 15/50\n",
            "2/2 [==============================] - 0s 7ms/step - loss: 0.5703 - accuracy: 0.7115\n",
            "Epoch 16/50\n",
            "2/2 [==============================] - 0s 7ms/step - loss: 0.5662 - accuracy: 0.7308\n",
            "Epoch 17/50\n",
            "2/2 [==============================] - 0s 6ms/step - loss: 0.5646 - accuracy: 0.7500\n",
            "Epoch 18/50\n",
            "2/2 [==============================] - 0s 6ms/step - loss: 0.5631 - accuracy: 0.7500\n",
            "Epoch 19/50\n",
            "2/2 [==============================] - 0s 7ms/step - loss: 0.5610 - accuracy: 0.7500\n",
            "Epoch 20/50\n",
            "2/2 [==============================] - 0s 6ms/step - loss: 0.5605 - accuracy: 0.7500\n",
            "Epoch 21/50\n",
            "2/2 [==============================] - 0s 7ms/step - loss: 0.5583 - accuracy: 0.7308\n",
            "Epoch 22/50\n",
            "2/2 [==============================] - 0s 6ms/step - loss: 0.5567 - accuracy: 0.7500\n",
            "Epoch 23/50\n",
            "2/2 [==============================] - 0s 6ms/step - loss: 0.5548 - accuracy: 0.7500\n",
            "Epoch 24/50\n",
            "2/2 [==============================] - 0s 7ms/step - loss: 0.5532 - accuracy: 0.7500\n",
            "Epoch 25/50\n",
            "2/2 [==============================] - 0s 6ms/step - loss: 0.5517 - accuracy: 0.7500\n",
            "Epoch 26/50\n",
            "2/2 [==============================] - 0s 14ms/step - loss: 0.5504 - accuracy: 0.7500\n",
            "Epoch 27/50\n",
            "2/2 [==============================] - 0s 6ms/step - loss: 0.5490 - accuracy: 0.7692\n",
            "Epoch 28/50\n",
            "2/2 [==============================] - 0s 6ms/step - loss: 0.5479 - accuracy: 0.7692\n",
            "Epoch 29/50\n",
            "2/2 [==============================] - 0s 6ms/step - loss: 0.5470 - accuracy: 0.7692\n",
            "Epoch 30/50\n",
            "2/2 [==============================] - 0s 8ms/step - loss: 0.5467 - accuracy: 0.7692\n",
            "Epoch 31/50\n",
            "2/2 [==============================] - 0s 6ms/step - loss: 0.5461 - accuracy: 0.7692\n",
            "Epoch 32/50\n",
            "2/2 [==============================] - 0s 10ms/step - loss: 0.5441 - accuracy: 0.7692\n",
            "Epoch 33/50\n",
            "2/2 [==============================] - 0s 9ms/step - loss: 0.5426 - accuracy: 0.7692\n",
            "Epoch 34/50\n",
            "2/2 [==============================] - 0s 7ms/step - loss: 0.5416 - accuracy: 0.7692\n",
            "Epoch 35/50\n",
            "2/2 [==============================] - 0s 6ms/step - loss: 0.5408 - accuracy: 0.7692\n",
            "Epoch 36/50\n",
            "2/2 [==============================] - 0s 6ms/step - loss: 0.5397 - accuracy: 0.7692\n",
            "Epoch 37/50\n",
            "2/2 [==============================] - 0s 6ms/step - loss: 0.5391 - accuracy: 0.7692\n",
            "Epoch 38/50\n",
            "2/2 [==============================] - 0s 6ms/step - loss: 0.5381 - accuracy: 0.7692\n",
            "Epoch 39/50\n",
            "2/2 [==============================] - 0s 6ms/step - loss: 0.5381 - accuracy: 0.7500\n",
            "Epoch 40/50\n",
            "2/2 [==============================] - 0s 6ms/step - loss: 0.5364 - accuracy: 0.7500\n",
            "Epoch 41/50\n",
            "2/2 [==============================] - 0s 7ms/step - loss: 0.5357 - accuracy: 0.7500\n",
            "Epoch 42/50\n",
            "2/2 [==============================] - 0s 7ms/step - loss: 0.5349 - accuracy: 0.7500\n",
            "Epoch 43/50\n",
            "2/2 [==============================] - 0s 7ms/step - loss: 0.5347 - accuracy: 0.7500\n",
            "Epoch 44/50\n",
            "2/2 [==============================] - 0s 8ms/step - loss: 0.5332 - accuracy: 0.7500\n",
            "Epoch 45/50\n",
            "2/2 [==============================] - 0s 8ms/step - loss: 0.5327 - accuracy: 0.7500\n",
            "Epoch 46/50\n",
            "2/2 [==============================] - 0s 7ms/step - loss: 0.5329 - accuracy: 0.7500\n",
            "Epoch 47/50\n",
            "2/2 [==============================] - 0s 6ms/step - loss: 0.5316 - accuracy: 0.7692\n",
            "Epoch 48/50\n",
            "2/2 [==============================] - 0s 7ms/step - loss: 0.5305 - accuracy: 0.7500\n",
            "Epoch 49/50\n",
            "2/2 [==============================] - 0s 10ms/step - loss: 0.5298 - accuracy: 0.7308\n",
            "Epoch 50/50\n",
            "2/2 [==============================] - 0s 7ms/step - loss: 0.5291 - accuracy: 0.7500\n"
          ]
        },
        {
          "output_type": "execute_result",
          "data": {
            "text/plain": [
              "<keras.callbacks.History at 0x7d16e85d3190>"
            ]
          },
          "metadata": {},
          "execution_count": 30
        }
      ]
    },
    {
      "cell_type": "code",
      "source": [
        "# Evaluate the model using the test data\n",
        "model_loss, model_accuracy = nn.evaluate(X_test,y_test,verbose=2)\n",
        "print(f\"Loss: {model_loss}, Accuracy: {model_accuracy}\")"
      ],
      "metadata": {
        "id": "MbGwGGB21-No",
        "colab": {
          "base_uri": "https://localhost:8080/"
        },
        "outputId": "c43a873b-58aa-4b60-f5ea-81592077dd67"
      },
      "id": "MbGwGGB21-No",
      "execution_count": 31,
      "outputs": [
        {
          "output_type": "stream",
          "name": "stdout",
          "text": [
            "1/1 - 0s - loss: 0.4398 - accuracy: 0.8571 - 197ms/epoch - 197ms/step\n",
            "Loss: 0.4397590458393097, Accuracy: 0.8571428656578064\n"
          ]
        }
      ]
    },
    {
      "cell_type": "code",
      "source": [
        "# Predict on the test data\n",
        "y_pred = nn.predict(X_test)\n",
        "\n",
        "# The predictions will be in the form of probabilities, so you might want to round them to get class labels (0 or 1)\n",
        "y_pred_class = y_pred.round()\n",
        "# Calculate the accuracy of the predictions\n",
        "correct_predictions = (y_pred_class == y_test.reshape(-1, 1)).sum()\n",
        "total_samples = len(y_test)\n",
        "accuracy = correct_predictions / total_samples\n",
        "print(\"Accuracy:\", accuracy)\n",
        "\n",
        "# Print the classification report\n",
        "print(\"Classification Report:\")\n",
        "print(classification_report(y_test, y_pred_class))"
      ],
      "metadata": {
        "id": "c3NJIuL31-RF",
        "colab": {
          "base_uri": "https://localhost:8080/"
        },
        "outputId": "3ee520b2-c0b5-43b7-82f1-d950a6fffcc2"
      },
      "id": "c3NJIuL31-RF",
      "execution_count": 32,
      "outputs": [
        {
          "output_type": "stream",
          "name": "stdout",
          "text": [
            "1/1 [==============================] - 0s 57ms/step\n",
            "Accuracy: 0.8571428571428571\n",
            "Classification Report:\n",
            "              precision    recall  f1-score   support\n",
            "\n",
            "           0       0.83      1.00      0.91        10\n",
            "           1       1.00      0.50      0.67         4\n",
            "\n",
            "    accuracy                           0.86        14\n",
            "   macro avg       0.92      0.75      0.79        14\n",
            "weighted avg       0.88      0.86      0.84        14\n",
            "\n"
          ]
        }
      ]
    },
    {
      "cell_type": "code",
      "source": [],
      "metadata": {
        "id": "qm_hS7w41-UG"
      },
      "id": "qm_hS7w41-UG",
      "execution_count": null,
      "outputs": []
    },
    {
      "cell_type": "code",
      "source": [],
      "metadata": {
        "id": "K878cmYH1-XP"
      },
      "id": "K878cmYH1-XP",
      "execution_count": null,
      "outputs": []
    },
    {
      "cell_type": "code",
      "source": [],
      "metadata": {
        "id": "oEWuAluB1-aX"
      },
      "id": "oEWuAluB1-aX",
      "execution_count": null,
      "outputs": []
    },
    {
      "cell_type": "code",
      "source": [],
      "metadata": {
        "id": "kc1jEVV51-c9"
      },
      "id": "kc1jEVV51-c9",
      "execution_count": null,
      "outputs": []
    },
    {
      "cell_type": "code",
      "source": [],
      "metadata": {
        "id": "7jVE4f3G1-fm"
      },
      "id": "7jVE4f3G1-fm",
      "execution_count": null,
      "outputs": []
    },
    {
      "cell_type": "code",
      "source": [],
      "metadata": {
        "id": "BE0IS4I51-id"
      },
      "id": "BE0IS4I51-id",
      "execution_count": null,
      "outputs": []
    },
    {
      "cell_type": "code",
      "source": [],
      "metadata": {
        "id": "3znETXuJ1-lZ"
      },
      "id": "3znETXuJ1-lZ",
      "execution_count": null,
      "outputs": []
    },
    {
      "cell_type": "code",
      "source": [],
      "metadata": {
        "id": "ik3fD8Jn1-oN"
      },
      "id": "ik3fD8Jn1-oN",
      "execution_count": null,
      "outputs": []
    },
    {
      "cell_type": "code",
      "source": [],
      "metadata": {
        "id": "LzsvMvb51-rP"
      },
      "id": "LzsvMvb51-rP",
      "execution_count": null,
      "outputs": []
    },
    {
      "cell_type": "code",
      "source": [],
      "metadata": {
        "id": "tJ-JoZAU1-uI"
      },
      "id": "tJ-JoZAU1-uI",
      "execution_count": null,
      "outputs": []
    }
  ],
  "metadata": {
    "kernelspec": {
      "display_name": "Python 3 (ipykernel)",
      "language": "python",
      "name": "python3"
    },
    "language_info": {
      "codemirror_mode": {
        "name": "ipython",
        "version": 3
      },
      "file_extension": ".py",
      "mimetype": "text/x-python",
      "name": "python",
      "nbconvert_exporter": "python",
      "pygments_lexer": "ipython3",
      "version": "3.10.9"
    },
    "colab": {
      "provenance": []
    }
  },
  "nbformat": 4,
  "nbformat_minor": 5
}