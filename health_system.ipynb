{
  "cells": [
    {
      "cell_type": "code",
      "execution_count": 1,
      "id": "718e76bd",
      "metadata": {
        "id": "718e76bd"
      },
      "outputs": [],
      "source": [
        "#importing libraries\n",
        "import pandas as pd\n",
        "import numpy as np\n",
        "from sklearn.model_selection import train_test_split\n",
        "from sklearn.preprocessing import StandardScaler\n",
        "from sklearn.metrics import classification_report\n",
        "import pandas as pd\n",
        "import tensorflow as tf"
      ]
    },
    {
      "cell_type": "code",
      "execution_count": 2,
      "id": "b888e571",
      "metadata": {
        "id": "b888e571"
      },
      "outputs": [],
      "source": [
        "# Read the databases from resources\n",
        "health_factors = pd.read_csv(\"/content/Health_Risk_factors.csv\")\n",
        "freshwater = pd.read_csv(\"/content/freshwater.csv\")\n",
        "health_system=pd.read_csv(\"/content/health_system.csv\")"
      ]
    },
    {
      "cell_type": "code",
      "source": [
        "health_system.columns"
      ],
      "metadata": {
        "colab": {
          "base_uri": "https://localhost:8080/"
        },
        "id": "BMnBuNl_xqcK",
        "outputId": "06f3f03d-fb82-412a-a6b8-8ad58ef201a1"
      },
      "id": "BMnBuNl_xqcK",
      "execution_count": 3,
      "outputs": [
        {
          "output_type": "execute_result",
          "data": {
            "text/plain": [
              "Index(['Country', 'Health expenditure Current % of GDP 2016',\n",
              "       'Health expenditure Public % of current 2016',\n",
              "       'Health expenditure Out of pocket % of current 2016',\n",
              "       'Health expenditure per capita $ 2016',\n",
              "       'Health expenditure per capita current PPP $ 2016',\n",
              "       'External health expenditure (% of current health expenditure)   2016',\n",
              "       'Health workers Physicians per 1,000 people 2009-18',\n",
              "       'Health workers Nurses and midwives per 1,000 people 2009-18',\n",
              "       'Specialist surgical workforce  per 100,000 population 2008-18',\n",
              "       'Completeness of birth registration  % 2009-18',\n",
              "       'Completeness of death registration  % 2008-16'],\n",
              "      dtype='object')"
            ]
          },
          "metadata": {},
          "execution_count": 3
        }
      ]
    },
    {
      "cell_type": "code",
      "source": [
        "merged_df = pd.concat([health_system, health_factors['Incidence of tuberculosis  per 100,000 people 2018']], axis=1)"
      ],
      "metadata": {
        "id": "9ZqfHa7Rwn4f"
      },
      "id": "9ZqfHa7Rwn4f",
      "execution_count": 4,
      "outputs": []
    },
    {
      "cell_type": "code",
      "source": [
        "merged_df.columns"
      ],
      "metadata": {
        "colab": {
          "base_uri": "https://localhost:8080/"
        },
        "id": "aSaDux9qtC1D",
        "outputId": "d08a6af5-3fbf-4f55-ed39-8beddb9d9ccc"
      },
      "id": "aSaDux9qtC1D",
      "execution_count": 5,
      "outputs": [
        {
          "output_type": "execute_result",
          "data": {
            "text/plain": [
              "Index(['Country', 'Health expenditure Current % of GDP 2016',\n",
              "       'Health expenditure Public % of current 2016',\n",
              "       'Health expenditure Out of pocket % of current 2016',\n",
              "       'Health expenditure per capita $ 2016',\n",
              "       'Health expenditure per capita current PPP $ 2016',\n",
              "       'External health expenditure (% of current health expenditure)   2016',\n",
              "       'Health workers Physicians per 1,000 people 2009-18',\n",
              "       'Health workers Nurses and midwives per 1,000 people 2009-18',\n",
              "       'Specialist surgical workforce  per 100,000 population 2008-18',\n",
              "       'Completeness of birth registration  % 2009-18',\n",
              "       'Completeness of death registration  % 2008-16',\n",
              "       'Incidence of tuberculosis  per 100,000 people 2018'],\n",
              "      dtype='object')"
            ]
          },
          "metadata": {},
          "execution_count": 5
        }
      ]
    },
    {
      "cell_type": "code",
      "execution_count": 6,
      "id": "e0680b68",
      "metadata": {
        "id": "e0680b68"
      },
      "outputs": [],
      "source": [
        "# Renaming columns in the health_factors DataFrame to more descriptive names\n",
        "fw = merged_df.rename(columns={\n",
        "    \"Incidence of tuberculosis  per 100,000 people 2018\": \"tuberculosis\",\n",
        "    'External health expenditure (% of current health expenditure)   2016': \"ext_health_expend\",\n",
        "    \"Health expenditure Public % of current 2016\": \"public_health_expend\",\n",
        "    \"Health workers Physicians per 1,000 people 2009-18\": \"physicians\",\n",
        "    \"Health workers Nurses and midwives per 1,000 people 2009-18\": \"nurses\",\n",
        "    \"Specialist surgical workforce  per 100,000 population 2008-18\": \"surgeries\"\n",
        "     })\n"
      ]
    },
    {
      "cell_type": "code",
      "execution_count": 8,
      "id": "68b704db",
      "metadata": {
        "id": "68b704db"
      },
      "outputs": [],
      "source": [
        "df=fw[[\"tuberculosis\",\"ext_health_expend\",\"public_health_expend\",\"physicians\",\"nurses\",\"surgeries\"]]\n",
        "df1 = df.replace('', np.nan)  # Replace empty values with NaN\n",
        "df1 = df.dropna()  # Drop rows with any missing values"
      ]
    },
    {
      "cell_type": "code",
      "source": [
        "df1[\"tuberculosis\"].describe()"
      ],
      "metadata": {
        "colab": {
          "base_uri": "https://localhost:8080/"
        },
        "id": "Frh1B7nCuOuH",
        "outputId": "b050872c-594e-4989-eada-a762f7909977"
      },
      "id": "Frh1B7nCuOuH",
      "execution_count": 9,
      "outputs": [
        {
          "output_type": "execute_result",
          "data": {
            "text/plain": [
              "count    146.000000\n",
              "mean     114.315068\n",
              "std      143.367036\n",
              "min        0.000000\n",
              "25%       13.250000\n",
              "50%       50.000000\n",
              "75%      159.750000\n",
              "max      611.000000\n",
              "Name: tuberculosis, dtype: float64"
            ]
          },
          "metadata": {},
          "execution_count": 9
        }
      ]
    },
    {
      "cell_type": "code",
      "source": [
        "# Define the thresholds for classification\n",
        "threshold_tuberculosis = 100\n",
        "# Create a DataFrame to store the classified values\n",
        "df2 = pd.DataFrame()\n",
        "# Classify every columns\n",
        "df2=df1[[\"ext_health_expend\",\"public_health_expend\",\"physicians\",\"nurses\", \"surgeries\"  ]]\n",
        "df2['tuberculosis'] = [0 if i < threshold_tuberculosis else 1 for i in df1['tuberculosis']]\n",
        "# Extract X and y\n",
        "y = df2['tuberculosis'].values\n",
        "X = df2.drop(columns='tuberculosis').values"
      ],
      "metadata": {
        "id": "8Wy7cnofKW-P"
      },
      "id": "8Wy7cnofKW-P",
      "execution_count": 11,
      "outputs": []
    },
    {
      "cell_type": "code",
      "source": [
        "# Split the preprocessed data into a training and testing dataset\n",
        "X_train, X_test, y_train, y_test = train_test_split(X, y,random_state=1,stratify=y,test_size=.2)"
      ],
      "metadata": {
        "id": "u9iJtXr_1RgI"
      },
      "id": "u9iJtXr_1RgI",
      "execution_count": 12,
      "outputs": []
    },
    {
      "cell_type": "code",
      "source": [
        "# Define the model - deep neural net, i.e., the number of input features and hidden nodes for each layer.\n",
        "l_1 = 50\n",
        "l_2 = 50\n",
        "input_features = len(X_train[0])\n",
        "nn = tf.keras.models.Sequential()\n",
        "\n",
        "# First hidden layer\n",
        "nn.add(tf.keras.layers.Dense(units=l_1, input_dim = input_features, activation = \"tanh\"))\n",
        "\n",
        "# Second hidden layer\n",
        "nn.add(tf.keras.layers.Dense(units=l_2, activation = \"LeakyReLU\"))\n",
        "\n",
        "# Output layer\n",
        "nn.add(tf.keras.layers.Dense(units=1, activation=\"sigmoid\"))\n",
        "\n",
        "# Check the structure of the model\n",
        "nn.summary()"
      ],
      "metadata": {
        "colab": {
          "base_uri": "https://localhost:8080/"
        },
        "id": "H6A-MirP04IM",
        "outputId": "bbeb42b5-3094-4b8b-bb58-6b7ec381e785"
      },
      "id": "H6A-MirP04IM",
      "execution_count": 13,
      "outputs": [
        {
          "output_type": "stream",
          "name": "stdout",
          "text": [
            "Model: \"sequential\"\n",
            "_________________________________________________________________\n",
            " Layer (type)                Output Shape              Param #   \n",
            "=================================================================\n",
            " dense (Dense)               (None, 50)                300       \n",
            "                                                                 \n",
            " dense_1 (Dense)             (None, 50)                2550      \n",
            "                                                                 \n",
            " dense_2 (Dense)             (None, 1)                 51        \n",
            "                                                                 \n",
            "=================================================================\n",
            "Total params: 2,901\n",
            "Trainable params: 2,901\n",
            "Non-trainable params: 0\n",
            "_________________________________________________________________\n"
          ]
        }
      ]
    },
    {
      "cell_type": "code",
      "source": [
        "# Compile the model\n",
        "nn.compile(loss=\"binary_crossentropy\", optimizer=\"adam\", metrics=[\"accuracy\"])"
      ],
      "metadata": {
        "id": "gaEbhdF61-IM"
      },
      "id": "gaEbhdF61-IM",
      "execution_count": 14,
      "outputs": []
    },
    {
      "cell_type": "code",
      "source": [
        "# Train the model\n",
        "nn.fit(X_train, y_train, epochs=50)"
      ],
      "metadata": {
        "id": "jK3JJTyG1-LQ",
        "colab": {
          "base_uri": "https://localhost:8080/"
        },
        "outputId": "7dfaaebf-07e5-462f-dd07-595419bbc2c6"
      },
      "id": "jK3JJTyG1-LQ",
      "execution_count": 15,
      "outputs": [
        {
          "output_type": "stream",
          "name": "stdout",
          "text": [
            "Epoch 1/50\n",
            "4/4 [==============================] - 1s 6ms/step - loss: 0.6128 - accuracy: 0.6810\n",
            "Epoch 2/50\n",
            "4/4 [==============================] - 0s 4ms/step - loss: 0.5142 - accuracy: 0.7586\n",
            "Epoch 3/50\n",
            "4/4 [==============================] - 0s 4ms/step - loss: 0.4697 - accuracy: 0.7931\n",
            "Epoch 4/50\n",
            "4/4 [==============================] - 0s 4ms/step - loss: 0.4395 - accuracy: 0.7931\n",
            "Epoch 5/50\n",
            "4/4 [==============================] - 0s 4ms/step - loss: 0.4247 - accuracy: 0.7845\n",
            "Epoch 6/50\n",
            "4/4 [==============================] - 0s 6ms/step - loss: 0.4111 - accuracy: 0.8103\n",
            "Epoch 7/50\n",
            "4/4 [==============================] - 0s 4ms/step - loss: 0.4047 - accuracy: 0.8362\n",
            "Epoch 8/50\n",
            "4/4 [==============================] - 0s 4ms/step - loss: 0.3992 - accuracy: 0.8276\n",
            "Epoch 9/50\n",
            "4/4 [==============================] - 0s 5ms/step - loss: 0.3927 - accuracy: 0.8190\n",
            "Epoch 10/50\n",
            "4/4 [==============================] - 0s 4ms/step - loss: 0.3888 - accuracy: 0.8276\n",
            "Epoch 11/50\n",
            "4/4 [==============================] - 0s 4ms/step - loss: 0.3848 - accuracy: 0.8276\n",
            "Epoch 12/50\n",
            "4/4 [==============================] - 0s 5ms/step - loss: 0.3808 - accuracy: 0.8190\n",
            "Epoch 13/50\n",
            "4/4 [==============================] - 0s 6ms/step - loss: 0.3755 - accuracy: 0.8276\n",
            "Epoch 14/50\n",
            "4/4 [==============================] - 0s 4ms/step - loss: 0.3710 - accuracy: 0.8276\n",
            "Epoch 15/50\n",
            "4/4 [==============================] - 0s 4ms/step - loss: 0.3686 - accuracy: 0.8276\n",
            "Epoch 16/50\n",
            "4/4 [==============================] - 0s 4ms/step - loss: 0.3658 - accuracy: 0.8276\n",
            "Epoch 17/50\n",
            "4/4 [==============================] - 0s 5ms/step - loss: 0.3653 - accuracy: 0.8362\n",
            "Epoch 18/50\n",
            "4/4 [==============================] - 0s 4ms/step - loss: 0.3625 - accuracy: 0.8362\n",
            "Epoch 19/50\n",
            "4/4 [==============================] - 0s 4ms/step - loss: 0.3590 - accuracy: 0.8362\n",
            "Epoch 20/50\n",
            "4/4 [==============================] - 0s 5ms/step - loss: 0.3576 - accuracy: 0.8362\n",
            "Epoch 21/50\n",
            "4/4 [==============================] - 0s 4ms/step - loss: 0.3575 - accuracy: 0.8362\n",
            "Epoch 22/50\n",
            "4/4 [==============================] - 0s 5ms/step - loss: 0.3541 - accuracy: 0.8362\n",
            "Epoch 23/50\n",
            "4/4 [==============================] - 0s 4ms/step - loss: 0.3528 - accuracy: 0.8362\n",
            "Epoch 24/50\n",
            "4/4 [==============================] - 0s 4ms/step - loss: 0.3509 - accuracy: 0.8362\n",
            "Epoch 25/50\n",
            "4/4 [==============================] - 0s 4ms/step - loss: 0.3490 - accuracy: 0.8362\n",
            "Epoch 26/50\n",
            "4/4 [==============================] - 0s 4ms/step - loss: 0.3477 - accuracy: 0.8362\n",
            "Epoch 27/50\n",
            "4/4 [==============================] - 0s 4ms/step - loss: 0.3465 - accuracy: 0.8362\n",
            "Epoch 28/50\n",
            "4/4 [==============================] - 0s 5ms/step - loss: 0.3454 - accuracy: 0.8448\n",
            "Epoch 29/50\n",
            "4/4 [==============================] - 0s 4ms/step - loss: 0.3440 - accuracy: 0.8362\n",
            "Epoch 30/50\n",
            "4/4 [==============================] - 0s 4ms/step - loss: 0.3438 - accuracy: 0.8362\n",
            "Epoch 31/50\n",
            "4/4 [==============================] - 0s 4ms/step - loss: 0.3418 - accuracy: 0.8362\n",
            "Epoch 32/50\n",
            "4/4 [==============================] - 0s 5ms/step - loss: 0.3407 - accuracy: 0.8362\n",
            "Epoch 33/50\n",
            "4/4 [==============================] - 0s 4ms/step - loss: 0.3407 - accuracy: 0.8362\n",
            "Epoch 34/50\n",
            "4/4 [==============================] - 0s 5ms/step - loss: 0.3382 - accuracy: 0.8448\n",
            "Epoch 35/50\n",
            "4/4 [==============================] - 0s 5ms/step - loss: 0.3381 - accuracy: 0.8448\n",
            "Epoch 36/50\n",
            "4/4 [==============================] - 0s 4ms/step - loss: 0.3358 - accuracy: 0.8448\n",
            "Epoch 37/50\n",
            "4/4 [==============================] - 0s 3ms/step - loss: 0.3363 - accuracy: 0.8362\n",
            "Epoch 38/50\n",
            "4/4 [==============================] - 0s 4ms/step - loss: 0.3345 - accuracy: 0.8448\n",
            "Epoch 39/50\n",
            "4/4 [==============================] - 0s 4ms/step - loss: 0.3319 - accuracy: 0.8534\n",
            "Epoch 40/50\n",
            "4/4 [==============================] - 0s 4ms/step - loss: 0.3322 - accuracy: 0.8448\n",
            "Epoch 41/50\n",
            "4/4 [==============================] - 0s 4ms/step - loss: 0.3299 - accuracy: 0.8534\n",
            "Epoch 42/50\n",
            "4/4 [==============================] - 0s 4ms/step - loss: 0.3303 - accuracy: 0.8534\n",
            "Epoch 43/50\n",
            "4/4 [==============================] - 0s 4ms/step - loss: 0.3293 - accuracy: 0.8534\n",
            "Epoch 44/50\n",
            "4/4 [==============================] - 0s 4ms/step - loss: 0.3265 - accuracy: 0.8534\n",
            "Epoch 45/50\n",
            "4/4 [==============================] - 0s 4ms/step - loss: 0.3256 - accuracy: 0.8534\n",
            "Epoch 46/50\n",
            "4/4 [==============================] - 0s 6ms/step - loss: 0.3231 - accuracy: 0.8534\n",
            "Epoch 47/50\n",
            "4/4 [==============================] - 0s 4ms/step - loss: 0.3216 - accuracy: 0.8534\n",
            "Epoch 48/50\n",
            "4/4 [==============================] - 0s 4ms/step - loss: 0.3204 - accuracy: 0.8534\n",
            "Epoch 49/50\n",
            "4/4 [==============================] - 0s 4ms/step - loss: 0.3190 - accuracy: 0.8534\n",
            "Epoch 50/50\n",
            "4/4 [==============================] - 0s 4ms/step - loss: 0.3174 - accuracy: 0.8534\n"
          ]
        },
        {
          "output_type": "execute_result",
          "data": {
            "text/plain": [
              "<keras.callbacks.History at 0x7833220d8b80>"
            ]
          },
          "metadata": {},
          "execution_count": 15
        }
      ]
    },
    {
      "cell_type": "code",
      "source": [
        "# Evaluate the model using the test data\n",
        "model_loss, model_accuracy = nn.evaluate(X_test,y_test,verbose=2)\n",
        "print(f\"Loss: {model_loss}, Accuracy: {model_accuracy}\")"
      ],
      "metadata": {
        "id": "MbGwGGB21-No",
        "colab": {
          "base_uri": "https://localhost:8080/"
        },
        "outputId": "e6a0bf2e-296b-4b9e-b472-d66a15eb4135"
      },
      "id": "MbGwGGB21-No",
      "execution_count": 16,
      "outputs": [
        {
          "output_type": "stream",
          "name": "stdout",
          "text": [
            "1/1 - 0s - loss: 0.6392 - accuracy: 0.8333 - 158ms/epoch - 158ms/step\n",
            "Loss: 0.6391882300376892, Accuracy: 0.8333333134651184\n"
          ]
        }
      ]
    },
    {
      "cell_type": "code",
      "source": [
        "# Predict on the test data\n",
        "y_pred = nn.predict(X_test)\n",
        "\n",
        "# The predictions will be in the form of probabilities, so you might want to round them to get class labels (0 or 1)\n",
        "y_pred_class = y_pred.round()\n",
        "# Calculate the accuracy of the predictions\n",
        "correct_predictions = (y_pred_class == y_test.reshape(-1, 1)).sum()\n",
        "total_samples = len(y_test)\n",
        "accuracy = correct_predictions / total_samples\n",
        "print(\"Accuracy:\", accuracy)\n",
        "\n",
        "# Print the classification report\n",
        "print(\"Classification Report:\")\n",
        "print(classification_report(y_test, y_pred_class))"
      ],
      "metadata": {
        "id": "c3NJIuL31-RF",
        "colab": {
          "base_uri": "https://localhost:8080/"
        },
        "outputId": "6b4e06b4-e09a-4e79-f481-4958311088c7"
      },
      "id": "c3NJIuL31-RF",
      "execution_count": 17,
      "outputs": [
        {
          "output_type": "stream",
          "name": "stdout",
          "text": [
            "1/1 [==============================] - 0s 89ms/step\n",
            "Accuracy: 0.8333333333333334\n",
            "Classification Report:\n",
            "              precision    recall  f1-score   support\n",
            "\n",
            "           0       0.89      0.85      0.87        20\n",
            "           1       0.73      0.80      0.76        10\n",
            "\n",
            "    accuracy                           0.83        30\n",
            "   macro avg       0.81      0.82      0.82        30\n",
            "weighted avg       0.84      0.83      0.84        30\n",
            "\n"
          ]
        }
      ]
    },
    {
      "cell_type": "code",
      "source": [],
      "metadata": {
        "id": "K878cmYH1-XP"
      },
      "id": "K878cmYH1-XP",
      "execution_count": null,
      "outputs": []
    }
  ],
  "metadata": {
    "kernelspec": {
      "display_name": "Python 3 (ipykernel)",
      "language": "python",
      "name": "python3"
    },
    "language_info": {
      "codemirror_mode": {
        "name": "ipython",
        "version": 3
      },
      "file_extension": ".py",
      "mimetype": "text/x-python",
      "name": "python",
      "nbconvert_exporter": "python",
      "pygments_lexer": "ipython3",
      "version": "3.10.9"
    },
    "colab": {
      "provenance": []
    }
  },
  "nbformat": 4,
  "nbformat_minor": 5
}