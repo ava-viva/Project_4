{
  "cells": [
    {
      "cell_type": "code",
      "execution_count": 18,
      "id": "718e76bd",
      "metadata": {
        "id": "718e76bd"
      },
      "outputs": [],
      "source": [
        "#importing libraries\n",
        "import pandas as pd\n",
        "import numpy as np\n",
        "from sklearn.model_selection import train_test_split\n",
        "from sklearn.preprocessing import StandardScaler\n",
        "from sklearn.metrics import classification_report\n",
        "import tensorflow as tf"
      ]
    },
    {
      "cell_type": "code",
      "execution_count": 2,
      "id": "b888e571",
      "metadata": {
        "id": "b888e571"
      },
      "outputs": [],
      "source": [
        "# Read the databases from resources\n",
        "health_factors = pd.read_csv(\"/content/Health_Risk_factors.csv\")\n",
        "freshwater = pd.read_csv(\"/content/freshwater.csv\")\n",
        "health_system=pd.read_csv(\"/content/health_system.csv\")"
      ]
    },
    {
      "cell_type": "code",
      "execution_count": null,
      "id": "e0680b68",
      "metadata": {
        "id": "e0680b68"
      },
      "outputs": [],
      "source": [
        "# Renaming columns in the health_factors DataFrame to more descriptive names\n",
        "hf = health_factors.rename(columns={\n",
        "    \"Prevalence of smoking Male % of adults 2016\": \"smoking_male\",\n",
        "    \"Prevalence of smoking female % of adults 2016\": \"smoking_female\",\n",
        "    \"Incidence of tuberculosis  per 100,000 people 2018\": \"tuberculosis\",\n",
        "    \"Prevalence of HIV Total % of population ages 15-49 2018\": \"HIV_total\",\n",
        "    \"Prevalence of HIV Women's share of population ages 15+ living with HIV % 2018\": \"HIV_female\",\n",
        "    \"Prevalence of HIV Youth, Male % of population ages 15-24 2018\": \"HIV_youth_male\",\n",
        "    \"Prevalence of HIV Youth, Female % of population ages 15-24 2018\": \"HIV_youth_female\",\n",
        "    \"Antiretroviral therapy coverage  % of people living with HIV 2018\": \"HIV_therapy\",\n",
        "    \"Prevalence of diabetes  % of population ages 20 to 79 2019\": \"diabetes\",\n",
        "    \"Cause of death Communicable diseases and maternal, prenatal, and nutrition conditions % of population 2016\":\"Diseases_death\",\n",
        "    \"Cause of death Non-communicable diseases % of population 2016\": \"Chronic_death\",\n",
        "    \"Cause of death Injuries % of population 2016\": \"injury_death\"\n",
        "})\n",
        "\n",
        "hf.columns\n"
      ]
    },
    {
      "cell_type": "code",
      "execution_count": 8,
      "id": "68b704db",
      "metadata": {
        "id": "68b704db"
      },
      "outputs": [],
      "source": [
        "df=hf[['HIV_total','HIV_female', 'HIV_youth_male','HIV_youth_female', 'Diseases_death', 'tuberculosis' ]]\n",
        "df1 = df.replace('', np.nan)  # Replace empty values with NaN\n",
        "df1 = df.dropna()  # Drop rows with any missing values\n"
      ]
    },
    {
      "cell_type": "code",
      "source": [
        "df1[\"tuberculosis\"].describe()\n"
      ],
      "metadata": {
        "colab": {
          "base_uri": "https://localhost:8080/"
        },
        "id": "Frh1B7nCuOuH",
        "outputId": "139a18ab-3ed8-46cb-a031-df0d934bdec5"
      },
      "id": "Frh1B7nCuOuH",
      "execution_count": 9,
      "outputs": [
        {
          "output_type": "execute_result",
          "data": {
            "text/plain": [
              "count    137.000000\n",
              "mean     125.824818\n",
              "std      145.431048\n",
              "min        0.000000\n",
              "25%       18.000000\n",
              "50%       68.000000\n",
              "75%      182.000000\n",
              "max      611.000000\n",
              "Name: tuberculosis, dtype: float64"
            ]
          },
          "metadata": {},
          "execution_count": 9
        }
      ]
    },
    {
      "cell_type": "code",
      "source": [
        "# Define the thresholds for classification\n",
        "threshold_HIV_total = 1.5\n",
        "threshold_HIV_female = 45\n",
        "threshold_HIV_youth_male = 0.4\n",
        "threshold_HIV_youth_female = 0.3\n",
        "threshold_Diseases_death = 45\n",
        "threshold_tuberculosis = 100\n",
        "# Create a DataFrame to store the classified values\n",
        "df2 = pd.DataFrame()\n",
        "# Classify every columns\n",
        "df2['HIV_total'] = [0 if i < threshold_HIV_total else 1 for i in df1['HIV_total']]\n",
        "df2['HIV_female'] = [0 if i < threshold_HIV_female else 1 for i in df1['HIV_female']]\n",
        "df2['HIV_youth_male'] = [0 if i < threshold_HIV_youth_male else 1 for i in df1['HIV_youth_male']]\n",
        "df2['HIV_youth_female'] = [0 if i < threshold_HIV_youth_female else 1 for i in df1['HIV_youth_female']]\n",
        "df2['Diseases_death'] = [0 if i < threshold_Diseases_death else 1 for i in df1['Diseases_death']]\n",
        "df2['tuberculosis'] = [0 if i < threshold_tuberculosis else 1 for i in df1['tuberculosis']]\n",
        "# Extract X and y\n",
        "y = df2['tuberculosis'].values\n",
        "X = df2.drop(columns='tuberculosis').values\n"
      ],
      "metadata": {
        "id": "8Wy7cnofKW-P"
      },
      "id": "8Wy7cnofKW-P",
      "execution_count": 11,
      "outputs": []
    },
    {
      "cell_type": "code",
      "source": [
        "# Split the preprocessed data into a training and testing dataset\n",
        "X_train, X_test, y_train, y_test = train_test_split(X, y,random_state=1,stratify=y,test_size=.2)"
      ],
      "metadata": {
        "id": "u9iJtXr_1RgI"
      },
      "id": "u9iJtXr_1RgI",
      "execution_count": 12,
      "outputs": []
    },
    {
      "cell_type": "code",
      "source": [
        "# Define the model - deep neural net, i.e., the number of input features and hidden nodes for each layer.\n",
        "l_1 = 50\n",
        "l_2 = 50\n",
        "input_features = len(X_train[0])\n",
        "nn = tf.keras.models.Sequential()\n",
        "\n",
        "# First hidden layer\n",
        "nn.add(tf.keras.layers.Dense(units=l_1, input_dim = input_features, activation = \"tanh\"))\n",
        "\n",
        "# Second hidden layer\n",
        "nn.add(tf.keras.layers.Dense(units=l_2, activation = \"LeakyReLU\"))\n",
        "\n",
        "# Output layer\n",
        "nn.add(tf.keras.layers.Dense(units=1, activation=\"sigmoid\"))\n",
        "\n",
        "# Check the structure of the model\n",
        "nn.summary()"
      ],
      "metadata": {
        "colab": {
          "base_uri": "https://localhost:8080/"
        },
        "id": "H6A-MirP04IM",
        "outputId": "39a7181b-38c5-4260-a71c-b15a0ac35e27"
      },
      "id": "H6A-MirP04IM",
      "execution_count": 13,
      "outputs": [
        {
          "output_type": "stream",
          "name": "stdout",
          "text": [
            "Model: \"sequential\"\n",
            "_________________________________________________________________\n",
            " Layer (type)                Output Shape              Param #   \n",
            "=================================================================\n",
            " dense (Dense)               (None, 50)                300       \n",
            "                                                                 \n",
            " dense_1 (Dense)             (None, 50)                2550      \n",
            "                                                                 \n",
            " dense_2 (Dense)             (None, 1)                 51        \n",
            "                                                                 \n",
            "=================================================================\n",
            "Total params: 2,901\n",
            "Trainable params: 2,901\n",
            "Non-trainable params: 0\n",
            "_________________________________________________________________\n"
          ]
        }
      ]
    },
    {
      "cell_type": "code",
      "source": [
        "# Compile the model\n",
        "nn.compile(loss=\"binary_crossentropy\", optimizer=\"adam\", metrics=[\"accuracy\"])"
      ],
      "metadata": {
        "id": "gaEbhdF61-IM"
      },
      "id": "gaEbhdF61-IM",
      "execution_count": 14,
      "outputs": []
    },
    {
      "cell_type": "code",
      "source": [
        "# Train the model\n",
        "nn.fit(X_train, y_train, epochs=50)"
      ],
      "metadata": {
        "id": "jK3JJTyG1-LQ",
        "colab": {
          "base_uri": "https://localhost:8080/"
        },
        "outputId": "de031b71-c94e-4eba-9e2c-8ae28006ee30"
      },
      "id": "jK3JJTyG1-LQ",
      "execution_count": 15,
      "outputs": [
        {
          "output_type": "stream",
          "name": "stdout",
          "text": [
            "Epoch 1/50\n",
            "4/4 [==============================] - 2s 25ms/step - loss: 0.6784 - accuracy: 0.7615\n",
            "Epoch 2/50\n",
            "4/4 [==============================] - 0s 18ms/step - loss: 0.6407 - accuracy: 0.7982\n",
            "Epoch 3/50\n",
            "4/4 [==============================] - 0s 14ms/step - loss: 0.6181 - accuracy: 0.7982\n",
            "Epoch 4/50\n",
            "4/4 [==============================] - 0s 13ms/step - loss: 0.6022 - accuracy: 0.7982\n",
            "Epoch 5/50\n",
            "4/4 [==============================] - 0s 18ms/step - loss: 0.5917 - accuracy: 0.7982\n",
            "Epoch 6/50\n",
            "4/4 [==============================] - 0s 17ms/step - loss: 0.5798 - accuracy: 0.7982\n",
            "Epoch 7/50\n",
            "4/4 [==============================] - 0s 14ms/step - loss: 0.5686 - accuracy: 0.7982\n",
            "Epoch 8/50\n",
            "4/4 [==============================] - 0s 10ms/step - loss: 0.5551 - accuracy: 0.7982\n",
            "Epoch 9/50\n",
            "4/4 [==============================] - 0s 11ms/step - loss: 0.5429 - accuracy: 0.7982\n",
            "Epoch 10/50\n",
            "4/4 [==============================] - 0s 10ms/step - loss: 0.5304 - accuracy: 0.7982\n",
            "Epoch 11/50\n",
            "4/4 [==============================] - 0s 19ms/step - loss: 0.5189 - accuracy: 0.7982\n",
            "Epoch 12/50\n",
            "4/4 [==============================] - 0s 24ms/step - loss: 0.5057 - accuracy: 0.7982\n",
            "Epoch 13/50\n",
            "4/4 [==============================] - 0s 11ms/step - loss: 0.4950 - accuracy: 0.7890\n",
            "Epoch 14/50\n",
            "4/4 [==============================] - 0s 12ms/step - loss: 0.4841 - accuracy: 0.7890\n",
            "Epoch 15/50\n",
            "4/4 [==============================] - 0s 8ms/step - loss: 0.4734 - accuracy: 0.7890\n",
            "Epoch 16/50\n",
            "4/4 [==============================] - 0s 5ms/step - loss: 0.4624 - accuracy: 0.7982\n",
            "Epoch 17/50\n",
            "4/4 [==============================] - 0s 5ms/step - loss: 0.4543 - accuracy: 0.8073\n",
            "Epoch 18/50\n",
            "4/4 [==============================] - 0s 5ms/step - loss: 0.4477 - accuracy: 0.8073\n",
            "Epoch 19/50\n",
            "4/4 [==============================] - 0s 5ms/step - loss: 0.4412 - accuracy: 0.8073\n",
            "Epoch 20/50\n",
            "4/4 [==============================] - 0s 6ms/step - loss: 0.4351 - accuracy: 0.8073\n",
            "Epoch 21/50\n",
            "4/4 [==============================] - 0s 6ms/step - loss: 0.4323 - accuracy: 0.8165\n",
            "Epoch 22/50\n",
            "4/4 [==============================] - 0s 6ms/step - loss: 0.4303 - accuracy: 0.8073\n",
            "Epoch 23/50\n",
            "4/4 [==============================] - 0s 9ms/step - loss: 0.4282 - accuracy: 0.8257\n",
            "Epoch 24/50\n",
            "4/4 [==============================] - 0s 9ms/step - loss: 0.4270 - accuracy: 0.8257\n",
            "Epoch 25/50\n",
            "4/4 [==============================] - 0s 7ms/step - loss: 0.4272 - accuracy: 0.8073\n",
            "Epoch 26/50\n",
            "4/4 [==============================] - 0s 7ms/step - loss: 0.4249 - accuracy: 0.8165\n",
            "Epoch 27/50\n",
            "4/4 [==============================] - 0s 7ms/step - loss: 0.4251 - accuracy: 0.8257\n",
            "Epoch 28/50\n",
            "4/4 [==============================] - 0s 6ms/step - loss: 0.4257 - accuracy: 0.8257\n",
            "Epoch 29/50\n",
            "4/4 [==============================] - 0s 8ms/step - loss: 0.4246 - accuracy: 0.8257\n",
            "Epoch 30/50\n",
            "4/4 [==============================] - 0s 8ms/step - loss: 0.4236 - accuracy: 0.8257\n",
            "Epoch 31/50\n",
            "4/4 [==============================] - 0s 10ms/step - loss: 0.4221 - accuracy: 0.8257\n",
            "Epoch 32/50\n",
            "4/4 [==============================] - 0s 7ms/step - loss: 0.4222 - accuracy: 0.8257\n",
            "Epoch 33/50\n",
            "4/4 [==============================] - 0s 7ms/step - loss: 0.4214 - accuracy: 0.8257\n",
            "Epoch 34/50\n",
            "4/4 [==============================] - 0s 7ms/step - loss: 0.4203 - accuracy: 0.8440\n",
            "Epoch 35/50\n",
            "4/4 [==============================] - 0s 6ms/step - loss: 0.4202 - accuracy: 0.8349\n",
            "Epoch 36/50\n",
            "4/4 [==============================] - 0s 8ms/step - loss: 0.4191 - accuracy: 0.8257\n",
            "Epoch 37/50\n",
            "4/4 [==============================] - 0s 8ms/step - loss: 0.4186 - accuracy: 0.8257\n",
            "Epoch 38/50\n",
            "4/4 [==============================] - 0s 6ms/step - loss: 0.4189 - accuracy: 0.8257\n",
            "Epoch 39/50\n",
            "4/4 [==============================] - 0s 6ms/step - loss: 0.4175 - accuracy: 0.8257\n",
            "Epoch 40/50\n",
            "4/4 [==============================] - 0s 7ms/step - loss: 0.4169 - accuracy: 0.8349\n",
            "Epoch 41/50\n",
            "4/4 [==============================] - 0s 15ms/step - loss: 0.4183 - accuracy: 0.8349\n",
            "Epoch 42/50\n",
            "4/4 [==============================] - 0s 8ms/step - loss: 0.4177 - accuracy: 0.8349\n",
            "Epoch 43/50\n",
            "4/4 [==============================] - 0s 9ms/step - loss: 0.4166 - accuracy: 0.8349\n",
            "Epoch 44/50\n",
            "4/4 [==============================] - 0s 6ms/step - loss: 0.4163 - accuracy: 0.8165\n",
            "Epoch 45/50\n",
            "4/4 [==============================] - 0s 5ms/step - loss: 0.4164 - accuracy: 0.8257\n",
            "Epoch 46/50\n",
            "4/4 [==============================] - 0s 6ms/step - loss: 0.4156 - accuracy: 0.8257\n",
            "Epoch 47/50\n",
            "4/4 [==============================] - 0s 8ms/step - loss: 0.4153 - accuracy: 0.8257\n",
            "Epoch 48/50\n",
            "4/4 [==============================] - 0s 9ms/step - loss: 0.4148 - accuracy: 0.8440\n",
            "Epoch 49/50\n",
            "4/4 [==============================] - 0s 10ms/step - loss: 0.4149 - accuracy: 0.8349\n",
            "Epoch 50/50\n",
            "4/4 [==============================] - 0s 7ms/step - loss: 0.4157 - accuracy: 0.8349\n"
          ]
        },
        {
          "output_type": "execute_result",
          "data": {
            "text/plain": [
              "<keras.callbacks.History at 0x7eec3ad8c5e0>"
            ]
          },
          "metadata": {},
          "execution_count": 15
        }
      ]
    },
    {
      "cell_type": "code",
      "source": [
        "# Evaluate the model using the test data\n",
        "model_loss, model_accuracy = nn.evaluate(X_test,y_test,verbose=2)\n",
        "print(f\"Loss: {model_loss}, Accuracy: {model_accuracy}\")"
      ],
      "metadata": {
        "id": "MbGwGGB21-No",
        "colab": {
          "base_uri": "https://localhost:8080/"
        },
        "outputId": "d186d517-c30d-42a6-a53b-f0de701ca25a"
      },
      "id": "MbGwGGB21-No",
      "execution_count": 16,
      "outputs": [
        {
          "output_type": "stream",
          "name": "stdout",
          "text": [
            "1/1 - 0s - loss: 0.6042 - accuracy: 0.7500 - 161ms/epoch - 161ms/step\n",
            "Loss: 0.6042343974113464, Accuracy: 0.75\n"
          ]
        }
      ]
    },
    {
      "cell_type": "code",
      "source": [
        "# Predict on the test data\n",
        "y_pred = nn.predict(X_test)\n",
        "\n",
        "# The predictions will be in the form of probabilities, so you might want to round them to get class labels (0 or 1)\n",
        "y_pred_class = y_pred.round()\n",
        "# Calculate the accuracy of the predictions\n",
        "correct_predictions = (y_pred_class == y_test.reshape(-1, 1)).sum()\n",
        "total_samples = len(y_test)\n",
        "accuracy = correct_predictions / total_samples\n",
        "print(\"Accuracy:\", accuracy)\n",
        "\n",
        "# Print the classification report\n",
        "print(\"Classification Report:\")\n",
        "print(classification_report(y_test, y_pred_class))"
      ],
      "metadata": {
        "id": "c3NJIuL31-RF",
        "colab": {
          "base_uri": "https://localhost:8080/"
        },
        "outputId": "73eab384-2c07-4107-da95-1d4d735dee08"
      },
      "id": "c3NJIuL31-RF",
      "execution_count": 19,
      "outputs": [
        {
          "output_type": "stream",
          "name": "stdout",
          "text": [
            "1/1 [==============================] - 0s 22ms/step\n",
            "Accuracy: 0.75\n",
            "Classification Report:\n",
            "              precision    recall  f1-score   support\n",
            "\n",
            "           0       0.75      0.88      0.81        17\n",
            "           1       0.75      0.55      0.63        11\n",
            "\n",
            "    accuracy                           0.75        28\n",
            "   macro avg       0.75      0.71      0.72        28\n",
            "weighted avg       0.75      0.75      0.74        28\n",
            "\n"
          ]
        }
      ]
    },
    {
      "cell_type": "code",
      "source": [],
      "metadata": {
        "id": "qm_hS7w41-UG"
      },
      "id": "qm_hS7w41-UG",
      "execution_count": null,
      "outputs": []
    },
    {
      "cell_type": "code",
      "source": [],
      "metadata": {
        "id": "K878cmYH1-XP"
      },
      "id": "K878cmYH1-XP",
      "execution_count": null,
      "outputs": []
    },
    {
      "cell_type": "code",
      "source": [],
      "metadata": {
        "id": "oEWuAluB1-aX"
      },
      "id": "oEWuAluB1-aX",
      "execution_count": null,
      "outputs": []
    },
    {
      "cell_type": "code",
      "source": [],
      "metadata": {
        "id": "kc1jEVV51-c9"
      },
      "id": "kc1jEVV51-c9",
      "execution_count": null,
      "outputs": []
    },
    {
      "cell_type": "code",
      "source": [],
      "metadata": {
        "id": "7jVE4f3G1-fm"
      },
      "id": "7jVE4f3G1-fm",
      "execution_count": null,
      "outputs": []
    },
    {
      "cell_type": "code",
      "source": [],
      "metadata": {
        "id": "BE0IS4I51-id"
      },
      "id": "BE0IS4I51-id",
      "execution_count": null,
      "outputs": []
    },
    {
      "cell_type": "code",
      "source": [],
      "metadata": {
        "id": "3znETXuJ1-lZ"
      },
      "id": "3znETXuJ1-lZ",
      "execution_count": null,
      "outputs": []
    },
    {
      "cell_type": "code",
      "source": [],
      "metadata": {
        "id": "ik3fD8Jn1-oN"
      },
      "id": "ik3fD8Jn1-oN",
      "execution_count": null,
      "outputs": []
    },
    {
      "cell_type": "code",
      "source": [],
      "metadata": {
        "id": "LzsvMvb51-rP"
      },
      "id": "LzsvMvb51-rP",
      "execution_count": null,
      "outputs": []
    },
    {
      "cell_type": "code",
      "source": [],
      "metadata": {
        "id": "tJ-JoZAU1-uI"
      },
      "id": "tJ-JoZAU1-uI",
      "execution_count": null,
      "outputs": []
    }
  ],
  "metadata": {
    "kernelspec": {
      "display_name": "Python 3 (ipykernel)",
      "language": "python",
      "name": "python3"
    },
    "language_info": {
      "codemirror_mode": {
        "name": "ipython",
        "version": 3
      },
      "file_extension": ".py",
      "mimetype": "text/x-python",
      "name": "python",
      "nbconvert_exporter": "python",
      "pygments_lexer": "ipython3",
      "version": "3.10.9"
    },
    "colab": {
      "provenance": []
    }
  },
  "nbformat": 4,
  "nbformat_minor": 5
}